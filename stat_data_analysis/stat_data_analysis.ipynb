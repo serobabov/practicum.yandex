{
  "nbformat": 4,
  "nbformat_minor": 0,
  "metadata": {
    "colab": {
      "provenance": [],
      "toc_visible": true
    },
    "kernelspec": {
      "name": "python3",
      "display_name": "Python 3"
    },
    "language_info": {
      "name": "python"
    }
  },
  "cells": [
    {
      "cell_type": "markdown",
      "source": [
        "# Статистика ускорения: исследование данных сервиса GoFast\n",
        "## Цель\n",
        "Проект посвящён статистическому анализу данных для сервиса аренды самокатов GoFast, который предоставляет пользователям возможность арендовать самокаты через мобильное приложение. Цель исследования — изучить поведение пользователей, выявить ключевые тенденции и проверить гипотезы, которые могут способствовать развитию бизнеса и увеличению доходности.\n",
        "\n",
        "Чтобы совершать поездки по городу, пользователи сервиса GoFast пользуются мобильным приложением. Сервисом можно пользоваться:\n",
        "*   без подписки\n",
        "  *   абонентская плата отсутствует;\n",
        "  *   стоимость одной минуты поездки — 8 рублей;\n",
        "  *   стоимость старта (начала поездки) — 50 рублей;\n",
        "\n",
        "*   с подпиской Ultra\n",
        "  *   абонентская плата — 199 рублей в месяц;\n",
        "  *   стоимость одной минуты поездки — 6 рублей;\n",
        "  *   стоимость старта — бесплатно.\n",
        "\n",
        "## Шаги\n",
        "В рамках проекта будут выполнены следующие шаги:\n",
        "\n",
        "1.   **Загрузка данных**: Данные о пользователях, их поездках и подписках будут загружены из предоставленных источников и преобразованы в удобный для анализа формат.\n",
        "\n",
        "2.   **Предобработка данных**: Будут проверены и обработаны пропуски и дубликаты, а также произведена подготовка данных (например, преобразование формата даты).\n",
        "\n",
        "3.   **Исследовательский анализ данных**: Выполняется анализ характеристик пользователей и поездок, включая частоту встречаемости городов, распределение подписок, возрастные группы, расстояние и продолжительность поездок.\n",
        "\n",
        "4.   **Объединение данных**: Данные о пользователях, поездках и подписках будут объединены для получения целостной картины. Также будут выделены отдельные категории данных для подписчиков и пользователей без подписки.\n",
        "\n",
        "5.   **Подсчёт выручки**: Расчёт помесячной выручки от пользователей с учётом особенностей оплаты для подписчиков и тех, кто использует сервис без подписки.\n",
        "\n",
        "6.   **Проверка гипотез**: Проведение статистических тестов для ответа на ключевые вопросы:\n",
        "  *   Тратят ли подписчики больше времени на поездки?\n",
        "  *   Превышает ли средняя длина поездки подписчиков оптимальную для оборудования?\n",
        "  *   Превышает ли помесячная выручка от подписчиков выручку от пользователей без подписки?\n",
        "\n",
        "7.   **Анализ распределений**: Определение минимального количества промокодов для обеспечения выполнения маркетинговых целей и оценка вероятности открытия push-уведомлений.\n",
        "\n",
        "## Описание данных\n",
        "\n",
        "**Пользователи**\n",
        "*   `user_id` - уникальный идентификатор пользователя\n",
        "*   `name` - имя пользователя\n",
        "*   `age` - возраст\n",
        "*   `city` - город\n",
        "*   `subscription_type` - тип подписки (free, ultra)\n",
        "\n",
        "**Поездки**\n",
        "*   `user_id` - уникальный идентификатор пользователя\n",
        "*   `distance` - расстояние, которое пользователь проехал в текущей сессии (в метрах)\n",
        "*   `duration` - продолжительность сессии (в минутах) — время с того момента, как пользователь нажал кнопку «Начать поездку» до момента, как он нажал кнопку «Завершить поездку»\n",
        "*   `date` - дата совершения поездки\n",
        "\n",
        "**Подписки**\n",
        "*   `subscription_type` - тип подписки\n",
        "*   `minute_price` - стоимость одной минуты поездки по данной подписке\n",
        "*   `start_ride_price` - стоимость начала поездки\n",
        "*   `subscription_fee` - стоимость ежемесячного платежа"
      ],
      "metadata": {
        "id": "93KzM3p7g-my"
      }
    },
    {
      "cell_type": "markdown",
      "source": [
        "# Загрузка данных и подготовка их к анализу"
      ],
      "metadata": {
        "id": "o02htRIAUYKt"
      }
    },
    {
      "cell_type": "code",
      "execution_count": null,
      "metadata": {
        "id": "CgjleNtKUOME"
      },
      "outputs": [],
      "source": [
        "# Импорт библиотек\n",
        "import pandas as pd\n",
        "import matplotlib.pyplot as plt\n",
        "import seaborn as sns\n",
        "import numpy as np\n",
        "\n",
        "from scipy.stats import ttest_ind\n",
        "from scipy.stats import binom\n",
        "from scipy.stats import norm\n",
        "from scipy.stats import ttest_1samp"
      ]
    },
    {
      "cell_type": "code",
      "source": [
        "# Загрузка данных\n",
        "try:\n",
        "    # Попытка прочитать файл из Google Drive\n",
        "    path = '/content/drive/MyDrive/Colab Notebooks/Обучение/Яндекс Практикум/Аналитик данных (расширенный)/Dataset/stat_data_analysis/'\n",
        "    df_users = pd.read_csv(path + 'users_go.csv')\n",
        "    df_rides = pd.read_csv(path + 'rides_go.csv')\n",
        "    df_subs = pd.read_csv(path + 'subscriptions_go.csv')\n",
        "except FileNotFoundError:\n",
        "    # Если файлы не найдены, загрузка с сервера Yandex\n",
        "    print(\"Файлы не найдены на Google Drive, загрузка с сервера Yandex\")\n",
        "    try:\n",
        "        df_users = pd.read_csv('https://code.s3.yandex.net/datasets/users_go.csv')\n",
        "        df_rides = pd.read_csv('https://code.s3.yandex.net/datasets/rides_go.csv')\n",
        "        df_subs = pd.read_csv('https://code.s3.yandex.net/datasets/subscriptions_go.csv')\n",
        "    except Exception as e:\n",
        "        # Обработка ошибок при загрузке с сервера Yandex\n",
        "        print(f\"Ошибка при загрузке файлов с сервера: {e}\")"
      ],
      "metadata": {
        "id": "kNN2sDVCUqV8"
      },
      "execution_count": null,
      "outputs": []
    },
    {
      "cell_type": "code",
      "source": [
        "# Функция для обзора данных\n",
        "def data_review(data):\n",
        "    display(data.head())\n",
        "    print('------------------------------------------------------------------------------------------------')\n",
        "    print(data.info())\n",
        "    print('------------------------------------------------------------------------------------------------')\n",
        "    print(data.isnull().sum())\n",
        "    print('------------------------------------------------------------------------------------------------')\n",
        "    print(data.duplicated().sum())"
      ],
      "metadata": {
        "id": "c99ldru5V4QL"
      },
      "execution_count": null,
      "outputs": []
    },
    {
      "cell_type": "markdown",
      "source": [
        "## Изучение данных\n",
        "Изучение данных датафреймов с пользователями, поездками и подписками."
      ],
      "metadata": {
        "id": "49n49RVwe9af"
      }
    },
    {
      "cell_type": "code",
      "source": [
        "# Обзор данных в датафрейме 'users_go'\n",
        "data_review(df_users)"
      ],
      "metadata": {
        "colab": {
          "base_uri": "https://localhost:8080/",
          "height": 605
        },
        "id": "7mNUB483fJO-",
        "outputId": "3a371d1e-27b4-4a2b-a234-ba9072af0289"
      },
      "execution_count": null,
      "outputs": [
        {
          "output_type": "display_data",
          "data": {
            "text/plain": [
              "   user_id        name  age            city subscription_type\n",
              "0        1        Кира   22          Тюмень             ultra\n",
              "1        2   Станислав   31            Омск             ultra\n",
              "2        3     Алексей   20          Москва             ultra\n",
              "3        4  Константин   26  Ростов-на-Дону             ultra\n",
              "4        5       Адель   28            Омск             ultra"
            ],
            "text/html": [
              "\n",
              "  <div id=\"df-238d9e93-daf0-4eaf-a435-d99e8d64214d\" class=\"colab-df-container\">\n",
              "    <div>\n",
              "<style scoped>\n",
              "    .dataframe tbody tr th:only-of-type {\n",
              "        vertical-align: middle;\n",
              "    }\n",
              "\n",
              "    .dataframe tbody tr th {\n",
              "        vertical-align: top;\n",
              "    }\n",
              "\n",
              "    .dataframe thead th {\n",
              "        text-align: right;\n",
              "    }\n",
              "</style>\n",
              "<table border=\"1\" class=\"dataframe\">\n",
              "  <thead>\n",
              "    <tr style=\"text-align: right;\">\n",
              "      <th></th>\n",
              "      <th>user_id</th>\n",
              "      <th>name</th>\n",
              "      <th>age</th>\n",
              "      <th>city</th>\n",
              "      <th>subscription_type</th>\n",
              "    </tr>\n",
              "  </thead>\n",
              "  <tbody>\n",
              "    <tr>\n",
              "      <th>0</th>\n",
              "      <td>1</td>\n",
              "      <td>Кира</td>\n",
              "      <td>22</td>\n",
              "      <td>Тюмень</td>\n",
              "      <td>ultra</td>\n",
              "    </tr>\n",
              "    <tr>\n",
              "      <th>1</th>\n",
              "      <td>2</td>\n",
              "      <td>Станислав</td>\n",
              "      <td>31</td>\n",
              "      <td>Омск</td>\n",
              "      <td>ultra</td>\n",
              "    </tr>\n",
              "    <tr>\n",
              "      <th>2</th>\n",
              "      <td>3</td>\n",
              "      <td>Алексей</td>\n",
              "      <td>20</td>\n",
              "      <td>Москва</td>\n",
              "      <td>ultra</td>\n",
              "    </tr>\n",
              "    <tr>\n",
              "      <th>3</th>\n",
              "      <td>4</td>\n",
              "      <td>Константин</td>\n",
              "      <td>26</td>\n",
              "      <td>Ростов-на-Дону</td>\n",
              "      <td>ultra</td>\n",
              "    </tr>\n",
              "    <tr>\n",
              "      <th>4</th>\n",
              "      <td>5</td>\n",
              "      <td>Адель</td>\n",
              "      <td>28</td>\n",
              "      <td>Омск</td>\n",
              "      <td>ultra</td>\n",
              "    </tr>\n",
              "  </tbody>\n",
              "</table>\n",
              "</div>\n",
              "    <div class=\"colab-df-buttons\">\n",
              "\n",
              "  <div class=\"colab-df-container\">\n",
              "    <button class=\"colab-df-convert\" onclick=\"convertToInteractive('df-238d9e93-daf0-4eaf-a435-d99e8d64214d')\"\n",
              "            title=\"Convert this dataframe to an interactive table.\"\n",
              "            style=\"display:none;\">\n",
              "\n",
              "  <svg xmlns=\"http://www.w3.org/2000/svg\" height=\"24px\" viewBox=\"0 -960 960 960\">\n",
              "    <path d=\"M120-120v-720h720v720H120Zm60-500h600v-160H180v160Zm220 220h160v-160H400v160Zm0 220h160v-160H400v160ZM180-400h160v-160H180v160Zm440 0h160v-160H620v160ZM180-180h160v-160H180v160Zm440 0h160v-160H620v160Z\"/>\n",
              "  </svg>\n",
              "    </button>\n",
              "\n",
              "  <style>\n",
              "    .colab-df-container {\n",
              "      display:flex;\n",
              "      gap: 12px;\n",
              "    }\n",
              "\n",
              "    .colab-df-convert {\n",
              "      background-color: #E8F0FE;\n",
              "      border: none;\n",
              "      border-radius: 50%;\n",
              "      cursor: pointer;\n",
              "      display: none;\n",
              "      fill: #1967D2;\n",
              "      height: 32px;\n",
              "      padding: 0 0 0 0;\n",
              "      width: 32px;\n",
              "    }\n",
              "\n",
              "    .colab-df-convert:hover {\n",
              "      background-color: #E2EBFA;\n",
              "      box-shadow: 0px 1px 2px rgba(60, 64, 67, 0.3), 0px 1px 3px 1px rgba(60, 64, 67, 0.15);\n",
              "      fill: #174EA6;\n",
              "    }\n",
              "\n",
              "    .colab-df-buttons div {\n",
              "      margin-bottom: 4px;\n",
              "    }\n",
              "\n",
              "    [theme=dark] .colab-df-convert {\n",
              "      background-color: #3B4455;\n",
              "      fill: #D2E3FC;\n",
              "    }\n",
              "\n",
              "    [theme=dark] .colab-df-convert:hover {\n",
              "      background-color: #434B5C;\n",
              "      box-shadow: 0px 1px 3px 1px rgba(0, 0, 0, 0.15);\n",
              "      filter: drop-shadow(0px 1px 2px rgba(0, 0, 0, 0.3));\n",
              "      fill: #FFFFFF;\n",
              "    }\n",
              "  </style>\n",
              "\n",
              "    <script>\n",
              "      const buttonEl =\n",
              "        document.querySelector('#df-238d9e93-daf0-4eaf-a435-d99e8d64214d button.colab-df-convert');\n",
              "      buttonEl.style.display =\n",
              "        google.colab.kernel.accessAllowed ? 'block' : 'none';\n",
              "\n",
              "      async function convertToInteractive(key) {\n",
              "        const element = document.querySelector('#df-238d9e93-daf0-4eaf-a435-d99e8d64214d');\n",
              "        const dataTable =\n",
              "          await google.colab.kernel.invokeFunction('convertToInteractive',\n",
              "                                                    [key], {});\n",
              "        if (!dataTable) return;\n",
              "\n",
              "        const docLinkHtml = 'Like what you see? Visit the ' +\n",
              "          '<a target=\"_blank\" href=https://colab.research.google.com/notebooks/data_table.ipynb>data table notebook</a>'\n",
              "          + ' to learn more about interactive tables.';\n",
              "        element.innerHTML = '';\n",
              "        dataTable['output_type'] = 'display_data';\n",
              "        await google.colab.output.renderOutput(dataTable, element);\n",
              "        const docLink = document.createElement('div');\n",
              "        docLink.innerHTML = docLinkHtml;\n",
              "        element.appendChild(docLink);\n",
              "      }\n",
              "    </script>\n",
              "  </div>\n",
              "\n",
              "\n",
              "<div id=\"df-2227b6aa-162f-4f6c-976c-7314ea8eb65d\">\n",
              "  <button class=\"colab-df-quickchart\" onclick=\"quickchart('df-2227b6aa-162f-4f6c-976c-7314ea8eb65d')\"\n",
              "            title=\"Suggest charts\"\n",
              "            style=\"display:none;\">\n",
              "\n",
              "<svg xmlns=\"http://www.w3.org/2000/svg\" height=\"24px\"viewBox=\"0 0 24 24\"\n",
              "     width=\"24px\">\n",
              "    <g>\n",
              "        <path d=\"M19 3H5c-1.1 0-2 .9-2 2v14c0 1.1.9 2 2 2h14c1.1 0 2-.9 2-2V5c0-1.1-.9-2-2-2zM9 17H7v-7h2v7zm4 0h-2V7h2v10zm4 0h-2v-4h2v4z\"/>\n",
              "    </g>\n",
              "</svg>\n",
              "  </button>\n",
              "\n",
              "<style>\n",
              "  .colab-df-quickchart {\n",
              "      --bg-color: #E8F0FE;\n",
              "      --fill-color: #1967D2;\n",
              "      --hover-bg-color: #E2EBFA;\n",
              "      --hover-fill-color: #174EA6;\n",
              "      --disabled-fill-color: #AAA;\n",
              "      --disabled-bg-color: #DDD;\n",
              "  }\n",
              "\n",
              "  [theme=dark] .colab-df-quickchart {\n",
              "      --bg-color: #3B4455;\n",
              "      --fill-color: #D2E3FC;\n",
              "      --hover-bg-color: #434B5C;\n",
              "      --hover-fill-color: #FFFFFF;\n",
              "      --disabled-bg-color: #3B4455;\n",
              "      --disabled-fill-color: #666;\n",
              "  }\n",
              "\n",
              "  .colab-df-quickchart {\n",
              "    background-color: var(--bg-color);\n",
              "    border: none;\n",
              "    border-radius: 50%;\n",
              "    cursor: pointer;\n",
              "    display: none;\n",
              "    fill: var(--fill-color);\n",
              "    height: 32px;\n",
              "    padding: 0;\n",
              "    width: 32px;\n",
              "  }\n",
              "\n",
              "  .colab-df-quickchart:hover {\n",
              "    background-color: var(--hover-bg-color);\n",
              "    box-shadow: 0 1px 2px rgba(60, 64, 67, 0.3), 0 1px 3px 1px rgba(60, 64, 67, 0.15);\n",
              "    fill: var(--button-hover-fill-color);\n",
              "  }\n",
              "\n",
              "  .colab-df-quickchart-complete:disabled,\n",
              "  .colab-df-quickchart-complete:disabled:hover {\n",
              "    background-color: var(--disabled-bg-color);\n",
              "    fill: var(--disabled-fill-color);\n",
              "    box-shadow: none;\n",
              "  }\n",
              "\n",
              "  .colab-df-spinner {\n",
              "    border: 2px solid var(--fill-color);\n",
              "    border-color: transparent;\n",
              "    border-bottom-color: var(--fill-color);\n",
              "    animation:\n",
              "      spin 1s steps(1) infinite;\n",
              "  }\n",
              "\n",
              "  @keyframes spin {\n",
              "    0% {\n",
              "      border-color: transparent;\n",
              "      border-bottom-color: var(--fill-color);\n",
              "      border-left-color: var(--fill-color);\n",
              "    }\n",
              "    20% {\n",
              "      border-color: transparent;\n",
              "      border-left-color: var(--fill-color);\n",
              "      border-top-color: var(--fill-color);\n",
              "    }\n",
              "    30% {\n",
              "      border-color: transparent;\n",
              "      border-left-color: var(--fill-color);\n",
              "      border-top-color: var(--fill-color);\n",
              "      border-right-color: var(--fill-color);\n",
              "    }\n",
              "    40% {\n",
              "      border-color: transparent;\n",
              "      border-right-color: var(--fill-color);\n",
              "      border-top-color: var(--fill-color);\n",
              "    }\n",
              "    60% {\n",
              "      border-color: transparent;\n",
              "      border-right-color: var(--fill-color);\n",
              "    }\n",
              "    80% {\n",
              "      border-color: transparent;\n",
              "      border-right-color: var(--fill-color);\n",
              "      border-bottom-color: var(--fill-color);\n",
              "    }\n",
              "    90% {\n",
              "      border-color: transparent;\n",
              "      border-bottom-color: var(--fill-color);\n",
              "    }\n",
              "  }\n",
              "</style>\n",
              "\n",
              "  <script>\n",
              "    async function quickchart(key) {\n",
              "      const quickchartButtonEl =\n",
              "        document.querySelector('#' + key + ' button');\n",
              "      quickchartButtonEl.disabled = true;  // To prevent multiple clicks.\n",
              "      quickchartButtonEl.classList.add('colab-df-spinner');\n",
              "      try {\n",
              "        const charts = await google.colab.kernel.invokeFunction(\n",
              "            'suggestCharts', [key], {});\n",
              "      } catch (error) {\n",
              "        console.error('Error during call to suggestCharts:', error);\n",
              "      }\n",
              "      quickchartButtonEl.classList.remove('colab-df-spinner');\n",
              "      quickchartButtonEl.classList.add('colab-df-quickchart-complete');\n",
              "    }\n",
              "    (() => {\n",
              "      let quickchartButtonEl =\n",
              "        document.querySelector('#df-2227b6aa-162f-4f6c-976c-7314ea8eb65d button');\n",
              "      quickchartButtonEl.style.display =\n",
              "        google.colab.kernel.accessAllowed ? 'block' : 'none';\n",
              "    })();\n",
              "  </script>\n",
              "</div>\n",
              "    </div>\n",
              "  </div>\n"
            ],
            "application/vnd.google.colaboratory.intrinsic+json": {
              "type": "dataframe",
              "summary": "{\n  \"name\": \"data_review(df_users)\",\n  \"rows\": 5,\n  \"fields\": [\n    {\n      \"column\": \"user_id\",\n      \"properties\": {\n        \"dtype\": \"number\",\n        \"std\": 1,\n        \"min\": 1,\n        \"max\": 5,\n        \"num_unique_values\": 5,\n        \"samples\": [\n          2,\n          5,\n          3\n        ],\n        \"semantic_type\": \"\",\n        \"description\": \"\"\n      }\n    },\n    {\n      \"column\": \"name\",\n      \"properties\": {\n        \"dtype\": \"string\",\n        \"num_unique_values\": 5,\n        \"samples\": [\n          \"\\u0421\\u0442\\u0430\\u043d\\u0438\\u0441\\u043b\\u0430\\u0432\",\n          \"\\u0410\\u0434\\u0435\\u043b\\u044c\",\n          \"\\u0410\\u043b\\u0435\\u043a\\u0441\\u0435\\u0439\"\n        ],\n        \"semantic_type\": \"\",\n        \"description\": \"\"\n      }\n    },\n    {\n      \"column\": \"age\",\n      \"properties\": {\n        \"dtype\": \"number\",\n        \"std\": 4,\n        \"min\": 20,\n        \"max\": 31,\n        \"num_unique_values\": 5,\n        \"samples\": [\n          31,\n          28,\n          20\n        ],\n        \"semantic_type\": \"\",\n        \"description\": \"\"\n      }\n    },\n    {\n      \"column\": \"city\",\n      \"properties\": {\n        \"dtype\": \"string\",\n        \"num_unique_values\": 4,\n        \"samples\": [\n          \"\\u041e\\u043c\\u0441\\u043a\",\n          \"\\u0420\\u043e\\u0441\\u0442\\u043e\\u0432-\\u043d\\u0430-\\u0414\\u043e\\u043d\\u0443\",\n          \"\\u0422\\u044e\\u043c\\u0435\\u043d\\u044c\"\n        ],\n        \"semantic_type\": \"\",\n        \"description\": \"\"\n      }\n    },\n    {\n      \"column\": \"subscription_type\",\n      \"properties\": {\n        \"dtype\": \"category\",\n        \"num_unique_values\": 1,\n        \"samples\": [\n          \"ultra\"\n        ],\n        \"semantic_type\": \"\",\n        \"description\": \"\"\n      }\n    }\n  ]\n}"
            }
          },
          "metadata": {}
        },
        {
          "output_type": "stream",
          "name": "stdout",
          "text": [
            "------------------------------------------------------------------------------------------------\n",
            "<class 'pandas.core.frame.DataFrame'>\n",
            "RangeIndex: 1565 entries, 0 to 1564\n",
            "Data columns (total 5 columns):\n",
            " #   Column             Non-Null Count  Dtype \n",
            "---  ------             --------------  ----- \n",
            " 0   user_id            1565 non-null   int64 \n",
            " 1   name               1565 non-null   object\n",
            " 2   age                1565 non-null   int64 \n",
            " 3   city               1565 non-null   object\n",
            " 4   subscription_type  1565 non-null   object\n",
            "dtypes: int64(2), object(3)\n",
            "memory usage: 61.3+ KB\n",
            "None\n",
            "------------------------------------------------------------------------------------------------\n",
            "user_id              0\n",
            "name                 0\n",
            "age                  0\n",
            "city                 0\n",
            "subscription_type    0\n",
            "dtype: int64\n",
            "------------------------------------------------------------------------------------------------\n",
            "31\n"
          ]
        }
      ]
    },
    {
      "cell_type": "markdown",
      "source": [
        "### Результаты анализа данных с пользователями\n",
        "*   **Пропуски**: Пропусков в данных нет.\n",
        "*   **Дубликаты**: В данных обнаружен 31 дубликат - их необходимо удалить.\n",
        "*   **Типы данных**: Все типы данных корректны.\n",
        "  "
      ],
      "metadata": {
        "id": "QD9CGeKynJGG"
      }
    },
    {
      "cell_type": "code",
      "source": [
        "# Обзор данных в датафрейме 'rides_go'\n",
        "data_review(df_rides)"
      ],
      "metadata": {
        "colab": {
          "base_uri": "https://localhost:8080/",
          "height": 571
        },
        "id": "sQo6fFAwpb5n",
        "outputId": "5743640b-1e8a-4783-da62-d423ee0bc957"
      },
      "execution_count": null,
      "outputs": [
        {
          "output_type": "display_data",
          "data": {
            "text/plain": [
              "   user_id     distance   duration        date\n",
              "0        1  4409.919140  25.599769  2021-01-01\n",
              "1        1  2617.592153  15.816871  2021-01-18\n",
              "2        1   754.159807   6.232113  2021-04-20\n",
              "3        1  2694.783254  18.511000  2021-08-11\n",
              "4        1  4028.687306  26.265803  2021-08-28"
            ],
            "text/html": [
              "\n",
              "  <div id=\"df-655a922f-08be-48f9-8dad-e07b68f0f867\" class=\"colab-df-container\">\n",
              "    <div>\n",
              "<style scoped>\n",
              "    .dataframe tbody tr th:only-of-type {\n",
              "        vertical-align: middle;\n",
              "    }\n",
              "\n",
              "    .dataframe tbody tr th {\n",
              "        vertical-align: top;\n",
              "    }\n",
              "\n",
              "    .dataframe thead th {\n",
              "        text-align: right;\n",
              "    }\n",
              "</style>\n",
              "<table border=\"1\" class=\"dataframe\">\n",
              "  <thead>\n",
              "    <tr style=\"text-align: right;\">\n",
              "      <th></th>\n",
              "      <th>user_id</th>\n",
              "      <th>distance</th>\n",
              "      <th>duration</th>\n",
              "      <th>date</th>\n",
              "    </tr>\n",
              "  </thead>\n",
              "  <tbody>\n",
              "    <tr>\n",
              "      <th>0</th>\n",
              "      <td>1</td>\n",
              "      <td>4409.919140</td>\n",
              "      <td>25.599769</td>\n",
              "      <td>2021-01-01</td>\n",
              "    </tr>\n",
              "    <tr>\n",
              "      <th>1</th>\n",
              "      <td>1</td>\n",
              "      <td>2617.592153</td>\n",
              "      <td>15.816871</td>\n",
              "      <td>2021-01-18</td>\n",
              "    </tr>\n",
              "    <tr>\n",
              "      <th>2</th>\n",
              "      <td>1</td>\n",
              "      <td>754.159807</td>\n",
              "      <td>6.232113</td>\n",
              "      <td>2021-04-20</td>\n",
              "    </tr>\n",
              "    <tr>\n",
              "      <th>3</th>\n",
              "      <td>1</td>\n",
              "      <td>2694.783254</td>\n",
              "      <td>18.511000</td>\n",
              "      <td>2021-08-11</td>\n",
              "    </tr>\n",
              "    <tr>\n",
              "      <th>4</th>\n",
              "      <td>1</td>\n",
              "      <td>4028.687306</td>\n",
              "      <td>26.265803</td>\n",
              "      <td>2021-08-28</td>\n",
              "    </tr>\n",
              "  </tbody>\n",
              "</table>\n",
              "</div>\n",
              "    <div class=\"colab-df-buttons\">\n",
              "\n",
              "  <div class=\"colab-df-container\">\n",
              "    <button class=\"colab-df-convert\" onclick=\"convertToInteractive('df-655a922f-08be-48f9-8dad-e07b68f0f867')\"\n",
              "            title=\"Convert this dataframe to an interactive table.\"\n",
              "            style=\"display:none;\">\n",
              "\n",
              "  <svg xmlns=\"http://www.w3.org/2000/svg\" height=\"24px\" viewBox=\"0 -960 960 960\">\n",
              "    <path d=\"M120-120v-720h720v720H120Zm60-500h600v-160H180v160Zm220 220h160v-160H400v160Zm0 220h160v-160H400v160ZM180-400h160v-160H180v160Zm440 0h160v-160H620v160ZM180-180h160v-160H180v160Zm440 0h160v-160H620v160Z\"/>\n",
              "  </svg>\n",
              "    </button>\n",
              "\n",
              "  <style>\n",
              "    .colab-df-container {\n",
              "      display:flex;\n",
              "      gap: 12px;\n",
              "    }\n",
              "\n",
              "    .colab-df-convert {\n",
              "      background-color: #E8F0FE;\n",
              "      border: none;\n",
              "      border-radius: 50%;\n",
              "      cursor: pointer;\n",
              "      display: none;\n",
              "      fill: #1967D2;\n",
              "      height: 32px;\n",
              "      padding: 0 0 0 0;\n",
              "      width: 32px;\n",
              "    }\n",
              "\n",
              "    .colab-df-convert:hover {\n",
              "      background-color: #E2EBFA;\n",
              "      box-shadow: 0px 1px 2px rgba(60, 64, 67, 0.3), 0px 1px 3px 1px rgba(60, 64, 67, 0.15);\n",
              "      fill: #174EA6;\n",
              "    }\n",
              "\n",
              "    .colab-df-buttons div {\n",
              "      margin-bottom: 4px;\n",
              "    }\n",
              "\n",
              "    [theme=dark] .colab-df-convert {\n",
              "      background-color: #3B4455;\n",
              "      fill: #D2E3FC;\n",
              "    }\n",
              "\n",
              "    [theme=dark] .colab-df-convert:hover {\n",
              "      background-color: #434B5C;\n",
              "      box-shadow: 0px 1px 3px 1px rgba(0, 0, 0, 0.15);\n",
              "      filter: drop-shadow(0px 1px 2px rgba(0, 0, 0, 0.3));\n",
              "      fill: #FFFFFF;\n",
              "    }\n",
              "  </style>\n",
              "\n",
              "    <script>\n",
              "      const buttonEl =\n",
              "        document.querySelector('#df-655a922f-08be-48f9-8dad-e07b68f0f867 button.colab-df-convert');\n",
              "      buttonEl.style.display =\n",
              "        google.colab.kernel.accessAllowed ? 'block' : 'none';\n",
              "\n",
              "      async function convertToInteractive(key) {\n",
              "        const element = document.querySelector('#df-655a922f-08be-48f9-8dad-e07b68f0f867');\n",
              "        const dataTable =\n",
              "          await google.colab.kernel.invokeFunction('convertToInteractive',\n",
              "                                                    [key], {});\n",
              "        if (!dataTable) return;\n",
              "\n",
              "        const docLinkHtml = 'Like what you see? Visit the ' +\n",
              "          '<a target=\"_blank\" href=https://colab.research.google.com/notebooks/data_table.ipynb>data table notebook</a>'\n",
              "          + ' to learn more about interactive tables.';\n",
              "        element.innerHTML = '';\n",
              "        dataTable['output_type'] = 'display_data';\n",
              "        await google.colab.output.renderOutput(dataTable, element);\n",
              "        const docLink = document.createElement('div');\n",
              "        docLink.innerHTML = docLinkHtml;\n",
              "        element.appendChild(docLink);\n",
              "      }\n",
              "    </script>\n",
              "  </div>\n",
              "\n",
              "\n",
              "<div id=\"df-6ec30944-80da-4901-89f9-8483b0e25381\">\n",
              "  <button class=\"colab-df-quickchart\" onclick=\"quickchart('df-6ec30944-80da-4901-89f9-8483b0e25381')\"\n",
              "            title=\"Suggest charts\"\n",
              "            style=\"display:none;\">\n",
              "\n",
              "<svg xmlns=\"http://www.w3.org/2000/svg\" height=\"24px\"viewBox=\"0 0 24 24\"\n",
              "     width=\"24px\">\n",
              "    <g>\n",
              "        <path d=\"M19 3H5c-1.1 0-2 .9-2 2v14c0 1.1.9 2 2 2h14c1.1 0 2-.9 2-2V5c0-1.1-.9-2-2-2zM9 17H7v-7h2v7zm4 0h-2V7h2v10zm4 0h-2v-4h2v4z\"/>\n",
              "    </g>\n",
              "</svg>\n",
              "  </button>\n",
              "\n",
              "<style>\n",
              "  .colab-df-quickchart {\n",
              "      --bg-color: #E8F0FE;\n",
              "      --fill-color: #1967D2;\n",
              "      --hover-bg-color: #E2EBFA;\n",
              "      --hover-fill-color: #174EA6;\n",
              "      --disabled-fill-color: #AAA;\n",
              "      --disabled-bg-color: #DDD;\n",
              "  }\n",
              "\n",
              "  [theme=dark] .colab-df-quickchart {\n",
              "      --bg-color: #3B4455;\n",
              "      --fill-color: #D2E3FC;\n",
              "      --hover-bg-color: #434B5C;\n",
              "      --hover-fill-color: #FFFFFF;\n",
              "      --disabled-bg-color: #3B4455;\n",
              "      --disabled-fill-color: #666;\n",
              "  }\n",
              "\n",
              "  .colab-df-quickchart {\n",
              "    background-color: var(--bg-color);\n",
              "    border: none;\n",
              "    border-radius: 50%;\n",
              "    cursor: pointer;\n",
              "    display: none;\n",
              "    fill: var(--fill-color);\n",
              "    height: 32px;\n",
              "    padding: 0;\n",
              "    width: 32px;\n",
              "  }\n",
              "\n",
              "  .colab-df-quickchart:hover {\n",
              "    background-color: var(--hover-bg-color);\n",
              "    box-shadow: 0 1px 2px rgba(60, 64, 67, 0.3), 0 1px 3px 1px rgba(60, 64, 67, 0.15);\n",
              "    fill: var(--button-hover-fill-color);\n",
              "  }\n",
              "\n",
              "  .colab-df-quickchart-complete:disabled,\n",
              "  .colab-df-quickchart-complete:disabled:hover {\n",
              "    background-color: var(--disabled-bg-color);\n",
              "    fill: var(--disabled-fill-color);\n",
              "    box-shadow: none;\n",
              "  }\n",
              "\n",
              "  .colab-df-spinner {\n",
              "    border: 2px solid var(--fill-color);\n",
              "    border-color: transparent;\n",
              "    border-bottom-color: var(--fill-color);\n",
              "    animation:\n",
              "      spin 1s steps(1) infinite;\n",
              "  }\n",
              "\n",
              "  @keyframes spin {\n",
              "    0% {\n",
              "      border-color: transparent;\n",
              "      border-bottom-color: var(--fill-color);\n",
              "      border-left-color: var(--fill-color);\n",
              "    }\n",
              "    20% {\n",
              "      border-color: transparent;\n",
              "      border-left-color: var(--fill-color);\n",
              "      border-top-color: var(--fill-color);\n",
              "    }\n",
              "    30% {\n",
              "      border-color: transparent;\n",
              "      border-left-color: var(--fill-color);\n",
              "      border-top-color: var(--fill-color);\n",
              "      border-right-color: var(--fill-color);\n",
              "    }\n",
              "    40% {\n",
              "      border-color: transparent;\n",
              "      border-right-color: var(--fill-color);\n",
              "      border-top-color: var(--fill-color);\n",
              "    }\n",
              "    60% {\n",
              "      border-color: transparent;\n",
              "      border-right-color: var(--fill-color);\n",
              "    }\n",
              "    80% {\n",
              "      border-color: transparent;\n",
              "      border-right-color: var(--fill-color);\n",
              "      border-bottom-color: var(--fill-color);\n",
              "    }\n",
              "    90% {\n",
              "      border-color: transparent;\n",
              "      border-bottom-color: var(--fill-color);\n",
              "    }\n",
              "  }\n",
              "</style>\n",
              "\n",
              "  <script>\n",
              "    async function quickchart(key) {\n",
              "      const quickchartButtonEl =\n",
              "        document.querySelector('#' + key + ' button');\n",
              "      quickchartButtonEl.disabled = true;  // To prevent multiple clicks.\n",
              "      quickchartButtonEl.classList.add('colab-df-spinner');\n",
              "      try {\n",
              "        const charts = await google.colab.kernel.invokeFunction(\n",
              "            'suggestCharts', [key], {});\n",
              "      } catch (error) {\n",
              "        console.error('Error during call to suggestCharts:', error);\n",
              "      }\n",
              "      quickchartButtonEl.classList.remove('colab-df-spinner');\n",
              "      quickchartButtonEl.classList.add('colab-df-quickchart-complete');\n",
              "    }\n",
              "    (() => {\n",
              "      let quickchartButtonEl =\n",
              "        document.querySelector('#df-6ec30944-80da-4901-89f9-8483b0e25381 button');\n",
              "      quickchartButtonEl.style.display =\n",
              "        google.colab.kernel.accessAllowed ? 'block' : 'none';\n",
              "    })();\n",
              "  </script>\n",
              "</div>\n",
              "    </div>\n",
              "  </div>\n"
            ],
            "application/vnd.google.colaboratory.intrinsic+json": {
              "type": "dataframe",
              "summary": "{\n  \"name\": \"data_review(df_rides)\",\n  \"rows\": 5,\n  \"fields\": [\n    {\n      \"column\": \"user_id\",\n      \"properties\": {\n        \"dtype\": \"number\",\n        \"std\": 0,\n        \"min\": 1,\n        \"max\": 1,\n        \"num_unique_values\": 1,\n        \"samples\": [\n          1\n        ],\n        \"semantic_type\": \"\",\n        \"description\": \"\"\n      }\n    },\n    {\n      \"column\": \"distance\",\n      \"properties\": {\n        \"dtype\": \"number\",\n        \"std\": 1438.774113305551,\n        \"min\": 754.1598069611837,\n        \"max\": 4409.919140196136,\n        \"num_unique_values\": 5,\n        \"samples\": [\n          2617.5921534552563\n        ],\n        \"semantic_type\": \"\",\n        \"description\": \"\"\n      }\n    },\n    {\n      \"column\": \"duration\",\n      \"properties\": {\n        \"dtype\": \"number\",\n        \"std\": 8.191667157656862,\n        \"min\": 6.232113458405072,\n        \"max\": 26.265802740711653,\n        \"num_unique_values\": 5,\n        \"samples\": [\n          15.816871452122792\n        ],\n        \"semantic_type\": \"\",\n        \"description\": \"\"\n      }\n    },\n    {\n      \"column\": \"date\",\n      \"properties\": {\n        \"dtype\": \"object\",\n        \"num_unique_values\": 5,\n        \"samples\": [\n          \"2021-01-18\"\n        ],\n        \"semantic_type\": \"\",\n        \"description\": \"\"\n      }\n    }\n  ]\n}"
            }
          },
          "metadata": {}
        },
        {
          "output_type": "stream",
          "name": "stdout",
          "text": [
            "------------------------------------------------------------------------------------------------\n",
            "<class 'pandas.core.frame.DataFrame'>\n",
            "RangeIndex: 18068 entries, 0 to 18067\n",
            "Data columns (total 4 columns):\n",
            " #   Column    Non-Null Count  Dtype  \n",
            "---  ------    --------------  -----  \n",
            " 0   user_id   18068 non-null  int64  \n",
            " 1   distance  18068 non-null  float64\n",
            " 2   duration  18068 non-null  float64\n",
            " 3   date      18068 non-null  object \n",
            "dtypes: float64(2), int64(1), object(1)\n",
            "memory usage: 564.8+ KB\n",
            "None\n",
            "------------------------------------------------------------------------------------------------\n",
            "user_id     0\n",
            "distance    0\n",
            "duration    0\n",
            "date        0\n",
            "dtype: int64\n",
            "------------------------------------------------------------------------------------------------\n",
            "0\n"
          ]
        }
      ]
    },
    {
      "cell_type": "markdown",
      "source": [
        "### Результаты анализа данных с поездками\n",
        "*   **Пропуски**: Пропусков в данных нет.\n",
        "*   **Дубликаты**: Дубликатов в данных нет.\n",
        "*   **Типы данных**: Столбец `date` имеет тип данных 'object' - необходимо преобразовать в формат 'datetime' для корректной работы с датами."
      ],
      "metadata": {
        "id": "6oGRtav2qE3f"
      }
    },
    {
      "cell_type": "code",
      "source": [
        "# Обзор данных в датафрейме 'subscriptions_go'\n",
        "data_review(df_subs)"
      ],
      "metadata": {
        "colab": {
          "base_uri": "https://localhost:8080/",
          "height": 477
        },
        "id": "xeVPBOd6q36h",
        "outputId": "f309fdea-ee86-4aaa-c652-e8edddaca621"
      },
      "execution_count": null,
      "outputs": [
        {
          "output_type": "display_data",
          "data": {
            "text/plain": [
              "  subscription_type  minute_price  start_ride_price  subscription_fee\n",
              "0              free             8                50                 0\n",
              "1             ultra             6                 0               199"
            ],
            "text/html": [
              "\n",
              "  <div id=\"df-fc098866-781d-48c3-8c48-8c344863f814\" class=\"colab-df-container\">\n",
              "    <div>\n",
              "<style scoped>\n",
              "    .dataframe tbody tr th:only-of-type {\n",
              "        vertical-align: middle;\n",
              "    }\n",
              "\n",
              "    .dataframe tbody tr th {\n",
              "        vertical-align: top;\n",
              "    }\n",
              "\n",
              "    .dataframe thead th {\n",
              "        text-align: right;\n",
              "    }\n",
              "</style>\n",
              "<table border=\"1\" class=\"dataframe\">\n",
              "  <thead>\n",
              "    <tr style=\"text-align: right;\">\n",
              "      <th></th>\n",
              "      <th>subscription_type</th>\n",
              "      <th>minute_price</th>\n",
              "      <th>start_ride_price</th>\n",
              "      <th>subscription_fee</th>\n",
              "    </tr>\n",
              "  </thead>\n",
              "  <tbody>\n",
              "    <tr>\n",
              "      <th>0</th>\n",
              "      <td>free</td>\n",
              "      <td>8</td>\n",
              "      <td>50</td>\n",
              "      <td>0</td>\n",
              "    </tr>\n",
              "    <tr>\n",
              "      <th>1</th>\n",
              "      <td>ultra</td>\n",
              "      <td>6</td>\n",
              "      <td>0</td>\n",
              "      <td>199</td>\n",
              "    </tr>\n",
              "  </tbody>\n",
              "</table>\n",
              "</div>\n",
              "    <div class=\"colab-df-buttons\">\n",
              "\n",
              "  <div class=\"colab-df-container\">\n",
              "    <button class=\"colab-df-convert\" onclick=\"convertToInteractive('df-fc098866-781d-48c3-8c48-8c344863f814')\"\n",
              "            title=\"Convert this dataframe to an interactive table.\"\n",
              "            style=\"display:none;\">\n",
              "\n",
              "  <svg xmlns=\"http://www.w3.org/2000/svg\" height=\"24px\" viewBox=\"0 -960 960 960\">\n",
              "    <path d=\"M120-120v-720h720v720H120Zm60-500h600v-160H180v160Zm220 220h160v-160H400v160Zm0 220h160v-160H400v160ZM180-400h160v-160H180v160Zm440 0h160v-160H620v160ZM180-180h160v-160H180v160Zm440 0h160v-160H620v160Z\"/>\n",
              "  </svg>\n",
              "    </button>\n",
              "\n",
              "  <style>\n",
              "    .colab-df-container {\n",
              "      display:flex;\n",
              "      gap: 12px;\n",
              "    }\n",
              "\n",
              "    .colab-df-convert {\n",
              "      background-color: #E8F0FE;\n",
              "      border: none;\n",
              "      border-radius: 50%;\n",
              "      cursor: pointer;\n",
              "      display: none;\n",
              "      fill: #1967D2;\n",
              "      height: 32px;\n",
              "      padding: 0 0 0 0;\n",
              "      width: 32px;\n",
              "    }\n",
              "\n",
              "    .colab-df-convert:hover {\n",
              "      background-color: #E2EBFA;\n",
              "      box-shadow: 0px 1px 2px rgba(60, 64, 67, 0.3), 0px 1px 3px 1px rgba(60, 64, 67, 0.15);\n",
              "      fill: #174EA6;\n",
              "    }\n",
              "\n",
              "    .colab-df-buttons div {\n",
              "      margin-bottom: 4px;\n",
              "    }\n",
              "\n",
              "    [theme=dark] .colab-df-convert {\n",
              "      background-color: #3B4455;\n",
              "      fill: #D2E3FC;\n",
              "    }\n",
              "\n",
              "    [theme=dark] .colab-df-convert:hover {\n",
              "      background-color: #434B5C;\n",
              "      box-shadow: 0px 1px 3px 1px rgba(0, 0, 0, 0.15);\n",
              "      filter: drop-shadow(0px 1px 2px rgba(0, 0, 0, 0.3));\n",
              "      fill: #FFFFFF;\n",
              "    }\n",
              "  </style>\n",
              "\n",
              "    <script>\n",
              "      const buttonEl =\n",
              "        document.querySelector('#df-fc098866-781d-48c3-8c48-8c344863f814 button.colab-df-convert');\n",
              "      buttonEl.style.display =\n",
              "        google.colab.kernel.accessAllowed ? 'block' : 'none';\n",
              "\n",
              "      async function convertToInteractive(key) {\n",
              "        const element = document.querySelector('#df-fc098866-781d-48c3-8c48-8c344863f814');\n",
              "        const dataTable =\n",
              "          await google.colab.kernel.invokeFunction('convertToInteractive',\n",
              "                                                    [key], {});\n",
              "        if (!dataTable) return;\n",
              "\n",
              "        const docLinkHtml = 'Like what you see? Visit the ' +\n",
              "          '<a target=\"_blank\" href=https://colab.research.google.com/notebooks/data_table.ipynb>data table notebook</a>'\n",
              "          + ' to learn more about interactive tables.';\n",
              "        element.innerHTML = '';\n",
              "        dataTable['output_type'] = 'display_data';\n",
              "        await google.colab.output.renderOutput(dataTable, element);\n",
              "        const docLink = document.createElement('div');\n",
              "        docLink.innerHTML = docLinkHtml;\n",
              "        element.appendChild(docLink);\n",
              "      }\n",
              "    </script>\n",
              "  </div>\n",
              "\n",
              "\n",
              "<div id=\"df-b782d5c1-4141-4dd2-a079-e1e3524e8e9e\">\n",
              "  <button class=\"colab-df-quickchart\" onclick=\"quickchart('df-b782d5c1-4141-4dd2-a079-e1e3524e8e9e')\"\n",
              "            title=\"Suggest charts\"\n",
              "            style=\"display:none;\">\n",
              "\n",
              "<svg xmlns=\"http://www.w3.org/2000/svg\" height=\"24px\"viewBox=\"0 0 24 24\"\n",
              "     width=\"24px\">\n",
              "    <g>\n",
              "        <path d=\"M19 3H5c-1.1 0-2 .9-2 2v14c0 1.1.9 2 2 2h14c1.1 0 2-.9 2-2V5c0-1.1-.9-2-2-2zM9 17H7v-7h2v7zm4 0h-2V7h2v10zm4 0h-2v-4h2v4z\"/>\n",
              "    </g>\n",
              "</svg>\n",
              "  </button>\n",
              "\n",
              "<style>\n",
              "  .colab-df-quickchart {\n",
              "      --bg-color: #E8F0FE;\n",
              "      --fill-color: #1967D2;\n",
              "      --hover-bg-color: #E2EBFA;\n",
              "      --hover-fill-color: #174EA6;\n",
              "      --disabled-fill-color: #AAA;\n",
              "      --disabled-bg-color: #DDD;\n",
              "  }\n",
              "\n",
              "  [theme=dark] .colab-df-quickchart {\n",
              "      --bg-color: #3B4455;\n",
              "      --fill-color: #D2E3FC;\n",
              "      --hover-bg-color: #434B5C;\n",
              "      --hover-fill-color: #FFFFFF;\n",
              "      --disabled-bg-color: #3B4455;\n",
              "      --disabled-fill-color: #666;\n",
              "  }\n",
              "\n",
              "  .colab-df-quickchart {\n",
              "    background-color: var(--bg-color);\n",
              "    border: none;\n",
              "    border-radius: 50%;\n",
              "    cursor: pointer;\n",
              "    display: none;\n",
              "    fill: var(--fill-color);\n",
              "    height: 32px;\n",
              "    padding: 0;\n",
              "    width: 32px;\n",
              "  }\n",
              "\n",
              "  .colab-df-quickchart:hover {\n",
              "    background-color: var(--hover-bg-color);\n",
              "    box-shadow: 0 1px 2px rgba(60, 64, 67, 0.3), 0 1px 3px 1px rgba(60, 64, 67, 0.15);\n",
              "    fill: var(--button-hover-fill-color);\n",
              "  }\n",
              "\n",
              "  .colab-df-quickchart-complete:disabled,\n",
              "  .colab-df-quickchart-complete:disabled:hover {\n",
              "    background-color: var(--disabled-bg-color);\n",
              "    fill: var(--disabled-fill-color);\n",
              "    box-shadow: none;\n",
              "  }\n",
              "\n",
              "  .colab-df-spinner {\n",
              "    border: 2px solid var(--fill-color);\n",
              "    border-color: transparent;\n",
              "    border-bottom-color: var(--fill-color);\n",
              "    animation:\n",
              "      spin 1s steps(1) infinite;\n",
              "  }\n",
              "\n",
              "  @keyframes spin {\n",
              "    0% {\n",
              "      border-color: transparent;\n",
              "      border-bottom-color: var(--fill-color);\n",
              "      border-left-color: var(--fill-color);\n",
              "    }\n",
              "    20% {\n",
              "      border-color: transparent;\n",
              "      border-left-color: var(--fill-color);\n",
              "      border-top-color: var(--fill-color);\n",
              "    }\n",
              "    30% {\n",
              "      border-color: transparent;\n",
              "      border-left-color: var(--fill-color);\n",
              "      border-top-color: var(--fill-color);\n",
              "      border-right-color: var(--fill-color);\n",
              "    }\n",
              "    40% {\n",
              "      border-color: transparent;\n",
              "      border-right-color: var(--fill-color);\n",
              "      border-top-color: var(--fill-color);\n",
              "    }\n",
              "    60% {\n",
              "      border-color: transparent;\n",
              "      border-right-color: var(--fill-color);\n",
              "    }\n",
              "    80% {\n",
              "      border-color: transparent;\n",
              "      border-right-color: var(--fill-color);\n",
              "      border-bottom-color: var(--fill-color);\n",
              "    }\n",
              "    90% {\n",
              "      border-color: transparent;\n",
              "      border-bottom-color: var(--fill-color);\n",
              "    }\n",
              "  }\n",
              "</style>\n",
              "\n",
              "  <script>\n",
              "    async function quickchart(key) {\n",
              "      const quickchartButtonEl =\n",
              "        document.querySelector('#' + key + ' button');\n",
              "      quickchartButtonEl.disabled = true;  // To prevent multiple clicks.\n",
              "      quickchartButtonEl.classList.add('colab-df-spinner');\n",
              "      try {\n",
              "        const charts = await google.colab.kernel.invokeFunction(\n",
              "            'suggestCharts', [key], {});\n",
              "      } catch (error) {\n",
              "        console.error('Error during call to suggestCharts:', error);\n",
              "      }\n",
              "      quickchartButtonEl.classList.remove('colab-df-spinner');\n",
              "      quickchartButtonEl.classList.add('colab-df-quickchart-complete');\n",
              "    }\n",
              "    (() => {\n",
              "      let quickchartButtonEl =\n",
              "        document.querySelector('#df-b782d5c1-4141-4dd2-a079-e1e3524e8e9e button');\n",
              "      quickchartButtonEl.style.display =\n",
              "        google.colab.kernel.accessAllowed ? 'block' : 'none';\n",
              "    })();\n",
              "  </script>\n",
              "</div>\n",
              "    </div>\n",
              "  </div>\n"
            ],
            "application/vnd.google.colaboratory.intrinsic+json": {
              "type": "dataframe",
              "summary": "{\n  \"name\": \"data_review(df_subs)\",\n  \"rows\": 2,\n  \"fields\": [\n    {\n      \"column\": \"subscription_type\",\n      \"properties\": {\n        \"dtype\": \"string\",\n        \"num_unique_values\": 2,\n        \"samples\": [\n          \"ultra\",\n          \"free\"\n        ],\n        \"semantic_type\": \"\",\n        \"description\": \"\"\n      }\n    },\n    {\n      \"column\": \"minute_price\",\n      \"properties\": {\n        \"dtype\": \"number\",\n        \"std\": 1,\n        \"min\": 6,\n        \"max\": 8,\n        \"num_unique_values\": 2,\n        \"samples\": [\n          6,\n          8\n        ],\n        \"semantic_type\": \"\",\n        \"description\": \"\"\n      }\n    },\n    {\n      \"column\": \"start_ride_price\",\n      \"properties\": {\n        \"dtype\": \"number\",\n        \"std\": 35,\n        \"min\": 0,\n        \"max\": 50,\n        \"num_unique_values\": 2,\n        \"samples\": [\n          0,\n          50\n        ],\n        \"semantic_type\": \"\",\n        \"description\": \"\"\n      }\n    },\n    {\n      \"column\": \"subscription_fee\",\n      \"properties\": {\n        \"dtype\": \"number\",\n        \"std\": 140,\n        \"min\": 0,\n        \"max\": 199,\n        \"num_unique_values\": 2,\n        \"samples\": [\n          199,\n          0\n        ],\n        \"semantic_type\": \"\",\n        \"description\": \"\"\n      }\n    }\n  ]\n}"
            }
          },
          "metadata": {}
        },
        {
          "output_type": "stream",
          "name": "stdout",
          "text": [
            "------------------------------------------------------------------------------------------------\n",
            "<class 'pandas.core.frame.DataFrame'>\n",
            "RangeIndex: 2 entries, 0 to 1\n",
            "Data columns (total 4 columns):\n",
            " #   Column             Non-Null Count  Dtype \n",
            "---  ------             --------------  ----- \n",
            " 0   subscription_type  2 non-null      object\n",
            " 1   minute_price       2 non-null      int64 \n",
            " 2   start_ride_price   2 non-null      int64 \n",
            " 3   subscription_fee   2 non-null      int64 \n",
            "dtypes: int64(3), object(1)\n",
            "memory usage: 192.0+ bytes\n",
            "None\n",
            "------------------------------------------------------------------------------------------------\n",
            "subscription_type    0\n",
            "minute_price         0\n",
            "start_ride_price     0\n",
            "subscription_fee     0\n",
            "dtype: int64\n",
            "------------------------------------------------------------------------------------------------\n",
            "0\n"
          ]
        }
      ]
    },
    {
      "cell_type": "markdown",
      "source": [
        "### Результаты анализа данных с подписками\n",
        "*   **Пропуски**: Пропусков в данных нет.\n",
        "*   **Дубликаты**: Дубликатов в данных нет.\n",
        "*   **Типы данных**: Все типы данных корректны."
      ],
      "metadata": {
        "id": "-7YrYIixrTba"
      }
    },
    {
      "cell_type": "markdown",
      "source": [
        "## Предобработка данных"
      ],
      "metadata": {
        "id": "p9X1x77Bsa3r"
      }
    },
    {
      "cell_type": "code",
      "source": [
        "# Удаление дубликатов из датафрейма df_users\n",
        "df_users = df_users.drop_duplicates()\n",
        "\n",
        "# Преобразование столбца 'date' в datetime в df_rides\n",
        "df_rides['date'] = pd.to_datetime(df_rides['date'])\n",
        "\n",
        "# Создание нового столбца с номером месяца на основе столбца 'date' в df_rides\n",
        "df_rides['month'] = df_rides['date'].dt.month"
      ],
      "metadata": {
        "id": "7zA6OCzIuIRm"
      },
      "execution_count": null,
      "outputs": []
    },
    {
      "cell_type": "code",
      "source": [
        "# Проверяем период, за который имеются данные в датафрейме df_rides\n",
        "date_range = df_rides['date'].min(), df_rides['date'].max()\n",
        "\n",
        "date_range"
      ],
      "metadata": {
        "colab": {
          "base_uri": "https://localhost:8080/"
        },
        "id": "3qrhIUPOwc1E",
        "outputId": "579bd174-0322-40a8-9caf-6fcfb09362ba"
      },
      "execution_count": null,
      "outputs": [
        {
          "output_type": "execute_result",
          "data": {
            "text/plain": [
              "(Timestamp('2021-01-01 00:00:00'), Timestamp('2021-12-30 00:00:00'))"
            ]
          },
          "metadata": {},
          "execution_count": 38
        }
      ]
    },
    {
      "cell_type": "markdown",
      "source": [
        "Данные о поездках охватывают период с 1 января 2021 года по 30 декабря 2021 года."
      ],
      "metadata": {
        "id": "Z6yS1cxtwlS1"
      }
    },
    {
      "cell_type": "markdown",
      "source": [
        "## Заключение\n",
        "\n",
        "На данном этапе были загружены три датафрейма: `df_users` (информация о пользователях), `df_rides` (данные о поездках) и `df_subs` (данные о подписках). Все таблицы не содержат пропусков, однако в `df_users` были обнаружены дубликаты, которые были удалены. В таблице `df_rides` был преобразован столбец 'date' в формат datetime, а также добавлен новый столбец с номером месяца. В таблице `df_subs` проблем с данными не выявлено."
      ],
      "metadata": {
        "id": "UGTw9_yyvif3"
      }
    },
    {
      "cell_type": "markdown",
      "source": [
        "# Исследовательский анализ данных"
      ],
      "metadata": {
        "id": "3nnur1XQwnVq"
      }
    },
    {
      "cell_type": "markdown",
      "source": [
        "## Город пользователей"
      ],
      "metadata": {
        "id": "9SwuStzj4G0R"
      }
    },
    {
      "cell_type": "code",
      "source": [
        "# Подсчёт количества пользователей в каждом городе\n",
        "city_counts = df_users['city'].value_counts().sort_values(ascending=False)\n",
        "\n",
        "# Построение столбчатой диаграммы\n",
        "plt.figure(figsize=(10, 6))\n",
        "sns.barplot(y=city_counts.index, x=city_counts.values, palette='deep')\n",
        "plt.title('Частота встречаемости городов среди пользователей')\n",
        "plt.xlabel('Количество пользователей')\n",
        "plt.ylabel('Город')\n",
        "plt.show()\n",
        "\n",
        "# Отображение данных в табличном виде\n",
        "city_counts"
      ],
      "metadata": {
        "colab": {
          "base_uri": "https://localhost:8080/",
          "height": 1000
        },
        "id": "hInJQ4QuxgWe",
        "outputId": "46b78408-2acc-4e26-f9b8-11de39cc802f"
      },
      "execution_count": null,
      "outputs": [
        {
          "output_type": "stream",
          "name": "stderr",
          "text": [
            "<ipython-input-39-6d77c041a36e>:6: FutureWarning: \n",
            "\n",
            "Passing `palette` without assigning `hue` is deprecated and will be removed in v0.14.0. Assign the `y` variable to `hue` and set `legend=False` for the same effect.\n",
            "\n",
            "  sns.barplot(y=city_counts.index, x=city_counts.values, palette='deep')\n"
          ]
        },
        {
          "output_type": "display_data",
          "data": {
            "text/plain": [
              "<Figure size 1000x600 with 1 Axes>"
            ],
            "image/png": "[encoded data removed]"
          },
          "metadata": {}
        },
        {
          "output_type": "execute_result",
          "data": {
            "text/plain": [
              "city\n",
              "Пятигорск         219\n",
              "Екатеринбург      204\n",
              "Ростов-на-Дону    198\n",
              "Краснодар         193\n",
              "Сочи              189\n",
              "Омск              183\n",
              "Тюмень            180\n",
              "Москва            168\n",
              "Name: count, dtype: int64"
            ],
            "text/html": [
              "<div>\n",
              "<style scoped>\n",
              "    .dataframe tbody tr th:only-of-type {\n",
              "        vertical-align: middle;\n",
              "    }\n",
              "\n",
              "    .dataframe tbody tr th {\n",
              "        vertical-align: top;\n",
              "    }\n",
              "\n",
              "    .dataframe thead th {\n",
              "        text-align: right;\n",
              "    }\n",
              "</style>\n",
              "<table border=\"1\" class=\"dataframe\">\n",
              "  <thead>\n",
              "    <tr style=\"text-align: right;\">\n",
              "      <th></th>\n",
              "      <th>count</th>\n",
              "    </tr>\n",
              "    <tr>\n",
              "      <th>city</th>\n",
              "      <th></th>\n",
              "    </tr>\n",
              "  </thead>\n",
              "  <tbody>\n",
              "    <tr>\n",
              "      <th>Пятигорск</th>\n",
              "      <td>219</td>\n",
              "    </tr>\n",
              "    <tr>\n",
              "      <th>Екатеринбург</th>\n",
              "      <td>204</td>\n",
              "    </tr>\n",
              "    <tr>\n",
              "      <th>Ростов-на-Дону</th>\n",
              "      <td>198</td>\n",
              "    </tr>\n",
              "    <tr>\n",
              "      <th>Краснодар</th>\n",
              "      <td>193</td>\n",
              "    </tr>\n",
              "    <tr>\n",
              "      <th>Сочи</th>\n",
              "      <td>189</td>\n",
              "    </tr>\n",
              "    <tr>\n",
              "      <th>Омск</th>\n",
              "      <td>183</td>\n",
              "    </tr>\n",
              "    <tr>\n",
              "      <th>Тюмень</th>\n",
              "      <td>180</td>\n",
              "    </tr>\n",
              "    <tr>\n",
              "      <th>Москва</th>\n",
              "      <td>168</td>\n",
              "    </tr>\n",
              "  </tbody>\n",
              "</table>\n",
              "</div><br><label><b>dtype:</b> int64</label>"
            ]
          },
          "metadata": {},
          "execution_count": 39
        }
      ]
    },
    {
      "cell_type": "markdown",
      "source": [
        "Из визуализации видно, что наибольшее количество пользователей наблюдается в Пятигорске, а наименьшее — в Москве."
      ],
      "metadata": {
        "id": "XXGNTljWz4Ag"
      }
    },
    {
      "cell_type": "markdown",
      "source": [
        "## Использование подписки"
      ],
      "metadata": {
        "id": "D-8CtKJS4PUr"
      }
    },
    {
      "cell_type": "code",
      "source": [
        "# Подсчёт количества пользователей с подпиской и без подписки\n",
        "subs_counts = df_users['subscription_type'].value_counts()\n",
        "\n",
        "# Построение диаграммы для соотношения пользователей с подпиской и без подписки\n",
        "plt.figure(figsize=(6, 6))\n",
        "plt.pie(subs_counts, labels=subs_counts.index, autopct='%1.1f%%', startangle=140, colors=['#c44e52', '#55a868'])\n",
        "plt.title('Соотношение пользователей с подпиской и без подписки')\n",
        "plt.show()"
      ],
      "metadata": {
        "colab": {
          "base_uri": "https://localhost:8080/",
          "height": 521
        },
        "id": "Ustcom2w0SpU",
        "outputId": "73d1e29a-4d5e-4ba3-df18-e8cd979ce61b"
      },
      "execution_count": null,
      "outputs": [
        {
          "output_type": "display_data",
          "data": {
            "text/plain": [
              "<Figure size 600x600 with 1 Axes>"
            ],
            "image/png": "[encoded data removed]"
          },
          "metadata": {}
        }
      ]
    },
    {
      "cell_type": "markdown",
      "source": [
        "Из визуализации видно, что большинство пользователей (54.4%) пользуются сервисом без подписки, в то время как 45.6% имеют подписку."
      ],
      "metadata": {
        "id": "39dgQFOJ0nGC"
      }
    },
    {
      "cell_type": "markdown",
      "source": [
        "## Возраст пользователей"
      ],
      "metadata": {
        "id": "aSMNrhbq4XNE"
      }
    },
    {
      "cell_type": "code",
      "source": [
        "# Построение гистограммы для распределения возраста пользователей\n",
        "plt.figure(figsize=(10, 6))\n",
        "sns.histplot(df_users['age'], bins=15, kde=True, color='#64b5cd')\n",
        "plt.title('Распределение возраста пользователей')\n",
        "plt.xlabel('Возраст')\n",
        "plt.ylabel('Количество пользователей')\n",
        "plt.show()\n",
        "\n",
        "# Дополнительный анализ с использованием describe()\n",
        "age_description = df_users['age'].describe()\n",
        "age_description"
      ],
      "metadata": {
        "colab": {
          "base_uri": "https://localhost:8080/",
          "height": 882
        },
        "id": "J9oad2691d3e",
        "outputId": "826d33d7-3bfe-4086-fe47-c1b321541797"
      },
      "execution_count": null,
      "outputs": [
        {
          "output_type": "display_data",
          "data": {
            "text/plain": [
              "<Figure size 1000x600 with 1 Axes>"
            ],
            "image/png": "[encoded data removed]"
          },
          "metadata": {}
        },
        {
          "output_type": "execute_result",
          "data": {
            "text/plain": [
              "count    1534.000000\n",
              "mean       24.903520\n",
              "std         4.572367\n",
              "min        12.000000\n",
              "25%        22.000000\n",
              "50%        25.000000\n",
              "75%        28.000000\n",
              "max        43.000000\n",
              "Name: age, dtype: float64"
            ],
            "text/html": [
              "<div>\n",
              "<style scoped>\n",
              "    .dataframe tbody tr th:only-of-type {\n",
              "        vertical-align: middle;\n",
              "    }\n",
              "\n",
              "    .dataframe tbody tr th {\n",
              "        vertical-align: top;\n",
              "    }\n",
              "\n",
              "    .dataframe thead th {\n",
              "        text-align: right;\n",
              "    }\n",
              "</style>\n",
              "<table border=\"1\" class=\"dataframe\">\n",
              "  <thead>\n",
              "    <tr style=\"text-align: right;\">\n",
              "      <th></th>\n",
              "      <th>age</th>\n",
              "    </tr>\n",
              "  </thead>\n",
              "  <tbody>\n",
              "    <tr>\n",
              "      <th>count</th>\n",
              "      <td>1534.000000</td>\n",
              "    </tr>\n",
              "    <tr>\n",
              "      <th>mean</th>\n",
              "      <td>24.903520</td>\n",
              "    </tr>\n",
              "    <tr>\n",
              "      <th>std</th>\n",
              "      <td>4.572367</td>\n",
              "    </tr>\n",
              "    <tr>\n",
              "      <th>min</th>\n",
              "      <td>12.000000</td>\n",
              "    </tr>\n",
              "    <tr>\n",
              "      <th>25%</th>\n",
              "      <td>22.000000</td>\n",
              "    </tr>\n",
              "    <tr>\n",
              "      <th>50%</th>\n",
              "      <td>25.000000</td>\n",
              "    </tr>\n",
              "    <tr>\n",
              "      <th>75%</th>\n",
              "      <td>28.000000</td>\n",
              "    </tr>\n",
              "    <tr>\n",
              "      <th>max</th>\n",
              "      <td>43.000000</td>\n",
              "    </tr>\n",
              "  </tbody>\n",
              "</table>\n",
              "</div><br><label><b>dtype:</b> float64</label>"
            ]
          },
          "metadata": {},
          "execution_count": 41
        }
      ]
    },
    {
      "cell_type": "markdown",
      "source": [
        "Из визуализации видно, что большинство пользователей находятся в возрасте от 20 до 30 лет, с пиком около 25 лет."
      ],
      "metadata": {
        "id": "E0zydj721pfC"
      }
    },
    {
      "cell_type": "markdown",
      "source": [
        "## Расстояние поездки"
      ],
      "metadata": {
        "id": "weqnlf564bp1"
      }
    },
    {
      "cell_type": "code",
      "source": [
        "# Построение гистограммы для распределения расстояния, которое пользователи преодолевают за одну поездку\n",
        "plt.figure(figsize=(10, 6))\n",
        "sns.histplot(df_rides['distance'], bins=20, kde=True, color='#dd8452')\n",
        "plt.title('Распределение расстояния за одну поездку')\n",
        "plt.xlabel('Расстояние (в метрах)')\n",
        "plt.ylabel('Количество поездок')\n",
        "plt.show()"
      ],
      "metadata": {
        "colab": {
          "base_uri": "https://localhost:8080/",
          "height": 564
        },
        "id": "yhvhfEvV171q",
        "outputId": "449b44dc-9d91-4a73-ac41-43ef3768d2ee"
      },
      "execution_count": null,
      "outputs": [
        {
          "output_type": "display_data",
          "data": {
            "text/plain": [
              "<Figure size 1000x600 with 1 Axes>"
            ],
            "image/png": "[encoded data removed]"
          },
          "metadata": {}
        }
      ]
    },
    {
      "cell_type": "markdown",
      "source": [
        "Из визуализации видно, что большинство поездок покрывают расстояние около 3 км."
      ],
      "metadata": {
        "id": "Ipgvy_5k2YLE"
      }
    },
    {
      "cell_type": "markdown",
      "source": [
        "## Время поездки"
      ],
      "metadata": {
        "id": "HMhYG4BK4gJN"
      }
    },
    {
      "cell_type": "code",
      "source": [
        "# Построение гистограммы для распределения продолжительности поездок\n",
        "plt.figure(figsize=(10, 6))\n",
        "sns.histplot(df_rides['duration'], bins=50, kde=True, color='#8172b3')\n",
        "plt.title('Распределение продолжительности поездок')\n",
        "plt.xlabel('Продолжительность (в минутах)')\n",
        "plt.ylabel('Количество поездок')\n",
        "plt.show()"
      ],
      "metadata": {
        "colab": {
          "base_uri": "https://localhost:8080/",
          "height": 564
        },
        "id": "5C0naRC_2mWW",
        "outputId": "368f7bf7-234a-42ae-9da6-d986438e0311"
      },
      "execution_count": null,
      "outputs": [
        {
          "output_type": "display_data",
          "data": {
            "text/plain": [
              "<Figure size 1000x600 with 1 Axes>"
            ],
            "image/png": "[encoded data removed]"
          },
          "metadata": {}
        }
      ]
    },
    {
      "cell_type": "markdown",
      "source": [
        "Из визуализации видно, что основная часть поездок длится около 15–20 минут."
      ],
      "metadata": {
        "id": "RsQmw02a29PH"
      }
    },
    {
      "cell_type": "code",
      "source": [
        "# Отбор и отображение поездок с аномальной продолжительностью (около 0 минут)\n",
        "df_anomal_duration = df_rides[df_rides['duration'] <= 1]\n",
        "df_anomal_duration"
      ],
      "metadata": {
        "colab": {
          "base_uri": "https://localhost:8080/",
          "height": 424
        },
        "id": "01xh7-T82YOm",
        "outputId": "8e0c9120-0df5-4822-b94c-b05e016be3a1"
      },
      "execution_count": null,
      "outputs": [
        {
          "output_type": "execute_result",
          "data": {
            "text/plain": [
              "       user_id     distance  duration       date  month\n",
              "6531       701  4196.445201       0.5 2021-08-31      8\n",
              "6570       704  4830.824371       0.5 2021-10-14     10\n",
              "6680       712  4684.004397       0.5 2021-03-04      3\n",
              "6695       713  5215.642710       0.5 2021-02-25      2\n",
              "6768       718  5197.436649       0.5 2021-02-11      2\n",
              "...        ...          ...       ...        ...    ...\n",
              "17004     1460  5531.335845       0.5 2021-01-19      1\n",
              "17242     1477  6724.932981       0.5 2021-01-12      1\n",
              "17314     1483  4445.481070       0.5 2021-03-06      3\n",
              "17505     1496  5722.551787       0.5 2021-02-14      2\n",
              "17909     1524  4103.998874       0.5 2021-06-18      6\n",
              "\n",
              "[95 rows x 5 columns]"
            ],
            "text/html": [
              "\n",
              "  <div id=\"df-84d186f9-b3cf-4b22-9ac5-b302ec3c776b\" class=\"colab-df-container\">\n",
              "    <div>\n",
              "<style scoped>\n",
              "    .dataframe tbody tr th:only-of-type {\n",
              "        vertical-align: middle;\n",
              "    }\n",
              "\n",
              "    .dataframe tbody tr th {\n",
              "        vertical-align: top;\n",
              "    }\n",
              "\n",
              "    .dataframe thead th {\n",
              "        text-align: right;\n",
              "    }\n",
              "</style>\n",
              "<table border=\"1\" class=\"dataframe\">\n",
              "  <thead>\n",
              "    <tr style=\"text-align: right;\">\n",
              "      <th></th>\n",
              "      <th>user_id</th>\n",
              "      <th>distance</th>\n",
              "      <th>duration</th>\n",
              "      <th>date</th>\n",
              "      <th>month</th>\n",
              "    </tr>\n",
              "  </thead>\n",
              "  <tbody>\n",
              "    <tr>\n",
              "      <th>6531</th>\n",
              "      <td>701</td>\n",
              "      <td>4196.445201</td>\n",
              "      <td>0.5</td>\n",
              "      <td>2021-08-31</td>\n",
              "      <td>8</td>\n",
              "    </tr>\n",
              "    <tr>\n",
              "      <th>6570</th>\n",
              "      <td>704</td>\n",
              "      <td>4830.824371</td>\n",
              "      <td>0.5</td>\n",
              "      <td>2021-10-14</td>\n",
              "      <td>10</td>\n",
              "    </tr>\n",
              "    <tr>\n",
              "      <th>6680</th>\n",
              "      <td>712</td>\n",
              "      <td>4684.004397</td>\n",
              "      <td>0.5</td>\n",
              "      <td>2021-03-04</td>\n",
              "      <td>3</td>\n",
              "    </tr>\n",
              "    <tr>\n",
              "      <th>6695</th>\n",
              "      <td>713</td>\n",
              "      <td>5215.642710</td>\n",
              "      <td>0.5</td>\n",
              "      <td>2021-02-25</td>\n",
              "      <td>2</td>\n",
              "    </tr>\n",
              "    <tr>\n",
              "      <th>6768</th>\n",
              "      <td>718</td>\n",
              "      <td>5197.436649</td>\n",
              "      <td>0.5</td>\n",
              "      <td>2021-02-11</td>\n",
              "      <td>2</td>\n",
              "    </tr>\n",
              "    <tr>\n",
              "      <th>...</th>\n",
              "      <td>...</td>\n",
              "      <td>...</td>\n",
              "      <td>...</td>\n",
              "      <td>...</td>\n",
              "      <td>...</td>\n",
              "    </tr>\n",
              "    <tr>\n",
              "      <th>17004</th>\n",
              "      <td>1460</td>\n",
              "      <td>5531.335845</td>\n",
              "      <td>0.5</td>\n",
              "      <td>2021-01-19</td>\n",
              "      <td>1</td>\n",
              "    </tr>\n",
              "    <tr>\n",
              "      <th>17242</th>\n",
              "      <td>1477</td>\n",
              "      <td>6724.932981</td>\n",
              "      <td>0.5</td>\n",
              "      <td>2021-01-12</td>\n",
              "      <td>1</td>\n",
              "    </tr>\n",
              "    <tr>\n",
              "      <th>17314</th>\n",
              "      <td>1483</td>\n",
              "      <td>4445.481070</td>\n",
              "      <td>0.5</td>\n",
              "      <td>2021-03-06</td>\n",
              "      <td>3</td>\n",
              "    </tr>\n",
              "    <tr>\n",
              "      <th>17505</th>\n",
              "      <td>1496</td>\n",
              "      <td>5722.551787</td>\n",
              "      <td>0.5</td>\n",
              "      <td>2021-02-14</td>\n",
              "      <td>2</td>\n",
              "    </tr>\n",
              "    <tr>\n",
              "      <th>17909</th>\n",
              "      <td>1524</td>\n",
              "      <td>4103.998874</td>\n",
              "      <td>0.5</td>\n",
              "      <td>2021-06-18</td>\n",
              "      <td>6</td>\n",
              "    </tr>\n",
              "  </tbody>\n",
              "</table>\n",
              "<p>95 rows × 5 columns</p>\n",
              "</div>\n",
              "    <div class=\"colab-df-buttons\">\n",
              "\n",
              "  <div class=\"colab-df-container\">\n",
              "    <button class=\"colab-df-convert\" onclick=\"convertToInteractive('df-84d186f9-b3cf-4b22-9ac5-b302ec3c776b')\"\n",
              "            title=\"Convert this dataframe to an interactive table.\"\n",
              "            style=\"display:none;\">\n",
              "\n",
              "  <svg xmlns=\"http://www.w3.org/2000/svg\" height=\"24px\" viewBox=\"0 -960 960 960\">\n",
              "    <path d=\"M120-120v-720h720v720H120Zm60-500h600v-160H180v160Zm220 220h160v-160H400v160Zm0 220h160v-160H400v160ZM180-400h160v-160H180v160Zm440 0h160v-160H620v160ZM180-180h160v-160H180v160Zm440 0h160v-160H620v160Z\"/>\n",
              "  </svg>\n",
              "    </button>\n",
              "\n",
              "  <style>\n",
              "    .colab-df-container {\n",
              "      display:flex;\n",
              "      gap: 12px;\n",
              "    }\n",
              "\n",
              "    .colab-df-convert {\n",
              "      background-color: #E8F0FE;\n",
              "      border: none;\n",
              "      border-radius: 50%;\n",
              "      cursor: pointer;\n",
              "      display: none;\n",
              "      fill: #1967D2;\n",
              "      height: 32px;\n",
              "      padding: 0 0 0 0;\n",
              "      width: 32px;\n",
              "    }\n",
              "\n",
              "    .colab-df-convert:hover {\n",
              "      background-color: #E2EBFA;\n",
              "      box-shadow: 0px 1px 2px rgba(60, 64, 67, 0.3), 0px 1px 3px 1px rgba(60, 64, 67, 0.15);\n",
              "      fill: #174EA6;\n",
              "    }\n",
              "\n",
              "    .colab-df-buttons div {\n",
              "      margin-bottom: 4px;\n",
              "    }\n",
              "\n",
              "    [theme=dark] .colab-df-convert {\n",
              "      background-color: #3B4455;\n",
              "      fill: #D2E3FC;\n",
              "    }\n",
              "\n",
              "    [theme=dark] .colab-df-convert:hover {\n",
              "      background-color: #434B5C;\n",
              "      box-shadow: 0px 1px 3px 1px rgba(0, 0, 0, 0.15);\n",
              "      filter: drop-shadow(0px 1px 2px rgba(0, 0, 0, 0.3));\n",
              "      fill: #FFFFFF;\n",
              "    }\n",
              "  </style>\n",
              "\n",
              "    <script>\n",
              "      const buttonEl =\n",
              "        document.querySelector('#df-84d186f9-b3cf-4b22-9ac5-b302ec3c776b button.colab-df-convert');\n",
              "      buttonEl.style.display =\n",
              "        google.colab.kernel.accessAllowed ? 'block' : 'none';\n",
              "\n",
              "      async function convertToInteractive(key) {\n",
              "        const element = document.querySelector('#df-84d186f9-b3cf-4b22-9ac5-b302ec3c776b');\n",
              "        const dataTable =\n",
              "          await google.colab.kernel.invokeFunction('convertToInteractive',\n",
              "                                                    [key], {});\n",
              "        if (!dataTable) return;\n",
              "\n",
              "        const docLinkHtml = 'Like what you see? Visit the ' +\n",
              "          '<a target=\"_blank\" href=https://colab.research.google.com/notebooks/data_table.ipynb>data table notebook</a>'\n",
              "          + ' to learn more about interactive tables.';\n",
              "        element.innerHTML = '';\n",
              "        dataTable['output_type'] = 'display_data';\n",
              "        await google.colab.output.renderOutput(dataTable, element);\n",
              "        const docLink = document.createElement('div');\n",
              "        docLink.innerHTML = docLinkHtml;\n",
              "        element.appendChild(docLink);\n",
              "      }\n",
              "    </script>\n",
              "  </div>\n",
              "\n",
              "\n",
              "<div id=\"df-a410d8d2-c301-4e22-a846-7d30b8f3287a\">\n",
              "  <button class=\"colab-df-quickchart\" onclick=\"quickchart('df-a410d8d2-c301-4e22-a846-7d30b8f3287a')\"\n",
              "            title=\"Suggest charts\"\n",
              "            style=\"display:none;\">\n",
              "\n",
              "<svg xmlns=\"http://www.w3.org/2000/svg\" height=\"24px\"viewBox=\"0 0 24 24\"\n",
              "     width=\"24px\">\n",
              "    <g>\n",
              "        <path d=\"M19 3H5c-1.1 0-2 .9-2 2v14c0 1.1.9 2 2 2h14c1.1 0 2-.9 2-2V5c0-1.1-.9-2-2-2zM9 17H7v-7h2v7zm4 0h-2V7h2v10zm4 0h-2v-4h2v4z\"/>\n",
              "    </g>\n",
              "</svg>\n",
              "  </button>\n",
              "\n",
              "<style>\n",
              "  .colab-df-quickchart {\n",
              "      --bg-color: #E8F0FE;\n",
              "      --fill-color: #1967D2;\n",
              "      --hover-bg-color: #E2EBFA;\n",
              "      --hover-fill-color: #174EA6;\n",
              "      --disabled-fill-color: #AAA;\n",
              "      --disabled-bg-color: #DDD;\n",
              "  }\n",
              "\n",
              "  [theme=dark] .colab-df-quickchart {\n",
              "      --bg-color: #3B4455;\n",
              "      --fill-color: #D2E3FC;\n",
              "      --hover-bg-color: #434B5C;\n",
              "      --hover-fill-color: #FFFFFF;\n",
              "      --disabled-bg-color: #3B4455;\n",
              "      --disabled-fill-color: #666;\n",
              "  }\n",
              "\n",
              "  .colab-df-quickchart {\n",
              "    background-color: var(--bg-color);\n",
              "    border: none;\n",
              "    border-radius: 50%;\n",
              "    cursor: pointer;\n",
              "    display: none;\n",
              "    fill: var(--fill-color);\n",
              "    height: 32px;\n",
              "    padding: 0;\n",
              "    width: 32px;\n",
              "  }\n",
              "\n",
              "  .colab-df-quickchart:hover {\n",
              "    background-color: var(--hover-bg-color);\n",
              "    box-shadow: 0 1px 2px rgba(60, 64, 67, 0.3), 0 1px 3px 1px rgba(60, 64, 67, 0.15);\n",
              "    fill: var(--button-hover-fill-color);\n",
              "  }\n",
              "\n",
              "  .colab-df-quickchart-complete:disabled,\n",
              "  .colab-df-quickchart-complete:disabled:hover {\n",
              "    background-color: var(--disabled-bg-color);\n",
              "    fill: var(--disabled-fill-color);\n",
              "    box-shadow: none;\n",
              "  }\n",
              "\n",
              "  .colab-df-spinner {\n",
              "    border: 2px solid var(--fill-color);\n",
              "    border-color: transparent;\n",
              "    border-bottom-color: var(--fill-color);\n",
              "    animation:\n",
              "      spin 1s steps(1) infinite;\n",
              "  }\n",
              "\n",
              "  @keyframes spin {\n",
              "    0% {\n",
              "      border-color: transparent;\n",
              "      border-bottom-color: var(--fill-color);\n",
              "      border-left-color: var(--fill-color);\n",
              "    }\n",
              "    20% {\n",
              "      border-color: transparent;\n",
              "      border-left-color: var(--fill-color);\n",
              "      border-top-color: var(--fill-color);\n",
              "    }\n",
              "    30% {\n",
              "      border-color: transparent;\n",
              "      border-left-color: var(--fill-color);\n",
              "      border-top-color: var(--fill-color);\n",
              "      border-right-color: var(--fill-color);\n",
              "    }\n",
              "    40% {\n",
              "      border-color: transparent;\n",
              "      border-right-color: var(--fill-color);\n",
              "      border-top-color: var(--fill-color);\n",
              "    }\n",
              "    60% {\n",
              "      border-color: transparent;\n",
              "      border-right-color: var(--fill-color);\n",
              "    }\n",
              "    80% {\n",
              "      border-color: transparent;\n",
              "      border-right-color: var(--fill-color);\n",
              "      border-bottom-color: var(--fill-color);\n",
              "    }\n",
              "    90% {\n",
              "      border-color: transparent;\n",
              "      border-bottom-color: var(--fill-color);\n",
              "    }\n",
              "  }\n",
              "</style>\n",
              "\n",
              "  <script>\n",
              "    async function quickchart(key) {\n",
              "      const quickchartButtonEl =\n",
              "        document.querySelector('#' + key + ' button');\n",
              "      quickchartButtonEl.disabled = true;  // To prevent multiple clicks.\n",
              "      quickchartButtonEl.classList.add('colab-df-spinner');\n",
              "      try {\n",
              "        const charts = await google.colab.kernel.invokeFunction(\n",
              "            'suggestCharts', [key], {});\n",
              "      } catch (error) {\n",
              "        console.error('Error during call to suggestCharts:', error);\n",
              "      }\n",
              "      quickchartButtonEl.classList.remove('colab-df-spinner');\n",
              "      quickchartButtonEl.classList.add('colab-df-quickchart-complete');\n",
              "    }\n",
              "    (() => {\n",
              "      let quickchartButtonEl =\n",
              "        document.querySelector('#df-a410d8d2-c301-4e22-a846-7d30b8f3287a button');\n",
              "      quickchartButtonEl.style.display =\n",
              "        google.colab.kernel.accessAllowed ? 'block' : 'none';\n",
              "    })();\n",
              "  </script>\n",
              "</div>\n",
              "    </div>\n",
              "  </div>\n"
            ],
            "application/vnd.google.colaboratory.intrinsic+json": {
              "type": "dataframe",
              "variable_name": "df_anomal_duration",
              "summary": "{\n  \"name\": \"df_anomal_duration\",\n  \"rows\": 95,\n  \"fields\": [\n    {\n      \"column\": \"user_id\",\n      \"properties\": {\n        \"dtype\": \"number\",\n        \"std\": 244,\n        \"min\": 701,\n        \"max\": 1524,\n        \"num_unique_values\": 90,\n        \"samples\": [\n          1039,\n          893,\n          1176\n        ],\n        \"semantic_type\": \"\",\n        \"description\": \"\"\n      }\n    },\n    {\n      \"column\": \"distance\",\n      \"properties\": {\n        \"dtype\": \"number\",\n        \"std\": 658.254104286383,\n        \"min\": 4030.308008428866,\n        \"max\": 7211.007744598519,\n        \"num_unique_values\": 95,\n        \"samples\": [\n          5944.789947031106,\n          4762.120492992623,\n          5894.633314119946\n        ],\n        \"semantic_type\": \"\",\n        \"description\": \"\"\n      }\n    },\n    {\n      \"column\": \"duration\",\n      \"properties\": {\n        \"dtype\": \"number\",\n        \"std\": 0.0,\n        \"min\": 0.5,\n        \"max\": 0.5,\n        \"num_unique_values\": 1,\n        \"samples\": [\n          0.5\n        ],\n        \"semantic_type\": \"\",\n        \"description\": \"\"\n      }\n    },\n    {\n      \"column\": \"date\",\n      \"properties\": {\n        \"dtype\": \"date\",\n        \"min\": \"2021-01-05 00:00:00\",\n        \"max\": \"2021-12-27 00:00:00\",\n        \"num_unique_values\": 82,\n        \"samples\": [\n          \"2021-08-07 00:00:00\"\n        ],\n        \"semantic_type\": \"\",\n        \"description\": \"\"\n      }\n    },\n    {\n      \"column\": \"month\",\n      \"properties\": {\n        \"dtype\": \"int32\",\n        \"num_unique_values\": 12,\n        \"samples\": [\n          7\n        ],\n        \"semantic_type\": \"\",\n        \"description\": \"\"\n      }\n    }\n  ]\n}"
            }
          },
          "metadata": {},
          "execution_count": 44
        }
      ]
    },
    {
      "cell_type": "markdown",
      "source": [
        "Несмотря на минимальную продолжительность (0.5 минуты), расстояние, которое преодолевают пользователи, значительно варьируется (от ~4000 до ~5200 метров). Это несоответствие предполагает, что либо данные о продолжительности некорректны, либо что-то необычное произошло во время поездки (например, сбой в приложении или трекинге GPS). Исключим поездки с малой продолжительностью (менее 1 минуты) из дальнейшего анализа."
      ],
      "metadata": {
        "id": "MXBic4Pr2aNp"
      }
    },
    {
      "cell_type": "code",
      "source": [
        "# Исключение поездок с продолжительностью менее 1 минуты\n",
        "df_rides = df_rides[df_rides['duration'] >= 1]"
      ],
      "metadata": {
        "id": "jqIvqYXp2ecl"
      },
      "execution_count": null,
      "outputs": []
    },
    {
      "cell_type": "markdown",
      "source": [
        "## Заключение\n",
        "\n",
        "В ходе исследования данных мы установили, что наибольшее количество пользователей сервиса GoFast проживает в Пятигорске, а наименьшее — в Москве. Большинство клиентов (54.4%) предпочитают пользоваться сервисом без подписки, тогда как 45.6% имеют подписку. Основная возрастная группа пользователей — от 20 до 30 лет, с пиком около 25 лет. Анализ данных о поездках показал, что средняя дистанция, преодолеваемая за одну поездку, составляет около 3 км, а основная часть поездок длится около 15–20 минут."
      ],
      "metadata": {
        "id": "g5cRo4jT3hLu"
      }
    },
    {
      "cell_type": "markdown",
      "source": [
        "# Объединение данных"
      ],
      "metadata": {
        "id": "qzDubl6H47nY"
      }
    },
    {
      "cell_type": "markdown",
      "source": [
        "## Объединнение данных о пользователях, поездках и подписках"
      ],
      "metadata": {
        "id": "lgTphkGPGqF6"
      }
    },
    {
      "cell_type": "code",
      "source": [
        "# Объединяем данные о пользователях и поездках\n",
        "df_merge = pd.merge(df_rides, df_users, on='user_id', how='inner')\n",
        "\n",
        "# Добавляем информацию о подписках\n",
        "df_merge = pd.merge(df_merge, df_subs, on='subscription_type', how='left')\n",
        "\n",
        "# Проверяем итоговую структуру объединенного датафрейма\n",
        "df_merge.info()"
      ],
      "metadata": {
        "colab": {
          "base_uri": "https://localhost:8080/"
        },
        "id": "gGf8r8h-_fmt",
        "outputId": "d2854587-9f57-433e-ec9c-933321fa8596"
      },
      "execution_count": null,
      "outputs": [
        {
          "output_type": "stream",
          "name": "stdout",
          "text": [
            "<class 'pandas.core.frame.DataFrame'>\n",
            "RangeIndex: 17973 entries, 0 to 17972\n",
            "Data columns (total 12 columns):\n",
            " #   Column             Non-Null Count  Dtype         \n",
            "---  ------             --------------  -----         \n",
            " 0   user_id            17973 non-null  int64         \n",
            " 1   distance           17973 non-null  float64       \n",
            " 2   duration           17973 non-null  float64       \n",
            " 3   date               17973 non-null  datetime64[ns]\n",
            " 4   month              17973 non-null  int32         \n",
            " 5   name               17973 non-null  object        \n",
            " 6   age                17973 non-null  int64         \n",
            " 7   city               17973 non-null  object        \n",
            " 8   subscription_type  17973 non-null  object        \n",
            " 9   minute_price       17973 non-null  int64         \n",
            " 10  start_ride_price   17973 non-null  int64         \n",
            " 11  subscription_fee   17973 non-null  int64         \n",
            "dtypes: datetime64[ns](1), float64(2), int32(1), int64(5), object(3)\n",
            "memory usage: 1.6+ MB\n"
          ]
        }
      ]
    },
    {
      "cell_type": "code",
      "source": [
        "# Подсчет количества строк в каждом датафрейме\n",
        "merged_rows = len(df_merge)\n",
        "rides_rows = len(df_rides)\n",
        "users_rows = len(df_users)\n",
        "subs_rows = len(df_subs)\n",
        "\n",
        "# Проверка на наличие пропусков в объединенном датафрейме\n",
        "missing_values = df_merge.isnull().sum()\n",
        "\n",
        "# Формирование результата\n",
        "result = {\n",
        "    \"Количество строк в объединенном датафрейме\": merged_rows,\n",
        "    \"Количество строк в df_rides\": rides_rows,\n",
        "    \"Количество строк в df_users\": users_rows,\n",
        "    \"Количество строк в df_subs\": subs_rows,\n",
        "    \"Пропуски в объединенном датафрейме\": missing_values.to_dict()\n",
        "}\n",
        "\n",
        "result"
      ],
      "metadata": {
        "colab": {
          "base_uri": "https://localhost:8080/"
        },
        "id": "n7t5NES58HRT",
        "outputId": "a8cb9ef0-9f57-45d0-eb95-e6c887e26e69"
      },
      "execution_count": null,
      "outputs": [
        {
          "output_type": "execute_result",
          "data": {
            "text/plain": [
              "{'Количество строк в объединенном датафрейме': 17973,\n",
              " 'Количество строк в df_rides': 17973,\n",
              " 'Количество строк в df_users': 1534,\n",
              " 'Количество строк в df_subs': 2,\n",
              " 'Пропуски в объединенном датафрейме': {'user_id': 0,\n",
              "  'distance': 0,\n",
              "  'duration': 0,\n",
              "  'date': 0,\n",
              "  'month': 0,\n",
              "  'name': 0,\n",
              "  'age': 0,\n",
              "  'city': 0,\n",
              "  'subscription_type': 0,\n",
              "  'minute_price': 0,\n",
              "  'start_ride_price': 0,\n",
              "  'subscription_fee': 0}}"
            ]
          },
          "metadata": {},
          "execution_count": 47
        }
      ]
    },
    {
      "cell_type": "markdown",
      "source": [
        "Объединение выполнено корректно:\n",
        "*   Количество строк в объединённом датафрейме совпадает с количеством строк в\n",
        "таблице поездок `df_rides`.\n",
        "*   Пропуски отсутствуют."
      ],
      "metadata": {
        "id": "OQgzCUy-8KQY"
      }
    },
    {
      "cell_type": "markdown",
      "source": [
        "## Создание датафреймов с данными о пользователях с подпиской и без"
      ],
      "metadata": {
        "id": "YerIvAasG3Ny"
      }
    },
    {
      "cell_type": "code",
      "source": [
        "# Создаем датафрейм с данными о пользователях без подписки\n",
        "df_no_subs = df_merge[df_merge['subscription_type'] == 'free']\n",
        "\n",
        "# Создаем датафрейм с данными о пользователях с подпиской\n",
        "df_with_subs = df_merge[df_merge['subscription_type'] == 'ultra']\n",
        "\n",
        "# Проверяем количество строк в новых датафреймах\n",
        "df_no_subs.info()\n",
        "print('------------------------------------------------------------------------------------------------')\n",
        "df_with_subs.info()"
      ],
      "metadata": {
        "colab": {
          "base_uri": "https://localhost:8080/"
        },
        "id": "QdmQz8AOBHCz",
        "outputId": "0f70aacc-5f9b-4bb3-a2a7-c6abb0a5030f"
      },
      "execution_count": null,
      "outputs": [
        {
          "output_type": "stream",
          "name": "stdout",
          "text": [
            "<class 'pandas.core.frame.DataFrame'>\n",
            "Index: 11473 entries, 6500 to 17972\n",
            "Data columns (total 12 columns):\n",
            " #   Column             Non-Null Count  Dtype         \n",
            "---  ------             --------------  -----         \n",
            " 0   user_id            11473 non-null  int64         \n",
            " 1   distance           11473 non-null  float64       \n",
            " 2   duration           11473 non-null  float64       \n",
            " 3   date               11473 non-null  datetime64[ns]\n",
            " 4   month              11473 non-null  int32         \n",
            " 5   name               11473 non-null  object        \n",
            " 6   age                11473 non-null  int64         \n",
            " 7   city               11473 non-null  object        \n",
            " 8   subscription_type  11473 non-null  object        \n",
            " 9   minute_price       11473 non-null  int64         \n",
            " 10  start_ride_price   11473 non-null  int64         \n",
            " 11  subscription_fee   11473 non-null  int64         \n",
            "dtypes: datetime64[ns](1), float64(2), int32(1), int64(5), object(3)\n",
            "memory usage: 1.1+ MB\n",
            "------------------------------------------------------------------------------------------------\n",
            "<class 'pandas.core.frame.DataFrame'>\n",
            "Index: 6500 entries, 0 to 6499\n",
            "Data columns (total 12 columns):\n",
            " #   Column             Non-Null Count  Dtype         \n",
            "---  ------             --------------  -----         \n",
            " 0   user_id            6500 non-null   int64         \n",
            " 1   distance           6500 non-null   float64       \n",
            " 2   duration           6500 non-null   float64       \n",
            " 3   date               6500 non-null   datetime64[ns]\n",
            " 4   month              6500 non-null   int32         \n",
            " 5   name               6500 non-null   object        \n",
            " 6   age                6500 non-null   int64         \n",
            " 7   city               6500 non-null   object        \n",
            " 8   subscription_type  6500 non-null   object        \n",
            " 9   minute_price       6500 non-null   int64         \n",
            " 10  start_ride_price   6500 non-null   int64         \n",
            " 11  subscription_fee   6500 non-null   int64         \n",
            "dtypes: datetime64[ns](1), float64(2), int32(1), int64(5), object(3)\n",
            "memory usage: 634.8+ KB\n"
          ]
        }
      ]
    },
    {
      "cell_type": "markdown",
      "source": [
        "## Визуализация данных о расстоянии и времени поездок"
      ],
      "metadata": {
        "id": "B6ghuA_sHMc_"
      }
    },
    {
      "cell_type": "code",
      "source": [
        "# Визуализация данных о расстоянии поездок\n",
        "plt.figure(figsize=(10, 6))\n",
        "plt.hist(df_no_subs['distance'], bins=30, alpha=0.7, color=\"#c44e52\", label=\"Без подписки\")\n",
        "plt.hist(df_with_subs['distance'], bins=30, alpha=0.7, color=\"#55a868\", label=\"С подпиской\")\n",
        "plt.title(\"Распределение расстояний поездок\")\n",
        "plt.xlabel(\"Расстояние (м)\")\n",
        "plt.ylabel(\"Частота\")\n",
        "plt.legend()\n",
        "plt.show()"
      ],
      "metadata": {
        "colab": {
          "base_uri": "https://localhost:8080/",
          "height": 564
        },
        "id": "vp7IDMVnCI6P",
        "outputId": "d4b7825e-2ad5-4585-f59d-f340dd4e0836"
      },
      "execution_count": null,
      "outputs": [
        {
          "output_type": "display_data",
          "data": {
            "text/plain": [
              "<Figure size 1000x600 with 1 Axes>"
            ],
            "image/png": "[encoded data removed]"
          },
          "metadata": {}
        }
      ]
    },
    {
      "cell_type": "markdown",
      "source": [
        "Визуализация показывает, что пользователи с подпиской чаще совершают более длинные поездки по сравнению с пользователями без подписки. Распределение для обеих категорий имеет схожую форму, однако максимальная частота наблюдается на больших расстояниях у подписчиков."
      ],
      "metadata": {
        "id": "2BX7cJwdENOP"
      }
    },
    {
      "cell_type": "code",
      "source": [
        "# Визуализация данных о времени поездок\n",
        "plt.figure(figsize=(10, 6))\n",
        "plt.hist(df_no_subs['duration'], bins=30, alpha=0.7, color=\"#c44e52\", label=\"Без подписки\")\n",
        "plt.hist(df_with_subs['duration'], bins=30, alpha=0.7, color=\"#55a868\", label=\"С подпиской\")\n",
        "plt.title(\"Распределение времени поездок\")\n",
        "plt.xlabel(\"Время (мин)\")\n",
        "plt.ylabel(\"Частота\")\n",
        "plt.legend()\n",
        "plt.show()"
      ],
      "metadata": {
        "colab": {
          "base_uri": "https://localhost:8080/",
          "height": 564
        },
        "id": "V1py5GIoE0e0",
        "outputId": "2c761f7a-794e-4ea7-d446-aa991a46562c"
      },
      "execution_count": null,
      "outputs": [
        {
          "output_type": "display_data",
          "data": {
            "text/plain": [
              "<Figure size 1000x600 with 1 Axes>"
            ],
            "image/png": "[encoded data removed]"
          },
          "metadata": {}
        }
      ]
    },
    {
      "cell_type": "markdown",
      "source": [
        "Распределение времени поездок показывает, что пользователи с подпиской совершают более длительные поездки по сравнению с пользователями без подписки, что отражается в правом сдвиге пика их распределения. Несмотря на схожесть форм распределений, пользователи без подписки чаще совершают более короткие поездки."
      ],
      "metadata": {
        "id": "DGBZRaMlFMDk"
      }
    },
    {
      "cell_type": "markdown",
      "source": [
        "## Заключение\n",
        "\n",
        "Обе визуализации свидетельствуют готовности использовать сервис GoFast при наличии подписки для более длительных и длительных поездок - подписка стимулирует более активное использование сервиса."
      ],
      "metadata": {
        "id": "n46wesTcFohe"
      }
    },
    {
      "cell_type": "markdown",
      "source": [
        "# Подсчёт выручки"
      ],
      "metadata": {
        "id": "kpy0l1JrKlb1"
      }
    },
    {
      "cell_type": "code",
      "source": [
        "# Агрегация данных о поездках\n",
        "df_revenue = df_merge.groupby(['user_id', 'month']).agg(\n",
        "    total_distance=('distance', 'sum'),\n",
        "    total_rides=('user_id', 'count'),\n",
        "    total_duration=('duration', 'sum')\n",
        ").reset_index()\n",
        "\n",
        "# Отображаем агрегированный датафрейм\n",
        "df_revenue"
      ],
      "metadata": {
        "colab": {
          "base_uri": "https://localhost:8080/",
          "height": 424
        },
        "id": "TkSFr-pRLnAr",
        "outputId": "9df51d89-884f-4a62-d3c3-f8e27df63b2d"
      },
      "execution_count": null,
      "outputs": [
        {
          "output_type": "execute_result",
          "data": {
            "text/plain": [
              "       user_id  month  total_distance  total_rides  total_duration\n",
              "0            1      1     7027.511294            2       41.416640\n",
              "1            1      4      754.159807            1        6.232113\n",
              "2            1      8     6723.470560            2       44.776802\n",
              "3            1     10     5809.911100            2       31.578017\n",
              "4            1     11     7003.499363            3       53.397424\n",
              "...        ...    ...             ...          ...             ...\n",
              "11295     1534      6     3409.468534            2       24.812678\n",
              "11296     1534      8     7622.453034            2       47.205960\n",
              "11297     1534      9     4928.173852            1       22.560373\n",
              "11298     1534     11    13350.015305            4       76.342174\n",
              "11299     1534     12     2371.711192            1       15.893917\n",
              "\n",
              "[11300 rows x 5 columns]"
            ],
            "text/html": [
              "\n",
              "  <div id=\"df-ba46e4c5-fe10-40ea-9d34-9eb2e20c816d\" class=\"colab-df-container\">\n",
              "    <div>\n",
              "<style scoped>\n",
              "    .dataframe tbody tr th:only-of-type {\n",
              "        vertical-align: middle;\n",
              "    }\n",
              "\n",
              "    .dataframe tbody tr th {\n",
              "        vertical-align: top;\n",
              "    }\n",
              "\n",
              "    .dataframe thead th {\n",
              "        text-align: right;\n",
              "    }\n",
              "</style>\n",
              "<table border=\"1\" class=\"dataframe\">\n",
              "  <thead>\n",
              "    <tr style=\"text-align: right;\">\n",
              "      <th></th>\n",
              "      <th>user_id</th>\n",
              "      <th>month</th>\n",
              "      <th>total_distance</th>\n",
              "      <th>total_rides</th>\n",
              "      <th>total_duration</th>\n",
              "    </tr>\n",
              "  </thead>\n",
              "  <tbody>\n",
              "    <tr>\n",
              "      <th>0</th>\n",
              "      <td>1</td>\n",
              "      <td>1</td>\n",
              "      <td>7027.511294</td>\n",
              "      <td>2</td>\n",
              "      <td>41.416640</td>\n",
              "    </tr>\n",
              "    <tr>\n",
              "      <th>1</th>\n",
              "      <td>1</td>\n",
              "      <td>4</td>\n",
              "      <td>754.159807</td>\n",
              "      <td>1</td>\n",
              "      <td>6.232113</td>\n",
              "    </tr>\n",
              "    <tr>\n",
              "      <th>2</th>\n",
              "      <td>1</td>\n",
              "      <td>8</td>\n",
              "      <td>6723.470560</td>\n",
              "      <td>2</td>\n",
              "      <td>44.776802</td>\n",
              "    </tr>\n",
              "    <tr>\n",
              "      <th>3</th>\n",
              "      <td>1</td>\n",
              "      <td>10</td>\n",
              "      <td>5809.911100</td>\n",
              "      <td>2</td>\n",
              "      <td>31.578017</td>\n",
              "    </tr>\n",
              "    <tr>\n",
              "      <th>4</th>\n",
              "      <td>1</td>\n",
              "      <td>11</td>\n",
              "      <td>7003.499363</td>\n",
              "      <td>3</td>\n",
              "      <td>53.397424</td>\n",
              "    </tr>\n",
              "    <tr>\n",
              "      <th>...</th>\n",
              "      <td>...</td>\n",
              "      <td>...</td>\n",
              "      <td>...</td>\n",
              "      <td>...</td>\n",
              "      <td>...</td>\n",
              "    </tr>\n",
              "    <tr>\n",
              "      <th>11295</th>\n",
              "      <td>1534</td>\n",
              "      <td>6</td>\n",
              "      <td>3409.468534</td>\n",
              "      <td>2</td>\n",
              "      <td>24.812678</td>\n",
              "    </tr>\n",
              "    <tr>\n",
              "      <th>11296</th>\n",
              "      <td>1534</td>\n",
              "      <td>8</td>\n",
              "      <td>7622.453034</td>\n",
              "      <td>2</td>\n",
              "      <td>47.205960</td>\n",
              "    </tr>\n",
              "    <tr>\n",
              "      <th>11297</th>\n",
              "      <td>1534</td>\n",
              "      <td>9</td>\n",
              "      <td>4928.173852</td>\n",
              "      <td>1</td>\n",
              "      <td>22.560373</td>\n",
              "    </tr>\n",
              "    <tr>\n",
              "      <th>11298</th>\n",
              "      <td>1534</td>\n",
              "      <td>11</td>\n",
              "      <td>13350.015305</td>\n",
              "      <td>4</td>\n",
              "      <td>76.342174</td>\n",
              "    </tr>\n",
              "    <tr>\n",
              "      <th>11299</th>\n",
              "      <td>1534</td>\n",
              "      <td>12</td>\n",
              "      <td>2371.711192</td>\n",
              "      <td>1</td>\n",
              "      <td>15.893917</td>\n",
              "    </tr>\n",
              "  </tbody>\n",
              "</table>\n",
              "<p>11300 rows × 5 columns</p>\n",
              "</div>\n",
              "    <div class=\"colab-df-buttons\">\n",
              "\n",
              "  <div class=\"colab-df-container\">\n",
              "    <button class=\"colab-df-convert\" onclick=\"convertToInteractive('df-ba46e4c5-fe10-40ea-9d34-9eb2e20c816d')\"\n",
              "            title=\"Convert this dataframe to an interactive table.\"\n",
              "            style=\"display:none;\">\n",
              "\n",
              "  <svg xmlns=\"http://www.w3.org/2000/svg\" height=\"24px\" viewBox=\"0 -960 960 960\">\n",
              "    <path d=\"M120-120v-720h720v720H120Zm60-500h600v-160H180v160Zm220 220h160v-160H400v160Zm0 220h160v-160H400v160ZM180-400h160v-160H180v160Zm440 0h160v-160H620v160ZM180-180h160v-160H180v160Zm440 0h160v-160H620v160Z\"/>\n",
              "  </svg>\n",
              "    </button>\n",
              "\n",
              "  <style>\n",
              "    .colab-df-container {\n",
              "      display:flex;\n",
              "      gap: 12px;\n",
              "    }\n",
              "\n",
              "    .colab-df-convert {\n",
              "      background-color: #E8F0FE;\n",
              "      border: none;\n",
              "      border-radius: 50%;\n",
              "      cursor: pointer;\n",
              "      display: none;\n",
              "      fill: #1967D2;\n",
              "      height: 32px;\n",
              "      padding: 0 0 0 0;\n",
              "      width: 32px;\n",
              "    }\n",
              "\n",
              "    .colab-df-convert:hover {\n",
              "      background-color: #E2EBFA;\n",
              "      box-shadow: 0px 1px 2px rgba(60, 64, 67, 0.3), 0px 1px 3px 1px rgba(60, 64, 67, 0.15);\n",
              "      fill: #174EA6;\n",
              "    }\n",
              "\n",
              "    .colab-df-buttons div {\n",
              "      margin-bottom: 4px;\n",
              "    }\n",
              "\n",
              "    [theme=dark] .colab-df-convert {\n",
              "      background-color: #3B4455;\n",
              "      fill: #D2E3FC;\n",
              "    }\n",
              "\n",
              "    [theme=dark] .colab-df-convert:hover {\n",
              "      background-color: #434B5C;\n",
              "      box-shadow: 0px 1px 3px 1px rgba(0, 0, 0, 0.15);\n",
              "      filter: drop-shadow(0px 1px 2px rgba(0, 0, 0, 0.3));\n",
              "      fill: #FFFFFF;\n",
              "    }\n",
              "  </style>\n",
              "\n",
              "    <script>\n",
              "      const buttonEl =\n",
              "        document.querySelector('#df-ba46e4c5-fe10-40ea-9d34-9eb2e20c816d button.colab-df-convert');\n",
              "      buttonEl.style.display =\n",
              "        google.colab.kernel.accessAllowed ? 'block' : 'none';\n",
              "\n",
              "      async function convertToInteractive(key) {\n",
              "        const element = document.querySelector('#df-ba46e4c5-fe10-40ea-9d34-9eb2e20c816d');\n",
              "        const dataTable =\n",
              "          await google.colab.kernel.invokeFunction('convertToInteractive',\n",
              "                                                    [key], {});\n",
              "        if (!dataTable) return;\n",
              "\n",
              "        const docLinkHtml = 'Like what you see? Visit the ' +\n",
              "          '<a target=\"_blank\" href=https://colab.research.google.com/notebooks/data_table.ipynb>data table notebook</a>'\n",
              "          + ' to learn more about interactive tables.';\n",
              "        element.innerHTML = '';\n",
              "        dataTable['output_type'] = 'display_data';\n",
              "        await google.colab.output.renderOutput(dataTable, element);\n",
              "        const docLink = document.createElement('div');\n",
              "        docLink.innerHTML = docLinkHtml;\n",
              "        element.appendChild(docLink);\n",
              "      }\n",
              "    </script>\n",
              "  </div>\n",
              "\n",
              "\n",
              "<div id=\"df-a24b6bfa-c893-40a2-9a0e-9ee0179acd2e\">\n",
              "  <button class=\"colab-df-quickchart\" onclick=\"quickchart('df-a24b6bfa-c893-40a2-9a0e-9ee0179acd2e')\"\n",
              "            title=\"Suggest charts\"\n",
              "            style=\"display:none;\">\n",
              "\n",
              "<svg xmlns=\"http://www.w3.org/2000/svg\" height=\"24px\"viewBox=\"0 0 24 24\"\n",
              "     width=\"24px\">\n",
              "    <g>\n",
              "        <path d=\"M19 3H5c-1.1 0-2 .9-2 2v14c0 1.1.9 2 2 2h14c1.1 0 2-.9 2-2V5c0-1.1-.9-2-2-2zM9 17H7v-7h2v7zm4 0h-2V7h2v10zm4 0h-2v-4h2v4z\"/>\n",
              "    </g>\n",
              "</svg>\n",
              "  </button>\n",
              "\n",
              "<style>\n",
              "  .colab-df-quickchart {\n",
              "      --bg-color: #E8F0FE;\n",
              "      --fill-color: #1967D2;\n",
              "      --hover-bg-color: #E2EBFA;\n",
              "      --hover-fill-color: #174EA6;\n",
              "      --disabled-fill-color: #AAA;\n",
              "      --disabled-bg-color: #DDD;\n",
              "  }\n",
              "\n",
              "  [theme=dark] .colab-df-quickchart {\n",
              "      --bg-color: #3B4455;\n",
              "      --fill-color: #D2E3FC;\n",
              "      --hover-bg-color: #434B5C;\n",
              "      --hover-fill-color: #FFFFFF;\n",
              "      --disabled-bg-color: #3B4455;\n",
              "      --disabled-fill-color: #666;\n",
              "  }\n",
              "\n",
              "  .colab-df-quickchart {\n",
              "    background-color: var(--bg-color);\n",
              "    border: none;\n",
              "    border-radius: 50%;\n",
              "    cursor: pointer;\n",
              "    display: none;\n",
              "    fill: var(--fill-color);\n",
              "    height: 32px;\n",
              "    padding: 0;\n",
              "    width: 32px;\n",
              "  }\n",
              "\n",
              "  .colab-df-quickchart:hover {\n",
              "    background-color: var(--hover-bg-color);\n",
              "    box-shadow: 0 1px 2px rgba(60, 64, 67, 0.3), 0 1px 3px 1px rgba(60, 64, 67, 0.15);\n",
              "    fill: var(--button-hover-fill-color);\n",
              "  }\n",
              "\n",
              "  .colab-df-quickchart-complete:disabled,\n",
              "  .colab-df-quickchart-complete:disabled:hover {\n",
              "    background-color: var(--disabled-bg-color);\n",
              "    fill: var(--disabled-fill-color);\n",
              "    box-shadow: none;\n",
              "  }\n",
              "\n",
              "  .colab-df-spinner {\n",
              "    border: 2px solid var(--fill-color);\n",
              "    border-color: transparent;\n",
              "    border-bottom-color: var(--fill-color);\n",
              "    animation:\n",
              "      spin 1s steps(1) infinite;\n",
              "  }\n",
              "\n",
              "  @keyframes spin {\n",
              "    0% {\n",
              "      border-color: transparent;\n",
              "      border-bottom-color: var(--fill-color);\n",
              "      border-left-color: var(--fill-color);\n",
              "    }\n",
              "    20% {\n",
              "      border-color: transparent;\n",
              "      border-left-color: var(--fill-color);\n",
              "      border-top-color: var(--fill-color);\n",
              "    }\n",
              "    30% {\n",
              "      border-color: transparent;\n",
              "      border-left-color: var(--fill-color);\n",
              "      border-top-color: var(--fill-color);\n",
              "      border-right-color: var(--fill-color);\n",
              "    }\n",
              "    40% {\n",
              "      border-color: transparent;\n",
              "      border-right-color: var(--fill-color);\n",
              "      border-top-color: var(--fill-color);\n",
              "    }\n",
              "    60% {\n",
              "      border-color: transparent;\n",
              "      border-right-color: var(--fill-color);\n",
              "    }\n",
              "    80% {\n",
              "      border-color: transparent;\n",
              "      border-right-color: var(--fill-color);\n",
              "      border-bottom-color: var(--fill-color);\n",
              "    }\n",
              "    90% {\n",
              "      border-color: transparent;\n",
              "      border-bottom-color: var(--fill-color);\n",
              "    }\n",
              "  }\n",
              "</style>\n",
              "\n",
              "  <script>\n",
              "    async function quickchart(key) {\n",
              "      const quickchartButtonEl =\n",
              "        document.querySelector('#' + key + ' button');\n",
              "      quickchartButtonEl.disabled = true;  // To prevent multiple clicks.\n",
              "      quickchartButtonEl.classList.add('colab-df-spinner');\n",
              "      try {\n",
              "        const charts = await google.colab.kernel.invokeFunction(\n",
              "            'suggestCharts', [key], {});\n",
              "      } catch (error) {\n",
              "        console.error('Error during call to suggestCharts:', error);\n",
              "      }\n",
              "      quickchartButtonEl.classList.remove('colab-df-spinner');\n",
              "      quickchartButtonEl.classList.add('colab-df-quickchart-complete');\n",
              "    }\n",
              "    (() => {\n",
              "      let quickchartButtonEl =\n",
              "        document.querySelector('#df-a24b6bfa-c893-40a2-9a0e-9ee0179acd2e button');\n",
              "      quickchartButtonEl.style.display =\n",
              "        google.colab.kernel.accessAllowed ? 'block' : 'none';\n",
              "    })();\n",
              "  </script>\n",
              "</div>\n",
              "    </div>\n",
              "  </div>\n"
            ],
            "application/vnd.google.colaboratory.intrinsic+json": {
              "type": "dataframe",
              "variable_name": "df_revenue",
              "summary": "{\n  \"name\": \"df_revenue\",\n  \"rows\": 11300,\n  \"fields\": [\n    {\n      \"column\": \"user_id\",\n      \"properties\": {\n        \"dtype\": \"number\",\n        \"std\": 440,\n        \"min\": 1,\n        \"max\": 1534,\n        \"num_unique_values\": 1534,\n        \"samples\": [\n          1365,\n          77,\n          317\n        ],\n        \"semantic_type\": \"\",\n        \"description\": \"\"\n      }\n    },\n    {\n      \"column\": \"month\",\n      \"properties\": {\n        \"dtype\": \"int32\",\n        \"num_unique_values\": 12,\n        \"samples\": [\n          5,\n          2,\n          1\n        ],\n        \"semantic_type\": \"\",\n        \"description\": \"\"\n      }\n    },\n    {\n      \"column\": \"total_distance\",\n      \"properties\": {\n        \"dtype\": \"number\",\n        \"std\": 2883.5203418378396,\n        \"min\": 2.57078688756684,\n        \"max\": 23429.487786236627,\n        \"num_unique_values\": 11300,\n        \"samples\": [\n          4357.6728893344425,\n          7518.345564071304,\n          2741.0823952718165\n        ],\n        \"semantic_type\": \"\",\n        \"description\": \"\"\n      }\n    },\n    {\n      \"column\": \"total_rides\",\n      \"properties\": {\n        \"dtype\": \"number\",\n        \"std\": 0,\n        \"min\": 1,\n        \"max\": 7,\n        \"num_unique_values\": 7,\n        \"samples\": [\n          2,\n          1,\n          6\n        ],\n        \"semantic_type\": \"\",\n        \"description\": \"\"\n      }\n    },\n    {\n      \"column\": \"total_duration\",\n      \"properties\": {\n        \"dtype\": \"number\",\n        \"std\": 16.338169790549596,\n        \"min\": 2.0356324681963884,\n        \"max\": 140.26442563368684,\n        \"num_unique_values\": 11300,\n        \"samples\": [\n          29.675740954290468,\n          44.63828609913109,\n          20.705411976359084\n        ],\n        \"semantic_type\": \"\",\n        \"description\": \"\"\n      }\n    }\n  ]\n}"
            }
          },
          "metadata": {},
          "execution_count": 51
        }
      ]
    },
    {
      "cell_type": "code",
      "source": [
        "# Округляем продолжительность каждой поездки до ближайшего большего целого\n",
        "df_merge['duration'] = np.ceil(df_merge['duration'])\n",
        "\n",
        "# Агрегируем помесячную выручку\n",
        "df_revenue = df_merge.groupby(['user_id', 'month', 'subscription_type']).agg(\n",
        "    total_distance=('distance', 'sum'),\n",
        "    total_rides=('user_id', 'count'),\n",
        "    total_duration=('duration', 'sum'),\n",
        "    start_ride_price=('start_ride_price', 'mean'),  # Стоимость старта\n",
        "    minute_price=('minute_price', 'mean'),          # Стоимость минуты\n",
        "    subscription_fee=('subscription_fee', 'mean')   # Абонентская плата\n",
        ").reset_index()\n",
        "\n",
        "# Рассчитываем выручку\n",
        "df_revenue['revenue'] = (\n",
        "    df_revenue['start_ride_price'] * df_revenue['total_rides'] +\n",
        "    df_revenue['minute_price'] * df_revenue['total_duration'] +\n",
        "    df_revenue['subscription_fee']\n",
        ")\n",
        "\n",
        "# Отображаем обновленный датафрейм с выручкой\n",
        "df_revenue"
      ],
      "metadata": {
        "colab": {
          "base_uri": "https://localhost:8080/",
          "height": 424
        },
        "id": "Va1tIRuDN9Bm",
        "outputId": "5f938420-7946-485b-b0d7-783966a559d4"
      },
      "execution_count": null,
      "outputs": [
        {
          "output_type": "execute_result",
          "data": {
            "text/plain": [
              "       user_id  month subscription_type  total_distance  total_rides  \\\n",
              "0            1      1             ultra     7027.511294            2   \n",
              "1            1      4             ultra      754.159807            1   \n",
              "2            1      8             ultra     6723.470560            2   \n",
              "3            1     10             ultra     5809.911100            2   \n",
              "4            1     11             ultra     7003.499363            3   \n",
              "...        ...    ...               ...             ...          ...   \n",
              "11295     1534      6              free     3409.468534            2   \n",
              "11296     1534      8              free     7622.453034            2   \n",
              "11297     1534      9              free     4928.173852            1   \n",
              "11298     1534     11              free    13350.015305            4   \n",
              "11299     1534     12              free     2371.711192            1   \n",
              "\n",
              "       total_duration  start_ride_price  minute_price  subscription_fee  \\\n",
              "0                42.0               0.0           6.0             199.0   \n",
              "1                 7.0               0.0           6.0             199.0   \n",
              "2                46.0               0.0           6.0             199.0   \n",
              "3                32.0               0.0           6.0             199.0   \n",
              "4                56.0               0.0           6.0             199.0   \n",
              "...               ...               ...           ...               ...   \n",
              "11295            26.0              50.0           8.0               0.0   \n",
              "11296            48.0              50.0           8.0               0.0   \n",
              "11297            23.0              50.0           8.0               0.0   \n",
              "11298            78.0              50.0           8.0               0.0   \n",
              "11299            16.0              50.0           8.0               0.0   \n",
              "\n",
              "       revenue  \n",
              "0        451.0  \n",
              "1        241.0  \n",
              "2        475.0  \n",
              "3        391.0  \n",
              "4        535.0  \n",
              "...        ...  \n",
              "11295    308.0  \n",
              "11296    484.0  \n",
              "11297    234.0  \n",
              "11298    824.0  \n",
              "11299    178.0  \n",
              "\n",
              "[11300 rows x 10 columns]"
            ],
            "text/html": [
              "\n",
              "  <div id=\"df-d1d9e1f4-118c-4dd0-9e56-72f0b0ed3eef\" class=\"colab-df-container\">\n",
              "    <div>\n",
              "<style scoped>\n",
              "    .dataframe tbody tr th:only-of-type {\n",
              "        vertical-align: middle;\n",
              "    }\n",
              "\n",
              "    .dataframe tbody tr th {\n",
              "        vertical-align: top;\n",
              "    }\n",
              "\n",
              "    .dataframe thead th {\n",
              "        text-align: right;\n",
              "    }\n",
              "</style>\n",
              "<table border=\"1\" class=\"dataframe\">\n",
              "  <thead>\n",
              "    <tr style=\"text-align: right;\">\n",
              "      <th></th>\n",
              "      <th>user_id</th>\n",
              "      <th>month</th>\n",
              "      <th>subscription_type</th>\n",
              "      <th>total_distance</th>\n",
              "      <th>total_rides</th>\n",
              "      <th>total_duration</th>\n",
              "      <th>start_ride_price</th>\n",
              "      <th>minute_price</th>\n",
              "      <th>subscription_fee</th>\n",
              "      <th>revenue</th>\n",
              "    </tr>\n",
              "  </thead>\n",
              "  <tbody>\n",
              "    <tr>\n",
              "      <th>0</th>\n",
              "      <td>1</td>\n",
              "      <td>1</td>\n",
              "      <td>ultra</td>\n",
              "      <td>7027.511294</td>\n",
              "      <td>2</td>\n",
              "      <td>42.0</td>\n",
              "      <td>0.0</td>\n",
              "      <td>6.0</td>\n",
              "      <td>199.0</td>\n",
              "      <td>451.0</td>\n",
              "    </tr>\n",
              "    <tr>\n",
              "      <th>1</th>\n",
              "      <td>1</td>\n",
              "      <td>4</td>\n",
              "      <td>ultra</td>\n",
              "      <td>754.159807</td>\n",
              "      <td>1</td>\n",
              "      <td>7.0</td>\n",
              "      <td>0.0</td>\n",
              "      <td>6.0</td>\n",
              "      <td>199.0</td>\n",
              "      <td>241.0</td>\n",
              "    </tr>\n",
              "    <tr>\n",
              "      <th>2</th>\n",
              "      <td>1</td>\n",
              "      <td>8</td>\n",
              "      <td>ultra</td>\n",
              "      <td>6723.470560</td>\n",
              "      <td>2</td>\n",
              "      <td>46.0</td>\n",
              "      <td>0.0</td>\n",
              "      <td>6.0</td>\n",
              "      <td>199.0</td>\n",
              "      <td>475.0</td>\n",
              "    </tr>\n",
              "    <tr>\n",
              "      <th>3</th>\n",
              "      <td>1</td>\n",
              "      <td>10</td>\n",
              "      <td>ultra</td>\n",
              "      <td>5809.911100</td>\n",
              "      <td>2</td>\n",
              "      <td>32.0</td>\n",
              "      <td>0.0</td>\n",
              "      <td>6.0</td>\n",
              "      <td>199.0</td>\n",
              "      <td>391.0</td>\n",
              "    </tr>\n",
              "    <tr>\n",
              "      <th>4</th>\n",
              "      <td>1</td>\n",
              "      <td>11</td>\n",
              "      <td>ultra</td>\n",
              "      <td>7003.499363</td>\n",
              "      <td>3</td>\n",
              "      <td>56.0</td>\n",
              "      <td>0.0</td>\n",
              "      <td>6.0</td>\n",
              "      <td>199.0</td>\n",
              "      <td>535.0</td>\n",
              "    </tr>\n",
              "    <tr>\n",
              "      <th>...</th>\n",
              "      <td>...</td>\n",
              "      <td>...</td>\n",
              "      <td>...</td>\n",
              "      <td>...</td>\n",
              "      <td>...</td>\n",
              "      <td>...</td>\n",
              "      <td>...</td>\n",
              "      <td>...</td>\n",
              "      <td>...</td>\n",
              "      <td>...</td>\n",
              "    </tr>\n",
              "    <tr>\n",
              "      <th>11295</th>\n",
              "      <td>1534</td>\n",
              "      <td>6</td>\n",
              "      <td>free</td>\n",
              "      <td>3409.468534</td>\n",
              "      <td>2</td>\n",
              "      <td>26.0</td>\n",
              "      <td>50.0</td>\n",
              "      <td>8.0</td>\n",
              "      <td>0.0</td>\n",
              "      <td>308.0</td>\n",
              "    </tr>\n",
              "    <tr>\n",
              "      <th>11296</th>\n",
              "      <td>1534</td>\n",
              "      <td>8</td>\n",
              "      <td>free</td>\n",
              "      <td>7622.453034</td>\n",
              "      <td>2</td>\n",
              "      <td>48.0</td>\n",
              "      <td>50.0</td>\n",
              "      <td>8.0</td>\n",
              "      <td>0.0</td>\n",
              "      <td>484.0</td>\n",
              "    </tr>\n",
              "    <tr>\n",
              "      <th>11297</th>\n",
              "      <td>1534</td>\n",
              "      <td>9</td>\n",
              "      <td>free</td>\n",
              "      <td>4928.173852</td>\n",
              "      <td>1</td>\n",
              "      <td>23.0</td>\n",
              "      <td>50.0</td>\n",
              "      <td>8.0</td>\n",
              "      <td>0.0</td>\n",
              "      <td>234.0</td>\n",
              "    </tr>\n",
              "    <tr>\n",
              "      <th>11298</th>\n",
              "      <td>1534</td>\n",
              "      <td>11</td>\n",
              "      <td>free</td>\n",
              "      <td>13350.015305</td>\n",
              "      <td>4</td>\n",
              "      <td>78.0</td>\n",
              "      <td>50.0</td>\n",
              "      <td>8.0</td>\n",
              "      <td>0.0</td>\n",
              "      <td>824.0</td>\n",
              "    </tr>\n",
              "    <tr>\n",
              "      <th>11299</th>\n",
              "      <td>1534</td>\n",
              "      <td>12</td>\n",
              "      <td>free</td>\n",
              "      <td>2371.711192</td>\n",
              "      <td>1</td>\n",
              "      <td>16.0</td>\n",
              "      <td>50.0</td>\n",
              "      <td>8.0</td>\n",
              "      <td>0.0</td>\n",
              "      <td>178.0</td>\n",
              "    </tr>\n",
              "  </tbody>\n",
              "</table>\n",
              "<p>11300 rows × 10 columns</p>\n",
              "</div>\n",
              "    <div class=\"colab-df-buttons\">\n",
              "\n",
              "  <div class=\"colab-df-container\">\n",
              "    <button class=\"colab-df-convert\" onclick=\"convertToInteractive('df-d1d9e1f4-118c-4dd0-9e56-72f0b0ed3eef')\"\n",
              "            title=\"Convert this dataframe to an interactive table.\"\n",
              "            style=\"display:none;\">\n",
              "\n",
              "  <svg xmlns=\"http://www.w3.org/2000/svg\" height=\"24px\" viewBox=\"0 -960 960 960\">\n",
              "    <path d=\"M120-120v-720h720v720H120Zm60-500h600v-160H180v160Zm220 220h160v-160H400v160Zm0 220h160v-160H400v160ZM180-400h160v-160H180v160Zm440 0h160v-160H620v160ZM180-180h160v-160H180v160Zm440 0h160v-160H620v160Z\"/>\n",
              "  </svg>\n",
              "    </button>\n",
              "\n",
              "  <style>\n",
              "    .colab-df-container {\n",
              "      display:flex;\n",
              "      gap: 12px;\n",
              "    }\n",
              "\n",
              "    .colab-df-convert {\n",
              "      background-color: #E8F0FE;\n",
              "      border: none;\n",
              "      border-radius: 50%;\n",
              "      cursor: pointer;\n",
              "      display: none;\n",
              "      fill: #1967D2;\n",
              "      height: 32px;\n",
              "      padding: 0 0 0 0;\n",
              "      width: 32px;\n",
              "    }\n",
              "\n",
              "    .colab-df-convert:hover {\n",
              "      background-color: #E2EBFA;\n",
              "      box-shadow: 0px 1px 2px rgba(60, 64, 67, 0.3), 0px 1px 3px 1px rgba(60, 64, 67, 0.15);\n",
              "      fill: #174EA6;\n",
              "    }\n",
              "\n",
              "    .colab-df-buttons div {\n",
              "      margin-bottom: 4px;\n",
              "    }\n",
              "\n",
              "    [theme=dark] .colab-df-convert {\n",
              "      background-color: #3B4455;\n",
              "      fill: #D2E3FC;\n",
              "    }\n",
              "\n",
              "    [theme=dark] .colab-df-convert:hover {\n",
              "      background-color: #434B5C;\n",
              "      box-shadow: 0px 1px 3px 1px rgba(0, 0, 0, 0.15);\n",
              "      filter: drop-shadow(0px 1px 2px rgba(0, 0, 0, 0.3));\n",
              "      fill: #FFFFFF;\n",
              "    }\n",
              "  </style>\n",
              "\n",
              "    <script>\n",
              "      const buttonEl =\n",
              "        document.querySelector('#df-d1d9e1f4-118c-4dd0-9e56-72f0b0ed3eef button.colab-df-convert');\n",
              "      buttonEl.style.display =\n",
              "        google.colab.kernel.accessAllowed ? 'block' : 'none';\n",
              "\n",
              "      async function convertToInteractive(key) {\n",
              "        const element = document.querySelector('#df-d1d9e1f4-118c-4dd0-9e56-72f0b0ed3eef');\n",
              "        const dataTable =\n",
              "          await google.colab.kernel.invokeFunction('convertToInteractive',\n",
              "                                                    [key], {});\n",
              "        if (!dataTable) return;\n",
              "\n",
              "        const docLinkHtml = 'Like what you see? Visit the ' +\n",
              "          '<a target=\"_blank\" href=https://colab.research.google.com/notebooks/data_table.ipynb>data table notebook</a>'\n",
              "          + ' to learn more about interactive tables.';\n",
              "        element.innerHTML = '';\n",
              "        dataTable['output_type'] = 'display_data';\n",
              "        await google.colab.output.renderOutput(dataTable, element);\n",
              "        const docLink = document.createElement('div');\n",
              "        docLink.innerHTML = docLinkHtml;\n",
              "        element.appendChild(docLink);\n",
              "      }\n",
              "    </script>\n",
              "  </div>\n",
              "\n",
              "\n",
              "<div id=\"df-9ffa7c9f-7531-485c-9131-79a087a881d0\">\n",
              "  <button class=\"colab-df-quickchart\" onclick=\"quickchart('df-9ffa7c9f-7531-485c-9131-79a087a881d0')\"\n",
              "            title=\"Suggest charts\"\n",
              "            style=\"display:none;\">\n",
              "\n",
              "<svg xmlns=\"http://www.w3.org/2000/svg\" height=\"24px\"viewBox=\"0 0 24 24\"\n",
              "     width=\"24px\">\n",
              "    <g>\n",
              "        <path d=\"M19 3H5c-1.1 0-2 .9-2 2v14c0 1.1.9 2 2 2h14c1.1 0 2-.9 2-2V5c0-1.1-.9-2-2-2zM9 17H7v-7h2v7zm4 0h-2V7h2v10zm4 0h-2v-4h2v4z\"/>\n",
              "    </g>\n",
              "</svg>\n",
              "  </button>\n",
              "\n",
              "<style>\n",
              "  .colab-df-quickchart {\n",
              "      --bg-color: #E8F0FE;\n",
              "      --fill-color: #1967D2;\n",
              "      --hover-bg-color: #E2EBFA;\n",
              "      --hover-fill-color: #174EA6;\n",
              "      --disabled-fill-color: #AAA;\n",
              "      --disabled-bg-color: #DDD;\n",
              "  }\n",
              "\n",
              "  [theme=dark] .colab-df-quickchart {\n",
              "      --bg-color: #3B4455;\n",
              "      --fill-color: #D2E3FC;\n",
              "      --hover-bg-color: #434B5C;\n",
              "      --hover-fill-color: #FFFFFF;\n",
              "      --disabled-bg-color: #3B4455;\n",
              "      --disabled-fill-color: #666;\n",
              "  }\n",
              "\n",
              "  .colab-df-quickchart {\n",
              "    background-color: var(--bg-color);\n",
              "    border: none;\n",
              "    border-radius: 50%;\n",
              "    cursor: pointer;\n",
              "    display: none;\n",
              "    fill: var(--fill-color);\n",
              "    height: 32px;\n",
              "    padding: 0;\n",
              "    width: 32px;\n",
              "  }\n",
              "\n",
              "  .colab-df-quickchart:hover {\n",
              "    background-color: var(--hover-bg-color);\n",
              "    box-shadow: 0 1px 2px rgba(60, 64, 67, 0.3), 0 1px 3px 1px rgba(60, 64, 67, 0.15);\n",
              "    fill: var(--button-hover-fill-color);\n",
              "  }\n",
              "\n",
              "  .colab-df-quickchart-complete:disabled,\n",
              "  .colab-df-quickchart-complete:disabled:hover {\n",
              "    background-color: var(--disabled-bg-color);\n",
              "    fill: var(--disabled-fill-color);\n",
              "    box-shadow: none;\n",
              "  }\n",
              "\n",
              "  .colab-df-spinner {\n",
              "    border: 2px solid var(--fill-color);\n",
              "    border-color: transparent;\n",
              "    border-bottom-color: var(--fill-color);\n",
              "    animation:\n",
              "      spin 1s steps(1) infinite;\n",
              "  }\n",
              "\n",
              "  @keyframes spin {\n",
              "    0% {\n",
              "      border-color: transparent;\n",
              "      border-bottom-color: var(--fill-color);\n",
              "      border-left-color: var(--fill-color);\n",
              "    }\n",
              "    20% {\n",
              "      border-color: transparent;\n",
              "      border-left-color: var(--fill-color);\n",
              "      border-top-color: var(--fill-color);\n",
              "    }\n",
              "    30% {\n",
              "      border-color: transparent;\n",
              "      border-left-color: var(--fill-color);\n",
              "      border-top-color: var(--fill-color);\n",
              "      border-right-color: var(--fill-color);\n",
              "    }\n",
              "    40% {\n",
              "      border-color: transparent;\n",
              "      border-right-color: var(--fill-color);\n",
              "      border-top-color: var(--fill-color);\n",
              "    }\n",
              "    60% {\n",
              "      border-color: transparent;\n",
              "      border-right-color: var(--fill-color);\n",
              "    }\n",
              "    80% {\n",
              "      border-color: transparent;\n",
              "      border-right-color: var(--fill-color);\n",
              "      border-bottom-color: var(--fill-color);\n",
              "    }\n",
              "    90% {\n",
              "      border-color: transparent;\n",
              "      border-bottom-color: var(--fill-color);\n",
              "    }\n",
              "  }\n",
              "</style>\n",
              "\n",
              "  <script>\n",
              "    async function quickchart(key) {\n",
              "      const quickchartButtonEl =\n",
              "        document.querySelector('#' + key + ' button');\n",
              "      quickchartButtonEl.disabled = true;  // To prevent multiple clicks.\n",
              "      quickchartButtonEl.classList.add('colab-df-spinner');\n",
              "      try {\n",
              "        const charts = await google.colab.kernel.invokeFunction(\n",
              "            'suggestCharts', [key], {});\n",
              "      } catch (error) {\n",
              "        console.error('Error during call to suggestCharts:', error);\n",
              "      }\n",
              "      quickchartButtonEl.classList.remove('colab-df-spinner');\n",
              "      quickchartButtonEl.classList.add('colab-df-quickchart-complete');\n",
              "    }\n",
              "    (() => {\n",
              "      let quickchartButtonEl =\n",
              "        document.querySelector('#df-9ffa7c9f-7531-485c-9131-79a087a881d0 button');\n",
              "      quickchartButtonEl.style.display =\n",
              "        google.colab.kernel.accessAllowed ? 'block' : 'none';\n",
              "    })();\n",
              "  </script>\n",
              "</div>\n",
              "    </div>\n",
              "  </div>\n"
            ],
            "application/vnd.google.colaboratory.intrinsic+json": {
              "type": "dataframe",
              "variable_name": "df_revenue",
              "summary": "{\n  \"name\": \"df_revenue\",\n  \"rows\": 11300,\n  \"fields\": [\n    {\n      \"column\": \"user_id\",\n      \"properties\": {\n        \"dtype\": \"number\",\n        \"std\": 440,\n        \"min\": 1,\n        \"max\": 1534,\n        \"num_unique_values\": 1534,\n        \"samples\": [\n          1365,\n          77,\n          317\n        ],\n        \"semantic_type\": \"\",\n        \"description\": \"\"\n      }\n    },\n    {\n      \"column\": \"month\",\n      \"properties\": {\n        \"dtype\": \"int32\",\n        \"num_unique_values\": 12,\n        \"samples\": [\n          5,\n          2,\n          1\n        ],\n        \"semantic_type\": \"\",\n        \"description\": \"\"\n      }\n    },\n    {\n      \"column\": \"subscription_type\",\n      \"properties\": {\n        \"dtype\": \"category\",\n        \"num_unique_values\": 2,\n        \"samples\": [\n          \"free\",\n          \"ultra\"\n        ],\n        \"semantic_type\": \"\",\n        \"description\": \"\"\n      }\n    },\n    {\n      \"column\": \"total_distance\",\n      \"properties\": {\n        \"dtype\": \"number\",\n        \"std\": 2883.5203418378396,\n        \"min\": 2.57078688756684,\n        \"max\": 23429.487786236627,\n        \"num_unique_values\": 11300,\n        \"samples\": [\n          4357.6728893344425,\n          7518.345564071304\n        ],\n        \"semantic_type\": \"\",\n        \"description\": \"\"\n      }\n    },\n    {\n      \"column\": \"total_rides\",\n      \"properties\": {\n        \"dtype\": \"number\",\n        \"std\": 0,\n        \"min\": 1,\n        \"max\": 7,\n        \"num_unique_values\": 7,\n        \"samples\": [\n          2,\n          1\n        ],\n        \"semantic_type\": \"\",\n        \"description\": \"\"\n      }\n    },\n    {\n      \"column\": \"total_duration\",\n      \"properties\": {\n        \"dtype\": \"number\",\n        \"std\": 16.709409328068812,\n        \"min\": 3.0,\n        \"max\": 143.0,\n        \"num_unique_values\": 117,\n        \"samples\": [\n          76.0,\n          56.0\n        ],\n        \"semantic_type\": \"\",\n        \"description\": \"\"\n      }\n    },\n    {\n      \"column\": \"start_ride_price\",\n      \"properties\": {\n        \"dtype\": \"number\",\n        \"std\": 24.5076531945547,\n        \"min\": 0.0,\n        \"max\": 50.0,\n        \"num_unique_values\": 2,\n        \"samples\": [\n          50.0,\n          0.0\n        ],\n        \"semantic_type\": \"\",\n        \"description\": \"\"\n      }\n    },\n    {\n      \"column\": \"minute_price\",\n      \"properties\": {\n        \"dtype\": \"number\",\n        \"std\": 0.9803061277822801,\n        \"min\": 6.0,\n        \"max\": 8.0,\n        \"num_unique_values\": 2,\n        \"samples\": [\n          8.0,\n          6.0\n        ],\n        \"semantic_type\": \"\",\n        \"description\": \"\"\n      }\n    },\n    {\n      \"column\": \"subscription_fee\",\n      \"properties\": {\n        \"dtype\": \"number\",\n        \"std\": 97.54045971432653,\n        \"min\": 0.0,\n        \"max\": 199.0,\n        \"num_unique_values\": 2,\n        \"samples\": [\n          0.0,\n          199.0\n        ],\n        \"semantic_type\": \"\",\n        \"description\": \"\"\n      }\n    },\n    {\n      \"column\": \"revenue\",\n      \"properties\": {\n        \"dtype\": \"number\",\n        \"std\": 153.31731415749732,\n        \"min\": 74.0,\n        \"max\": 1444.0,\n        \"num_unique_values\": 338,\n        \"samples\": [\n          728.0,\n          880.0\n        ],\n        \"semantic_type\": \"\",\n        \"description\": \"\"\n      }\n    }\n  ]\n}"
            }
          },
          "metadata": {},
          "execution_count": 52
        }
      ]
    },
    {
      "cell_type": "markdown",
      "source": [
        "# Проверка гипотез"
      ],
      "metadata": {
        "id": "4vTQMTzRO2mR"
      }
    },
    {
      "cell_type": "markdown",
      "source": [
        "## Выгоднее ли пользователи с подпиской для компании?"
      ],
      "metadata": {
        "id": "xXYiNw1S5XOl"
      }
    },
    {
      "cell_type": "markdown",
      "source": [
        "*Важно понять, тратят ли пользователи с подпиской больше времени на поездки? Если да, то пользователи с подпиской могут быть «выгоднее» для компании.*"
      ],
      "metadata": {
        "id": "97uASXfM5EJx"
      }
    },
    {
      "cell_type": "markdown",
      "source": [
        "**Формулировка гипотез**\n",
        "*   Нулевая гипотеза H0: Среднее время поездок у пользователей с подпиской МЕНЬШЕ, чем у пользователей без подписки.\n",
        "*   Альтернативная гипотеза H1: Среднее время поездок у пользователей с подпиской БОЛЬШЕ,  чем у пользователей без подписки."
      ],
      "metadata": {
        "id": "1WxWnl-hCHfV"
      }
    },
    {
      "cell_type": "code",
      "source": [
        "# Уровень значимости\n",
        "alpha = 0.05\n",
        "\n",
        "# Данные о продолжительности поездок для пользователей с подпиской и без подписки\n",
        "duration_with_subs = df_with_subs['duration']\n",
        "duration_no_subs = df_no_subs['duration']\n",
        "\n",
        "# Тестирование гипотезы\n",
        "t_stat, p_value = ttest_ind(duration_with_subs, duration_no_subs, equal_var=False, alternative='greater')\n",
        "\n",
        "# Отображение результатов\n",
        "print(f't-статистика: {t_stat:.4f}')\n",
        "print(f'p-значение: {p_value:.4e}')\n",
        "\n",
        "# Проверка гипотезы\n",
        "if p_value < alpha:\n",
        "    print('Отвергаем нулевую гипотезу.')\n",
        "else:\n",
        "    print('Не отвергаем нулевую гипотезу.')"
      ],
      "metadata": {
        "colab": {
          "base_uri": "https://localhost:8080/"
        },
        "id": "QNK80r4E34tV",
        "outputId": "f3b2eb4f-2f2e-48d6-dc8b-a3342c117eac"
      },
      "execution_count": null,
      "outputs": [
        {
          "output_type": "stream",
          "name": "stdout",
          "text": [
            "t-статистика: 11.2449\n",
            "p-значение: 1.6162e-29\n",
            "Отвергаем нулевую гипотезу.\n"
          ]
        }
      ]
    },
    {
      "cell_type": "markdown",
      "source": [
        "**P-value** значительно меньше порога - нулевая гипотеза отвергается.\n",
        "\n",
        "Это означает, что среднее время поездок пользователей с подпиской, чем у пользователей без подписки.\n",
        "\n",
        "Данный результат подтверждает, что пользователи с подпиской могут быть \"выгоднее\" для компании с точки зрения времени, проведённого в поездках."
      ],
      "metadata": {
        "id": "OtfFd9wS4Spn"
      }
    },
    {
      "cell_type": "code",
      "source": [
        "# Вычисление средних значений для обеих групп\n",
        "mean_duration_with_subs = round(duration_with_subs.mean(), 2)\n",
        "mean_duration_no_subs = round(duration_no_subs.mean(), 2)\n",
        "\n",
        "# Отображение результатов\n",
        "print('Среднее время поездки пользователей с подпиской:', mean_duration_with_subs)\n",
        "print('Среднее время поездки пользователей без подписки:', mean_duration_no_subs)"
      ],
      "metadata": {
        "colab": {
          "base_uri": "https://localhost:8080/"
        },
        "id": "PMU9XeHzIXFc",
        "outputId": "f567a59d-9cc1-4200-e5a3-89634e5f17ba"
      },
      "execution_count": null,
      "outputs": [
        {
          "output_type": "stream",
          "name": "stdout",
          "text": [
            "Среднее время поездки пользователей с подпиской: 18.54\n",
            "Среднее время поездки пользователей без подписки: 17.53\n"
          ]
        }
      ]
    },
    {
      "cell_type": "markdown",
      "source": [
        "## Расстояние, которое проезжают пользователи с подпиской превышает 3130 метров?"
      ],
      "metadata": {
        "id": "6ALmapnK69Fb"
      }
    },
    {
      "cell_type": "markdown",
      "source": [
        "*Расстояние одной поездки в 3130 метров — оптимальное с точки зрения износа самоката. Можно ли сказать, что среднее расстояние, которое проезжают пользователи с подпиской за одну поездку, не превышает 3130 метров?*"
      ],
      "metadata": {
        "id": "QSPk2a9B6vUH"
      }
    },
    {
      "cell_type": "markdown",
      "source": [
        "**Формулировка гипотез**\n",
        "*   H0: Среднее расстояние, которое проезжают пользователи с подпиской, равно или меньше 3130 метров.\n",
        "*   H1: Среднее расстояние превышает 3130 метров."
      ],
      "metadata": {
        "id": "jSS053B0JUQU"
      }
    },
    {
      "cell_type": "code",
      "source": [
        "# Данные о расстоянии поездок для пользователей с подпиской\n",
        "distance_with_subs = df_with_subs['distance']\n",
        "\n",
        "# Оптимальное расстояние\n",
        "optimal_distance = 3130\n",
        "\n",
        "# Проведение одновыборочного t-теста\n",
        "t_stat, p_value = ttest_1samp(distance_with_subs, popmean=optimal_distance, alternative='greater')\n",
        "\n",
        "# Вывод результатов\n",
        "mean_distance_with_subs = round(distance_with_subs.mean(), 2)\n",
        "print('Среднее расстояние поездки пользователей с подпиской:', mean_distance_with_subs)\n",
        "print(f't-статистика: {t_stat:.4f}')\n",
        "print(f'p-значение: {p_value:.4e}')\n",
        "\n",
        "# Проверка гипотезы\n",
        "if p_value < alpha:\n",
        "    print('Отвергаем нулевую гипотезу.')\n",
        "else:\n",
        "    print('Не отвергаем нулевую гипотезу.')"
      ],
      "metadata": {
        "colab": {
          "base_uri": "https://localhost:8080/"
        },
        "id": "qHPHntb96Aok",
        "outputId": "87d55195-e38c-424d-92b0-8bf1d2da2266"
      },
      "execution_count": null,
      "outputs": [
        {
          "output_type": "stream",
          "name": "stdout",
          "text": [
            "Среднее расстояние поездки пользователей с подпиской: 3115.45\n",
            "t-статистика: -1.4021\n",
            "p-значение: 9.1954e-01\n",
            "Не отвергаем нулевую гипотезу.\n"
          ]
        }
      ]
    },
    {
      "cell_type": "markdown",
      "source": [
        "**P-value** значительно больше порога - нет оснований отвергнуть нулевую гипотезу.\n",
        "\n",
        "Следовательно, можно утверждать, что среднее расстояние, которое проезжают пользователи с подпиской за одну поездку, не превышает 3130 метров."
      ],
      "metadata": {
        "id": "cFH8pU5g6XQ6"
      }
    },
    {
      "cell_type": "markdown",
      "source": [
        "## Ежемесячная выручка от пользователей с подпиской выше?"
      ],
      "metadata": {
        "id": "wtrj_1b19vLt"
      }
    },
    {
      "cell_type": "markdown",
      "source": [
        "*Проверьте гипотезу о том, будет ли помесячная выручка от пользователей с подпиской по месяцам выше, чем выручка от пользователей без подписки.*"
      ],
      "metadata": {
        "id": "oPX-z5so9qcZ"
      }
    },
    {
      "cell_type": "markdown",
      "source": [
        "**Формулировка гипотез**\n",
        "*   H0: Средняя выручка от пользователей с подпиской равна или меньше выручки от пользователей без подписки.\n",
        "*   H1: Средняя выручка от пользователей с подпиской больше."
      ],
      "metadata": {
        "id": "adLs24alOox1"
      }
    },
    {
      "cell_type": "code",
      "source": [
        "# Агрегируем выручку для пользователей с подпиской и без подписки без группировки по месяцам\n",
        "revenue_with_subs_all = df_revenue[df_revenue['user_id'].isin(df_with_subs['user_id'])]['revenue']\n",
        "revenue_no_subs_all = df_revenue[df_revenue['user_id'].isin(df_no_subs['user_id'])]['revenue']\n",
        "\n",
        "# Преобразуем в массивы для сравнения\n",
        "revenue_with_subs_values = revenue_with_subs_all.values\n",
        "revenue_no_subs_values = revenue_no_subs_all.values\n",
        "\n",
        "# Проведение одностороннего t-теста\n",
        "t_stat, p_value = ttest_ind(revenue_with_subs_values, revenue_no_subs_values, alternative='greater', equal_var=False)\n",
        "\n",
        "# Результаты теста\n",
        "print(f't-статистика: {t_stat:.4f}')\n",
        "print(f'p-значение: {p_value:.4e}')\n",
        "\n",
        "# Проверка гипотезы\n",
        "if p_value < alpha:\n",
        "    print('Отвергаем нулевую гипотезу.')\n",
        "else:\n",
        "    print('Не отвергаем нулевую гипотезу.')"
      ],
      "metadata": {
        "colab": {
          "base_uri": "https://localhost:8080/"
        },
        "id": "V22dBE0u83_S",
        "outputId": "d094a005-bd8d-44d5-a0f3-714dc0661386"
      },
      "execution_count": null,
      "outputs": [
        {
          "output_type": "stream",
          "name": "stdout",
          "text": [
            "t-статистика: 12.9440\n",
            "p-значение: 2.4970e-38\n",
            "Отвергаем нулевую гипотезу.\n"
          ]
        }
      ]
    },
    {
      "cell_type": "markdown",
      "source": [
        "**P-value** значительно меньше порога - нулевая гипотеза отвергается.\n",
        "\n",
        "Следовательно, можно утверждать, что помесячная выручка от пользователей с подпиской действительно выше, чем от пользователей без подписки."
      ],
      "metadata": {
        "id": "YMM95ejx9Spq"
      }
    },
    {
      "cell_type": "code",
      "source": [
        "# Вычисление средних значений для обеих групп выручки\n",
        "mean_revenue_with_subs = round(revenue_with_subs_all.mean(), 2)\n",
        "mean_revenue_no_subs = round(revenue_no_subs_all.mean(), 2)\n",
        "\n",
        "# Отображение результатов\n",
        "print('Средняя выручка от пользователей с подпиской:', mean_revenue_with_subs)\n",
        "print('Средняя выручка от пользователей без подписки:', mean_revenue_no_subs)"
      ],
      "metadata": {
        "colab": {
          "base_uri": "https://localhost:8080/"
        },
        "id": "dzw933d1PP1U",
        "outputId": "609f4d4c-ac19-43f1-ecbb-4a5563544322"
      },
      "execution_count": null,
      "outputs": [
        {
          "output_type": "stream",
          "name": "stdout",
          "text": [
            "Средняя выручка от пользователей с подпиской: 362.79\n",
            "Средняя выручка от пользователей без подписки: 329.33\n"
          ]
        }
      ]
    },
    {
      "cell_type": "markdown",
      "source": [
        "## Тест для проверки гипотезы о снижении количества обращений в техподдержку"
      ],
      "metadata": {
        "id": "puwTQ6g2DDJb"
      }
    },
    {
      "cell_type": "markdown",
      "source": [
        "*Представьте такую ситуацию: техническая команда сервиса обновила сервера, с которыми взаимодействует мобильное приложение. Она надеется, что из-за этого количество обращений в техподдержку значимо снизилось. Некоторый файл содержит для каждого пользователя данные о количестве обращений до обновления и после него. Какой тест вам понадобился бы для проверки этой гипотезы?*"
      ],
      "metadata": {
        "id": "aRoMQOWhCnAL"
      }
    },
    {
      "cell_type": "markdown",
      "source": [
        "Для проверки гипотезы о снижении количества обращений в техподдержку после обновления серверов потребуется t-тест для зависимых выборок (парный t-тест) - данные до и после обновления серверов принадлежат одним и тем же пользователям, а значит, выборки зависят друг от друга. Следует использовать метод `scipy.stats.ttest_rel`."
      ],
      "metadata": {
        "id": "8rvOk2jLCy1f"
      }
    },
    {
      "cell_type": "markdown",
      "source": [
        "## Заключение\n",
        "В результате проверки гипотез установлено, что пользователи с подпиской проводят больше времени в поездках - это делает их более выгодными для компании, а их среднее расстояние за поездку не превышает оптимального уровня износа самоката в 3130 метров. Также выяснено, что помесячная выручка от подписчиков значимо выше, чем от пользователей без подписки - это подтверждает их коммерческую ценность."
      ],
      "metadata": {
        "id": "aCtHQZZlEYNP"
      }
    },
    {
      "cell_type": "markdown",
      "source": [
        "# Распределения"
      ],
      "metadata": {
        "id": "TPRLw57hIuF1"
      }
    },
    {
      "cell_type": "markdown",
      "source": [
        "## Акция с раздачей промокодов"
      ],
      "metadata": {
        "id": "SuCfQ19iIm71"
      }
    },
    {
      "cell_type": "code",
      "source": [
        "# Заданные параметры\n",
        "p = 0.1  # Вероятность продления подписки\n",
        "required_successes = 100  # Требуемое число пользователей, которые продлят подписку\n",
        "alpha = 0.05  # Допустимая вероятность не выполнить план (уровень значимости)\n",
        "\n",
        "# Перебор значений N для поиска минимального количества промокодов\n",
        "for N in range(1000, 10000):\n",
        "    # Вычисляем вероятность получить меньше 100 успешных подписок\n",
        "    probability = binom.cdf(required_successes - 1, N, p)\n",
        "    if probability <= alpha:\n",
        "        min_promocodes = N\n",
        "        break\n",
        "\n",
        "# Построение графика распределения для найденного значения N\n",
        "x = np.arange(0, min_promocodes + 1)\n",
        "y = binom.pmf(x, min_promocodes, p)\n",
        "\n",
        "plt.figure(figsize=(10, 6))\n",
        "plt.bar(x, y, alpha=0.7, color='blue', label='Биномиальное распределение')\n",
        "plt.axvline(required_successes, color='red', linestyle='--', label='Требуемое число успешных подписок (100)')\n",
        "plt.title(f\"Биномиальное распределение (N={min_promocodes}, p={p})\")\n",
        "plt.xlabel('Число успешных подписок')\n",
        "plt.ylabel('Вероятность')\n",
        "plt.legend()\n",
        "plt.grid()\n",
        "plt.show()"
      ],
      "metadata": {
        "colab": {
          "base_uri": "https://localhost:8080/",
          "height": 564
        },
        "id": "MahzWLy5Hede",
        "outputId": "d2fe7bb5-9885-4bba-fd6a-332fc20c5e40"
      },
      "execution_count": null,
      "outputs": [
        {
          "output_type": "display_data",
          "data": {
            "text/plain": [
              "<Figure size 1000x600 with 1 Axes>"
            ],
            "image/png": "[encoded data removed]"
          },
          "metadata": {}
        }
      ]
    },
    {
      "cell_type": "markdown",
      "source": [
        "Для достижения вероятности выполнения плана (не менее 100 продлений подписки) с уровнем значимости 5% необходимо разослать **1161** промокод."
      ],
      "metadata": {
        "id": "70T9gp_WITsU"
      }
    },
    {
      "cell_type": "markdown",
      "source": [
        "## Оценка вероятности открытия push-уведомлений"
      ],
      "metadata": {
        "id": "Voawi8zQeHGl"
      }
    },
    {
      "cell_type": "markdown",
      "source": [
        "Отдел маркетинга рассылает клиентам push-уведомления в мобильном приложении. Клиенты могут открыть его или не открывать. Известно, что уведомления открывают около 40 % получивших клиентов. Отдел планирует разослать 1 млн уведомлений. С помощью аппроксимации постройте примерный график распределения и оцените вероятность того, что уведомление откроют не более 399,5 тыс. пользователей."
      ],
      "metadata": {
        "id": "E5r8hqyxdrmp"
      }
    },
    {
      "cell_type": "code",
      "source": [
        "# Параметры задачи\n",
        "n = 1_000_000  # Количество уведомлений\n",
        "p = 0.4  # Вероятность открытия одного уведомления\n",
        "mean = n * p  # Математическое ожидание (среднее)\n",
        "std = np.sqrt(n * p * (1 - p))  # Стандартное отклонение\n",
        "\n",
        "# Нормальная аппроксимация\n",
        "x = np.linspace(mean - 4 * std, mean + 4 * std, 1000)\n",
        "y = norm.pdf(x, loc=mean, scale=std)\n",
        "\n",
        "# Вероятность того, что уведомления откроют не более 399.5 тыс. пользователей\n",
        "probability = norm.cdf(399_500, loc=mean, scale=std)\n",
        "\n",
        "# Построение графика распределения\n",
        "plt.figure(figsize=(10, 6))\n",
        "plt.plot(x, y, label='Нормальное распределение', color='blue')\n",
        "plt.axvline(399_500, color='red', linestyle='--', label='399.5 тыс. пользователей')\n",
        "plt.title(\"Аппроксимация биномиального распределения нормальным\")\n",
        "plt.xlabel(\"Число открывших уведомление\")\n",
        "plt.ylabel(\"Плотность вероятности\")\n",
        "plt.legend()\n",
        "plt.grid()\n",
        "plt.show()\n",
        "\n",
        "probability"
      ],
      "metadata": {
        "colab": {
          "base_uri": "https://localhost:8080/",
          "height": 581
        },
        "id": "6d6ejor8YoAz",
        "outputId": "5f6cb3d1-06db-41d6-e4f5-fa7a66957c45"
      },
      "execution_count": null,
      "outputs": [
        {
          "output_type": "display_data",
          "data": {
            "text/plain": [
              "<Figure size 1000x600 with 1 Axes>"
            ],
            "image/png": "[encoded data removed]"
          },
          "metadata": {}
        },
        {
          "output_type": "execute_result",
          "data": {
            "text/plain": [
              "0.15371708296369768"
            ]
          },
          "metadata": {},
          "execution_count": 59
        }
      ]
    },
    {
      "cell_type": "markdown",
      "source": [
        "Вероятность того, что уведомление откроют не более 399,5 тысяч пользователей, составляет примерно 15.37%. График демонстрирует нормальную аппроксимацию биномиального распределения."
      ],
      "metadata": {
        "id": "VvP9_WO1Z3Mf"
      }
    },
    {
      "cell_type": "markdown",
      "source": [
        "## Заключение\n",
        "В рамках анализа распределений определено, что для достижения планового количества продлений подписки (100 пользователей) с вероятностью выполнения задачи 95 % необходимо разослать минимум 1161 промокод. Также установлено, что вероятность того, что менее 399,5 тысяч из 1 миллиона разосланных push-уведомлений будут открыты, составляет около 15.37 %."
      ],
      "metadata": {
        "id": "eh1ibYyjaYMo"
      }
    },
    {
      "cell_type": "markdown",
      "source": [
        "# Общее заключение по проекту\n",
        "\n",
        "В рамках проекта были последовательно выполнены этапы анализа и обработки данных, а также проверки гипотез, что позволило получить следующие ключевые выводы:\n",
        "\n",
        "*   **Загрузка данных и подготовка их к анализу**: Были загружены и обработаны три датафрейма с данными о пользователях, поездках и подписках. Данные в целом не содержали пропусков, однако в таблице `df_users` были выявлены и устранены дубликаты. Проведена обработка временных данных и добавление необходимых атрибутов для дальнейшего анализа.\n",
        "\n",
        "*   **Исследовательский анализ данных**: Выявлены основные демографические и поведенческие характеристики пользователей. Большинство клиентов предпочитают использовать сервис без подписки, но значительная доля пользователей с подпиской указывает на её востребованность. Основной возрастной группой пользователей являются молодые люди 20–30 лет, а типичная поездка длится 15–20 минут и покрывает около 3 км.\n",
        "\n",
        "*   **Объединение данных**: Анализ объединённых данных подтвердил, что наличие подписки стимулирует клиентов к более активному использованию сервиса, включая увеличение длительности поездок. Это свидетельствует о положительном влиянии подписок на вовлечённость пользователей.\n",
        "\n",
        "*   **Проверка гипотез**: Установлено, что пользователи с подпиской проводят в поездках больше времени, что делает их более ценными с точки зрения выручки. Средняя дистанция поездок подписчиков не превышает оптимального уровня износа оборудования. Выручка от подписчиков значительно превышает доходы от пользователей без подписки, что подчёркивает их коммерческую важность.\n",
        "\n",
        "*   **Анализ распределений**: Для достижения целевых показателей маркетинговых кампаний рассчитано необходимое количество рассылок. Например, для привлечения 100 пользователей необходимо разослать не менее 1161 промокод. Анализ push-уведомлений показал вероятность 15,37 % уровня открытия сообщений, что может быть учтено при планировании стратегии взаимодействия с клиентами.\n",
        "\n",
        "### **Выводы**:\n",
        "Пользователи с подпиской проводят в среднем больше времени на поездках (18,5 мин), чем пользователи без подписки (17,3 мин), что делает их более выгодными для компании. Средняя месячная выручка от подписчиков также выше (362,79) по сравнению с пользователями без подписки (328,64).\n",
        "\n",
        "### **Рекомендации**:\n",
        "*   **Увеличить привлекательность подписки**: Поскольку пользователи с подпиской тратят больше времени на поездки, увеличивая выручку, стоит усилить маркетинговые усилия, направленные на привлечение новых подписчиков, предлагая дополнительные бонусы или улучшения в сервисе.\n",
        "\n",
        "*   **Оптимизация тарифных планов**: Учитывая, что средняя дистанция поездок не превышает оптимального уровня износа, можно рассмотреть возможность создания дополнительных тарифных планов или акций для повышения частоты использования самокатов.\n",
        "\n",
        "*   **Фокус на молодых пользователях**: Поскольку основная аудитория — это молодые люди 20-30 лет, можно направить маркетинговые усилия на улучшение сервиса для этой возрастной группы, например, через партнерства с учебными заведениями или вузы.\n",
        "\n",
        "*   **Улучшение взаимодействия через уведомления**: Учитывая низкий уровень открытия push-уведомлений (15,37%), необходимо оптимизировать сообщения, улучшить таргетинг и повысить привлекательность уведомлений для увеличения их эффективности.\n",
        "\n",
        "*   **Оптимизация маркетинговых рассылок**: Для привлечения новых пользователей важно увеличить количество рассылок, исходя из рассчитанных потребностей, например, отправлять 1161 промокод для достижения цели привлечения 100 новых клиентов."
      ],
      "metadata": {
        "id": "WtLwc33cfECW"
      }
    }
  ]
}