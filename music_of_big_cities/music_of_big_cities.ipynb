{
  "nbformat": 4,
  "nbformat_minor": 0,
  "metadata": {
    "colab": {
      "provenance": [],
      "toc_visible": true
    },
    "kernelspec": {
      "name": "python3",
      "display_name": "Python 3"
    },
    "language_info": {
      "name": "python"
    }
  },
  "cells": [
    {
      "cell_type": "markdown",
      "source": [
        "**Задание 1**\n",
        "\n",
        "Основной инструмент для работы с данными — pandas. Импортируйте эту библиотеку в сокращённой форме — pd."
      ],
      "metadata": {
        "id": "QlflDxQGyf93"
      }
    },
    {
      "cell_type": "code",
      "execution_count": null,
      "metadata": {
        "id": "p27oerukyE3R"
      },
      "outputs": [],
      "source": [
        "# импорт библиотеки pandas\n",
        "import pandas as pd"
      ]
    },
    {
      "cell_type": "markdown",
      "source": [
        "**Задание 2**\n",
        "\n",
        "Прочитайте файл yandex_music_project.csv из папки /datasets и сохраните его в переменной df."
      ],
      "metadata": {
        "id": "LBmG48BEy3Cj"
      }
    },
    {
      "cell_type": "code",
      "source": [
        "# загрузим данные\n",
        "try:\n",
        "    # попытка прочитать файл из Drive Google\n",
        "    path = '/content/drive/MyDrive/Colab Notebooks/Обучение/Яндекс Практикум/Аналитик данных (расширенный)/Dataset/'\n",
        "    df = pd.read_csv(path + 'yandex_music_project.csv')\n",
        "except FileNotFoundError:\n",
        "    # если файл не найден, загрузка из URL\n",
        "    df = pd.read_csv('https://code.s3.yandex.net/datasets/yandex_music_project.csv')"
      ],
      "metadata": {
        "id": "24PxS6aHy7IZ"
      },
      "execution_count": null,
      "outputs": []
    },
    {
      "cell_type": "markdown",
      "source": [
        "**Задание 3**\n",
        "\n",
        "Выведите на экран первые десять строк датафрейма df."
      ],
      "metadata": {
        "id": "9P0CFPWGzZTE"
      }
    },
    {
      "cell_type": "code",
      "source": [
        "# получение первых 10 строк таблицы df\n",
        "print(df.head(10))"
      ],
      "metadata": {
        "colab": {
          "base_uri": "https://localhost:8080/"
        },
        "id": "KaPb15uGzbNC",
        "outputId": "3c3dcd5a-85e5-4041-d9fb-75802674a9a3"
      },
      "execution_count": null,
      "outputs": [
        {
          "output_type": "stream",
          "name": "stdout",
          "text": [
            "     userID                        Track            artist   genre  \\\n",
            "0  FFB692EC            Kamigata To Boots  The Mass Missile    rock   \n",
            "1  55204538  Delayed Because of Accident  Andreas Rönnberg    rock   \n",
            "2    20EC38            Funiculì funiculà       Mario Lanza     pop   \n",
            "3  A3DD03C9        Dragons in the Sunset        Fire + Ice    folk   \n",
            "4  E2DC1FAE                  Soul People        Space Echo   dance   \n",
            "5  842029A1                    Преданная         IMPERVTOR  rusrap   \n",
            "6  4CB90AA5                         True      Roman Messer   dance   \n",
            "7  F03E1C1F             Feeling This Way   Polina Griffith   dance   \n",
            "8  8FA1D3BE     И вновь продолжается бой               NaN  ruspop   \n",
            "9  E772D5C0                    Pessimist               NaN   dance   \n",
            "\n",
            "             City        time        Day  \n",
            "0  Saint-Petersburg  20:28:33  Wednesday  \n",
            "1            Moscow  14:07:09     Friday  \n",
            "2  Saint-Petersburg  20:58:07  Wednesday  \n",
            "3  Saint-Petersburg  08:37:09     Monday  \n",
            "4            Moscow  08:34:34     Monday  \n",
            "5  Saint-Petersburg  13:09:41     Friday  \n",
            "6            Moscow  13:00:07  Wednesday  \n",
            "7            Moscow  20:47:49  Wednesday  \n",
            "8            Moscow  09:17:40     Friday  \n",
            "9  Saint-Petersburg  21:20:49  Wednesday  \n"
          ]
        }
      ]
    },
    {
      "cell_type": "markdown",
      "source": [
        "**Задание 4**\n",
        "\n",
        "Одной командой получите общую информацию о таблице."
      ],
      "metadata": {
        "id": "l-1JEAghzv97"
      }
    },
    {
      "cell_type": "code",
      "source": [
        "# получение общей информации о данных в таблице df\n",
        "df.info()"
      ],
      "metadata": {
        "colab": {
          "base_uri": "https://localhost:8080/"
        },
        "id": "s7fwuLONzyRu",
        "outputId": "03a91964-85ee-4379-b26f-a6c3c135d080"
      },
      "execution_count": null,
      "outputs": [
        {
          "output_type": "stream",
          "name": "stdout",
          "text": [
            "<class 'pandas.core.frame.DataFrame'>\n",
            "RangeIndex: 65079 entries, 0 to 65078\n",
            "Data columns (total 7 columns):\n",
            " #   Column    Non-Null Count  Dtype \n",
            "---  ------    --------------  ----- \n",
            " 0     userID  65079 non-null  object\n",
            " 1   Track     63848 non-null  object\n",
            " 2   artist    57876 non-null  object\n",
            " 3   genre     63881 non-null  object\n",
            " 4     City    65079 non-null  object\n",
            " 5   time      65079 non-null  object\n",
            " 6   Day       65079 non-null  object\n",
            "dtypes: object(7)\n",
            "memory usage: 3.5+ MB\n"
          ]
        }
      ]
    },
    {
      "cell_type": "markdown",
      "source": [
        "**Задание 5**\n",
        "\n",
        "*Вопрос со свободной формой ответа*\n",
        "В названиях колонок видны три нарушения стиля:\n",
        "1. Строчные буквы сочетаются с прописными.\n",
        "2. Встречаются пробелы.\n",
        "\n",
        "Найдите третье нарушение стиля. Напишите ваш ответ в ячейке комментарием. Не удаляйте символ `#`. Не меняйте тип этой ячейки на Markdown."
      ],
      "metadata": {
        "id": "f3i1R6zgz2AF"
      }
    },
    {
      "cell_type": "code",
      "source": [
        "# в userID: user не отделен от ID символом \"_\"."
      ],
      "metadata": {
        "id": "Y4h9tFgv0N0U"
      },
      "execution_count": null,
      "outputs": []
    },
    {
      "cell_type": "markdown",
      "source": [
        "**Задание 6**\n",
        "\n",
        "Выведите на экран названия столбцов датафрейма df."
      ],
      "metadata": {
        "id": "hu2puJcg0SQl"
      }
    },
    {
      "cell_type": "code",
      "source": [
        "# перечень названий столбцов таблицы df\n",
        "columns = df.columns\n",
        "print(columns)"
      ],
      "metadata": {
        "colab": {
          "base_uri": "https://localhost:8080/"
        },
        "id": "-Sp07rcz0XVF",
        "outputId": "6d612c22-d62d-48a4-d861-979188865c88"
      },
      "execution_count": null,
      "outputs": [
        {
          "output_type": "stream",
          "name": "stdout",
          "text": [
            "Index(['  userID', 'Track', 'artist', 'genre', '  City  ', 'time', 'Day'], dtype='object')\n"
          ]
        }
      ]
    },
    {
      "cell_type": "markdown",
      "source": [
        "**Задание 7**\n",
        "\n",
        "Приведите названия в соответствие с хорошим стилем:\n",
        "- несколько слов в названии запишите в «змеином_регистре»,\n",
        "- все символы сделайте строчными,\n",
        "- устраните пробелы.\n",
        "\n",
        "Для этого переименуйте колонки так:\n",
        "- `' userID'` → `'user_id'`;\n",
        "- `'Track'` → `'track'`;\n",
        "- `' City '` → `'city'`;\n",
        "- `'Day'` → `'day'`."
      ],
      "metadata": {
        "id": "W1tiMNEf0crK"
      }
    },
    {
      "cell_type": "code",
      "source": [
        "# переименование столбцов\n",
        "df = df.rename(columns={'  userID': 'user_id', 'Track': 'track', '  City  ': 'city', 'Day': 'day'})"
      ],
      "metadata": {
        "id": "eYgQZ5tm0hOy"
      },
      "execution_count": null,
      "outputs": []
    },
    {
      "cell_type": "markdown",
      "source": [
        "**Задание 8**\n",
        "\n",
        "Проверьте результат. Для этого ещё раз выведите на экран названия столбцов датафрейма df."
      ],
      "metadata": {
        "id": "x6Fn8Udu1IFw"
      }
    },
    {
      "cell_type": "code",
      "source": [
        "# проверка результатов - перечень названий столбцов\n",
        "columns = df.columns\n",
        "print(columns)"
      ],
      "metadata": {
        "colab": {
          "base_uri": "https://localhost:8080/"
        },
        "id": "G3jJ_ilP1LvE",
        "outputId": "3cf5b8d7-108e-4887-b779-ddc679e0ca28"
      },
      "execution_count": null,
      "outputs": [
        {
          "output_type": "stream",
          "name": "stdout",
          "text": [
            "Index(['user_id', 'track', 'artist', 'genre', 'city', 'time', 'day'], dtype='object')\n"
          ]
        }
      ]
    },
    {
      "cell_type": "markdown",
      "source": [
        "**Задание 9**\n",
        "\n",
        "Посчитайте, сколько в каждом из столбцов таблицы пропущенных значений."
      ],
      "metadata": {
        "id": "2A0Apn_V1Pec"
      }
    },
    {
      "cell_type": "code",
      "source": [
        "# подсчёт пропусков\n",
        "print(df.isna().sum())"
      ],
      "metadata": {
        "colab": {
          "base_uri": "https://localhost:8080/"
        },
        "id": "mqyD3VPV1Snl",
        "outputId": "bf59431c-0dba-4f12-bb01-35fd7e621dce"
      },
      "execution_count": null,
      "outputs": [
        {
          "output_type": "stream",
          "name": "stdout",
          "text": [
            "user_id       0\n",
            "track      1231\n",
            "artist     7203\n",
            "genre      1198\n",
            "city          0\n",
            "time          0\n",
            "day           0\n",
            "dtype: int64\n"
          ]
        }
      ]
    },
    {
      "cell_type": "markdown",
      "source": [
        "**Задание 10**\n",
        "\n",
        "Замените пропущенные значения в столбцах `track`, `artist` и `genre` на строку `'unknown'`. Для этого создайте список `columns_to_replace`, переберите его элементы циклом `for` и для каждого столбца выполните замену пропущенных значений."
      ],
      "metadata": {
        "id": "W99uNcSc1Xua"
      }
    },
    {
      "cell_type": "code",
      "source": [
        "# замена пропущенных значений на 'unknown'\n",
        "columns_to_replace = ['track', 'artist', 'genre']\n",
        "for column in columns_to_replace:\n",
        "    df[column] = df[column].fillna('unknown')"
      ],
      "metadata": {
        "id": "EtD9Opkv1ZUE"
      },
      "execution_count": null,
      "outputs": []
    },
    {
      "cell_type": "markdown",
      "source": [
        "**Задание 11**\n",
        "\n",
        "Убедитесь, что в таблице не осталось пропусков. Для этого ещё раз посчитайте пропущенные значения."
      ],
      "metadata": {
        "id": "5ywGlV711coK"
      }
    },
    {
      "cell_type": "code",
      "source": [
        "# проверка на отсутствие пропусков\n",
        "print(df.isna().sum())"
      ],
      "metadata": {
        "colab": {
          "base_uri": "https://localhost:8080/"
        },
        "id": "z4NGjNZ01f8d",
        "outputId": "4cbb092e-8c60-4a26-c567-9aba117defe5"
      },
      "execution_count": null,
      "outputs": [
        {
          "output_type": "stream",
          "name": "stdout",
          "text": [
            "user_id    0\n",
            "track      0\n",
            "artist     0\n",
            "genre      0\n",
            "city       0\n",
            "time       0\n",
            "day        0\n",
            "dtype: int64\n"
          ]
        }
      ]
    },
    {
      "cell_type": "markdown",
      "source": [
        "**Задание 12**\n",
        "\n",
        "Посчитайте явные дубликаты в таблице одной командой из двух методов, с помощью комбинации методов `duplicated()` и `sum()`."
      ],
      "metadata": {
        "id": "qV0HklLr1jaB"
      }
    },
    {
      "cell_type": "code",
      "source": [
        "# подсчёт явных дубликатов\n",
        "print(df.duplicated().sum())"
      ],
      "metadata": {
        "colab": {
          "base_uri": "https://localhost:8080/"
        },
        "id": "UX-wfIrB1nzu",
        "outputId": "263731f6-9892-4f5a-8193-05d30a0fca38"
      },
      "execution_count": null,
      "outputs": [
        {
          "output_type": "stream",
          "name": "stdout",
          "text": [
            "3826\n"
          ]
        }
      ]
    },
    {
      "cell_type": "markdown",
      "source": [
        "**Задание 13**\n",
        "\n",
        "Вызовите специальный метод `pandas`, чтобы удалить явные строки-дубликаты в данных. В этой же строке вызовите метод, который создаст новые индексы и удалит старые.\n",
        "\n",
        "*Метод `drop_duplicates()` позволяет удалять явные дубликаты. А метод `reset_index(drop=True)`, вызванный после метода удаления дубликатов, позволит сбросить индексы, удалив старые.*"
      ],
      "metadata": {
        "id": "OjBzHIVg1qUl"
      }
    },
    {
      "cell_type": "code",
      "source": [
        "# удаление явных дубликатов, создание новых индексов и удаление старых\n",
        "df = df.drop_duplicates().reset_index(drop=True)"
      ],
      "metadata": {
        "id": "H0WgUy5W1waU"
      },
      "execution_count": null,
      "outputs": []
    },
    {
      "cell_type": "markdown",
      "source": [
        "**Задание 14**\n",
        "\n",
        "Ещё раз посчитайте явные дубликаты в таблице — убедитесь, что полностью от них избавились."
      ],
      "metadata": {
        "id": "y2hvk3Sv1x24"
      }
    },
    {
      "cell_type": "code",
      "source": [
        "# проверка на отсутствие явных дубликатов\n",
        "print(df.duplicated().sum())"
      ],
      "metadata": {
        "colab": {
          "base_uri": "https://localhost:8080/"
        },
        "id": "WEznftzD11H_",
        "outputId": "238054a3-53f4-4c49-9678-f21dec5878af"
      },
      "execution_count": null,
      "outputs": [
        {
          "output_type": "stream",
          "name": "stdout",
          "text": [
            "0\n"
          ]
        }
      ]
    },
    {
      "cell_type": "markdown",
      "source": [
        "**Задание 15**\n",
        "\n",
        "Выведите на экран список уникальных названий жанров, отсортированный в алфавитном порядке. Для этого:\n",
        "1. извлеките нужный столбец датафрейма;\n",
        "2. примените к нему метод сортировки из библиотеки `pandas`, используйте сортировку по возрастанию;\n",
        "3. для отсортированного столбца вызовите метод из библиотеки `pandas`, который вернёт уникальные значения из столбца.\n",
        "\n",
        "*Используйте методы `unique()` и `sort_values()`.*"
      ],
      "metadata": {
        "id": "sjuSijDi136R"
      }
    },
    {
      "cell_type": "code",
      "source": [
        "# просмотр уникальных отсортированных названий жанров\n",
        "genres = df['genre']\n",
        "sorted_genres = genres.sort_values()\n",
        "unique_genres = sorted_genres.unique()\n",
        "print(unique_genres)"
      ],
      "metadata": {
        "colab": {
          "base_uri": "https://localhost:8080/"
        },
        "id": "KGhTEP0v177K",
        "outputId": "8ab5d9e2-a2d3-4e36-88df-efbf40c291be"
      },
      "execution_count": null,
      "outputs": [
        {
          "output_type": "stream",
          "name": "stdout",
          "text": [
            "['acid' 'acoustic' 'action' 'adult' 'africa' 'afrikaans' 'alternative'\n",
            " 'alternativepunk' 'ambient' 'americana' 'animated' 'anime' 'arabesk'\n",
            " 'arabic' 'arena' 'argentinetango' 'art' 'audiobook' 'author' 'avantgarde'\n",
            " 'axé' 'baile' 'balkan' 'beats' 'bigroom' 'black' 'bluegrass' 'blues'\n",
            " 'bollywood' 'bossa' 'brazilian' 'breakbeat' 'breaks' 'broadway'\n",
            " 'cantautori' 'cantopop' 'canzone' 'caribbean' 'caucasian' 'celtic'\n",
            " 'chamber' 'chanson' 'children' 'chill' 'chinese' 'choral' 'christian'\n",
            " 'christmas' 'classical' 'classicmetal' 'club' 'colombian' 'comedy'\n",
            " 'conjazz' 'contemporary' 'country' 'cuban' 'dance' 'dancehall' 'dancepop'\n",
            " 'dark' 'death' 'deep' 'deutschrock' 'deutschspr' 'dirty' 'disco' 'dnb'\n",
            " 'documentary' 'downbeat' 'downtempo' 'drum' 'dub' 'dubstep' 'eastern'\n",
            " 'easy' 'electronic' 'electropop' 'emo' 'entehno' 'epicmetal' 'estrada'\n",
            " 'ethnic' 'eurofolk' 'european' 'experimental' 'extrememetal' 'fado'\n",
            " 'fairytail' 'film' 'fitness' 'flamenco' 'folk' 'folklore' 'folkmetal'\n",
            " 'folkrock' 'folktronica' 'forró' 'frankreich' 'französisch' 'french'\n",
            " 'funk' 'future' 'gangsta' 'garage' 'german' 'ghazal' 'gitarre' 'glitch'\n",
            " 'gospel' 'gothic' 'grime' 'grunge' 'gypsy' 'handsup' \"hard'n'heavy\"\n",
            " 'hardcore' 'hardstyle' 'hardtechno' 'hip' 'hip-hop' 'hiphop' 'historisch'\n",
            " 'holiday' 'hop' 'horror' 'house' 'hymn' 'idm' 'independent' 'indian'\n",
            " 'indie' 'indipop' 'industrial' 'inspirational' 'instrumental'\n",
            " 'international' 'irish' 'jam' 'japanese' 'jazz' 'jewish' 'jpop' 'jungle'\n",
            " 'k-pop' 'karadeniz' 'karaoke' 'kayokyoku' 'korean' 'laiko' 'latin'\n",
            " 'latino' 'leftfield' 'local' 'lounge' 'loungeelectronic' 'lovers'\n",
            " 'malaysian' 'mandopop' 'marschmusik' 'meditative' 'mediterranean'\n",
            " 'melodic' 'metal' 'metalcore' 'mexican' 'middle' 'minimal'\n",
            " 'miscellaneous' 'modern' 'mood' 'mpb' 'muslim' 'native' 'neoklassik'\n",
            " 'neue' 'new' 'newage' 'newwave' 'nu' 'nujazz' 'numetal' 'oceania' 'old'\n",
            " 'opera' 'orchestral' 'other' 'piano' 'podcasts' 'pop' 'popdance'\n",
            " 'popelectronic' 'popeurodance' 'poprussian' 'post' 'posthardcore'\n",
            " 'postrock' 'power' 'progmetal' 'progressive' 'psychedelic' 'punjabi'\n",
            " 'punk' 'quebecois' 'ragga' 'ram' 'rancheras' 'rap' 'rave' 'reggae'\n",
            " 'reggaeton' 'regional' 'relax' 'religious' 'retro' 'rhythm' 'rnb' 'rnr'\n",
            " 'rock' 'rockabilly' 'rockalternative' 'rockindie' 'rockother' 'romance'\n",
            " 'roots' 'ruspop' 'rusrap' 'rusrock' 'russian' 'salsa' 'samba' 'scenic'\n",
            " 'schlager' 'self' 'sertanejo' 'shanson' 'shoegazing' 'showtunes' 'singer'\n",
            " 'ska' 'skarock' 'slow' 'smooth' 'soft' 'soul' 'soulful' 'sound'\n",
            " 'soundtrack' 'southern' 'specialty' 'speech' 'spiritual' 'sport'\n",
            " 'stonerrock' 'surf' 'swing' 'synthpop' 'synthrock' 'sängerportrait'\n",
            " 'tango' 'tanzorchester' 'taraftar' 'tatar' 'tech' 'techno' 'teen'\n",
            " 'thrash' 'top' 'traditional' 'tradjazz' 'trance' 'tribal' 'trip'\n",
            " 'triphop' 'tropical' 'türk' 'türkçe' 'ukrrock' 'unknown' 'urban' 'uzbek'\n",
            " 'variété' 'vi' 'videogame' 'vocal' 'western' 'world' 'worldbeat' 'ïîï'\n",
            " 'электроника']\n"
          ]
        }
      ]
    },
    {
      "cell_type": "markdown",
      "source": [
        "Задание 16\n",
        "\n",
        "Просмотрите список и найдите неявные дубликаты названия `hiphop`. Это могут быть названия с ошибками или альтернативные названия того же жанра.\n",
        "\n",
        "Вы увидите следующие неявные дубликаты:\n",
        "- hip,\n",
        "- hop,\n",
        "- hip-hop.\n",
        "\n",
        "Вам нужно исправить колонку `genre` в таблице `df`: заменить каждое значение из списка дубликатов на верное. Вместо `hip`, `hop` и `hip-hop` в таблице должно быть значение `hiphop`.\n",
        "\n",
        "*Чтобы очистить от них таблицу, используйте метод `replace()` с двумя аргументами: списком строк-дубликатов (включающий `hip`, `hop` и `hip-hop`) и строкой с правильным значением.*"
      ],
      "metadata": {
        "id": "cvLUYOb71-va"
      }
    },
    {
      "cell_type": "code",
      "source": [
        "# устранение неявных дубликатов\n",
        "df['genre'] = df['genre'].replace('hip', 'hiphop')\n",
        "df['genre'] = df['genre'].replace('hop', 'hiphop')\n",
        "df['genre'] = df['genre'].replace('hip-hop', 'hiphop')"
      ],
      "metadata": {
        "id": "bamtomlu2E1v"
      },
      "execution_count": null,
      "outputs": []
    },
    {
      "cell_type": "markdown",
      "source": [
        "**Задание 17**\n",
        "\n",
        "Проверьте, что заменили неправильные названия:\n",
        "- hip,\n",
        "- hop,\n",
        "- hip-hop.\n",
        "\n",
        "Выведите отсортированный по возрастанию список уникальных значений столбца `genre`."
      ],
      "metadata": {
        "id": "vmzhf3ia2HNq"
      }
    },
    {
      "cell_type": "code",
      "source": [
        "# проверка на отсутствие неявных дубликатов\n",
        "genres = df['genre']\n",
        "sorted_genres = genres.sort_values()\n",
        "unique_genres = sorted_genres.unique()\n",
        "print(unique_genres)"
      ],
      "metadata": {
        "colab": {
          "base_uri": "https://localhost:8080/"
        },
        "id": "4tvPdqGb2KzK",
        "outputId": "e2ff399f-4ae3-49a3-afc5-7093dfac95b5"
      },
      "execution_count": null,
      "outputs": [
        {
          "output_type": "stream",
          "name": "stdout",
          "text": [
            "['acid' 'acoustic' 'action' 'adult' 'africa' 'afrikaans' 'alternative'\n",
            " 'alternativepunk' 'ambient' 'americana' 'animated' 'anime' 'arabesk'\n",
            " 'arabic' 'arena' 'argentinetango' 'art' 'audiobook' 'author' 'avantgarde'\n",
            " 'axé' 'baile' 'balkan' 'beats' 'bigroom' 'black' 'bluegrass' 'blues'\n",
            " 'bollywood' 'bossa' 'brazilian' 'breakbeat' 'breaks' 'broadway'\n",
            " 'cantautori' 'cantopop' 'canzone' 'caribbean' 'caucasian' 'celtic'\n",
            " 'chamber' 'chanson' 'children' 'chill' 'chinese' 'choral' 'christian'\n",
            " 'christmas' 'classical' 'classicmetal' 'club' 'colombian' 'comedy'\n",
            " 'conjazz' 'contemporary' 'country' 'cuban' 'dance' 'dancehall' 'dancepop'\n",
            " 'dark' 'death' 'deep' 'deutschrock' 'deutschspr' 'dirty' 'disco' 'dnb'\n",
            " 'documentary' 'downbeat' 'downtempo' 'drum' 'dub' 'dubstep' 'eastern'\n",
            " 'easy' 'electronic' 'electropop' 'emo' 'entehno' 'epicmetal' 'estrada'\n",
            " 'ethnic' 'eurofolk' 'european' 'experimental' 'extrememetal' 'fado'\n",
            " 'fairytail' 'film' 'fitness' 'flamenco' 'folk' 'folklore' 'folkmetal'\n",
            " 'folkrock' 'folktronica' 'forró' 'frankreich' 'französisch' 'french'\n",
            " 'funk' 'future' 'gangsta' 'garage' 'german' 'ghazal' 'gitarre' 'glitch'\n",
            " 'gospel' 'gothic' 'grime' 'grunge' 'gypsy' 'handsup' \"hard'n'heavy\"\n",
            " 'hardcore' 'hardstyle' 'hardtechno' 'hiphop' 'historisch' 'holiday'\n",
            " 'horror' 'house' 'hymn' 'idm' 'independent' 'indian' 'indie' 'indipop'\n",
            " 'industrial' 'inspirational' 'instrumental' 'international' 'irish' 'jam'\n",
            " 'japanese' 'jazz' 'jewish' 'jpop' 'jungle' 'k-pop' 'karadeniz' 'karaoke'\n",
            " 'kayokyoku' 'korean' 'laiko' 'latin' 'latino' 'leftfield' 'local'\n",
            " 'lounge' 'loungeelectronic' 'lovers' 'malaysian' 'mandopop' 'marschmusik'\n",
            " 'meditative' 'mediterranean' 'melodic' 'metal' 'metalcore' 'mexican'\n",
            " 'middle' 'minimal' 'miscellaneous' 'modern' 'mood' 'mpb' 'muslim'\n",
            " 'native' 'neoklassik' 'neue' 'new' 'newage' 'newwave' 'nu' 'nujazz'\n",
            " 'numetal' 'oceania' 'old' 'opera' 'orchestral' 'other' 'piano' 'podcasts'\n",
            " 'pop' 'popdance' 'popelectronic' 'popeurodance' 'poprussian' 'post'\n",
            " 'posthardcore' 'postrock' 'power' 'progmetal' 'progressive' 'psychedelic'\n",
            " 'punjabi' 'punk' 'quebecois' 'ragga' 'ram' 'rancheras' 'rap' 'rave'\n",
            " 'reggae' 'reggaeton' 'regional' 'relax' 'religious' 'retro' 'rhythm'\n",
            " 'rnb' 'rnr' 'rock' 'rockabilly' 'rockalternative' 'rockindie' 'rockother'\n",
            " 'romance' 'roots' 'ruspop' 'rusrap' 'rusrock' 'russian' 'salsa' 'samba'\n",
            " 'scenic' 'schlager' 'self' 'sertanejo' 'shanson' 'shoegazing' 'showtunes'\n",
            " 'singer' 'ska' 'skarock' 'slow' 'smooth' 'soft' 'soul' 'soulful' 'sound'\n",
            " 'soundtrack' 'southern' 'specialty' 'speech' 'spiritual' 'sport'\n",
            " 'stonerrock' 'surf' 'swing' 'synthpop' 'synthrock' 'sängerportrait'\n",
            " 'tango' 'tanzorchester' 'taraftar' 'tatar' 'tech' 'techno' 'teen'\n",
            " 'thrash' 'top' 'traditional' 'tradjazz' 'trance' 'tribal' 'trip'\n",
            " 'triphop' 'tropical' 'türk' 'türkçe' 'ukrrock' 'unknown' 'urban' 'uzbek'\n",
            " 'variété' 'vi' 'videogame' 'vocal' 'western' 'world' 'worldbeat' 'ïîï'\n",
            " 'электроника']\n"
          ]
        }
      ]
    },
    {
      "cell_type": "markdown",
      "source": [
        "**Задание 18**\n",
        "\n",
        "Для тренировки сначала выполните каждый из расчётов по отдельности.\n",
        "Оцените активность пользователей в каждом городе. Сгруппируйте данные по городу и посчитайте прослушивания в каждой группе.\n",
        "\n",
        "*Вам помогут методы `groupby()` и `count()`. После группировки не забудьте выбрать определённый столбец — в результате не должно быть столбцов-дубликатов.*"
      ],
      "metadata": {
        "id": "BOD_X25j2aWq"
      }
    },
    {
      "cell_type": "code",
      "source": [
        "# подсчёт прослушиваний в каждом городе\n",
        "grouped_by_city = df.groupby('city')\n",
        "city_counts = grouped_by_city['track'].count()\n",
        "print(city_counts)"
      ],
      "metadata": {
        "colab": {
          "base_uri": "https://localhost:8080/"
        },
        "id": "K9zX-XEW2fZx",
        "outputId": "54a074c0-2ab6-4368-da2a-f2168bc1bd5e"
      },
      "execution_count": null,
      "outputs": [
        {
          "output_type": "stream",
          "name": "stdout",
          "text": [
            "city\n",
            "Moscow              42741\n",
            "Saint-Petersburg    18512\n",
            "Name: track, dtype: int64\n"
          ]
        }
      ]
    },
    {
      "cell_type": "markdown",
      "source": [
        "**Задание 19**\n",
        "\n",
        "Теперь сгруппируйте данные по дню недели и посчитайте прослушивания в понедельник, среду и пятницу. Учтите, что в данных есть информация о прослушиваниях только за эти дни."
      ],
      "metadata": {
        "id": "KYWXXuAl2iDB"
      }
    },
    {
      "cell_type": "code",
      "source": [
        "# подсчёт прослушиваний в каждый из трёх дней\n",
        "grouped_by_day = df.groupby('day')\n",
        "day_counts = grouped_by_day['track'].count()\n",
        "print(day_counts)"
      ],
      "metadata": {
        "colab": {
          "base_uri": "https://localhost:8080/"
        },
        "id": "UVkNrWk22n1n",
        "outputId": "bd654546-c2f5-4bb7-876e-28664a33cf88"
      },
      "execution_count": null,
      "outputs": [
        {
          "output_type": "stream",
          "name": "stdout",
          "text": [
            "day\n",
            "Friday       21840\n",
            "Monday       21354\n",
            "Wednesday    18059\n",
            "Name: track, dtype: int64\n"
          ]
        }
      ]
    },
    {
      "cell_type": "markdown",
      "source": [
        "**Задание 20**\n",
        "\n",
        "Вы видели, как работает группировка по городу и по дням недели. Теперь напишите функцию, которая объединит два эти расчёта. Часть кода уже написана, допишите оставшиеся команды.\n",
        "\n",
        "Создайте функцию `number_tracks()`, которая посчитает прослушивания для заданного дня и города. Ей понадобятся два параметра:\n",
        "- день недели,\n",
        "- название города.\n",
        "\n",
        "В функции сохраните в переменную строки исходной таблицы, у которых значение:\n",
        "- в колонке `day` равно параметру `day`,\n",
        "- в колонке `city` равно параметру `city`.\n",
        "\n",
        "Для этого примените последовательную фильтрацию с логической индексацией.\n",
        "\n",
        "Затем посчитайте значения в столбце `user_id` получившейся таблицы. Результат сохраните в новую переменную. Верните эту переменную из функции.\n",
        "\n",
        "*Подсказка*\n",
        "\n",
        "Отфильтровать данные по дню и городу поможет последовательная логическая индексация или сложное логическое выражение в логической индексации, если вы с ними уже знакомы. Для подсчёта треков после фильтрации воспользуйтесь методом `count()`. Не забудьте выбрать столбец `user_id`, чтобы избежать столбцов-дубликатов в таблице после подсчёта строк."
      ],
      "metadata": {
        "id": "pPo2Ar8K2s8A"
      }
    },
    {
      "cell_type": "code",
      "source": [
        "def number_tracks(day, city):\n",
        "    # выберите только строки df со значением переменной day в столбце day\n",
        "    track_list = df.loc[df['day'] == day]\n",
        "    # выберите только строки track_list со значением переменной city в столбце city\n",
        "    track_list = track_list.loc[track_list['city'] == city]\n",
        "    # вызовите метод подсчета строк для track_list и выберите столбец user_id\n",
        "    track_list_count = track_list['user_id'].count()\n",
        "    # верните значение track_list_count из функции\n",
        "    return track_list_count"
      ],
      "metadata": {
        "id": "aSgLUlWq5lpy"
      },
      "execution_count": null,
      "outputs": []
    },
    {
      "cell_type": "markdown",
      "source": [
        "**Задание 21**\n",
        "\n",
        "Вызовите `number_tracks()` шесть раз, меняя значение параметров — так, чтобы получить данные для каждого города в каждый из трёх дней.\n",
        "\n",
        "Переберите следующие пары:\n",
        "- `'Monday', 'Moscow'`\n",
        "- `'Monday', 'Saint-Petersburg'`\n",
        "- `'Wednesday', 'Moscow'`\n",
        "- `'Wednesday', 'Saint-Petersburg'`\n",
        "- `'Friday', 'Moscow'`\n",
        "- `'Friday', 'Saint-Petersburg'`"
      ],
      "metadata": {
        "id": "fvKaSNpQ5sxJ"
      }
    },
    {
      "cell_type": "code",
      "source": [
        "# количество прослушиваний в Москве по понедельникам\n",
        "number_tracks('Monday', 'Moscow')\n",
        "\n",
        "# количество прослушиваний в Санкт-Петербурге по понедельникам\n",
        "number_tracks('Monday', 'Saint-Petersburg')\n",
        "\n",
        "# количество прослушиваний в Москве по средам\n",
        "number_tracks('Wednesday', 'Moscow')\n",
        "\n",
        "# количество прослушиваний в Санкт-Петербурге по средам\n",
        "number_tracks('Wednesday', 'Saint-Petersburg')\n",
        "\n",
        "# количество прослушиваний в Москве по пятницам\n",
        "number_tracks('Friday', 'Moscow')\n",
        "\n",
        "# количество прослушиваний в Санкт-Петербурге по пятницам\n",
        "number_tracks('Friday', 'Saint-Petersburg')"
      ],
      "metadata": {
        "colab": {
          "base_uri": "https://localhost:8080/"
        },
        "id": "P-ccnzja50dt",
        "outputId": "d949b7e3-d6bc-4435-a18c-01e2a38ad640"
      },
      "execution_count": null,
      "outputs": [
        {
          "output_type": "execute_result",
          "data": {
            "text/plain": [
              "5895"
            ]
          },
          "metadata": {},
          "execution_count": 20
        }
      ]
    },
    {
      "cell_type": "markdown",
      "source": [
        "**Задание 22**\n",
        "\n",
        "С помощью конструктора `pd.DataFrame` создайте таблицу `info`, где:\n",
        "- названия колонок — `['city', 'monday', 'wednesday', 'friday']`;\n",
        "- данные — результаты, которые вы получили с помощью `number_tracks`."
      ],
      "metadata": {
        "id": "8LJrI0DG537k"
      }
    },
    {
      "cell_type": "code",
      "source": [
        "# создание таблицы с результатами\n",
        "info = pd.DataFrame(data=[['Москва', 15740, 11056, 15945], ['Санкт-Петербург', 5614, 7003, 5895]], columns=['city', 'monday', 'wednesday', 'friday'])\n",
        "# вывод таблицы на экран\n",
        "print(info)"
      ],
      "metadata": {
        "colab": {
          "base_uri": "https://localhost:8080/"
        },
        "id": "RvcfoGLI5_EE",
        "outputId": "42094b4c-3e77-4467-e837-39eaa08598aa"
      },
      "execution_count": null,
      "outputs": [
        {
          "output_type": "stream",
          "name": "stdout",
          "text": [
            "              city  monday  wednesday  friday\n",
            "0           Москва   15740      11056   15945\n",
            "1  Санкт-Петербург    5614       7003    5895\n"
          ]
        }
      ]
    },
    {
      "cell_type": "markdown",
      "source": [
        "**Задание 23**\n",
        "\n",
        "Сохраните таблицы с данными в две переменные:\n",
        "- по Москве — в `moscow_general`;\n",
        "- по Санкт-Петербургу — в `spb_general`."
      ],
      "metadata": {
        "id": "PPnqNDnJ6C81"
      }
    },
    {
      "cell_type": "code",
      "source": [
        "# получение таблицы moscow_general из тех строк таблицы df, для которых значение в столбце 'city' равно 'Moscow'\n",
        "moscow_general = df.loc[df['city'] == 'Moscow']\n",
        "\n",
        "# получение таблицы spb_general из тех строк таблицы df, для которых значение в столбце 'city' равно 'Saint-Petersburg'\n",
        "spb_general = df.loc[df['city'] == 'Saint-Petersburg']"
      ],
      "metadata": {
        "id": "-d6XBBbv6FXZ"
      },
      "execution_count": null,
      "outputs": []
    },
    {
      "cell_type": "markdown",
      "source": [
        "**Задание 24**\n",
        "\n",
        "Создайте функцию `genre_weekday()` с четырьмя параметрами:\n",
        "- таблица (датафрейм) с данными,\n",
        "- день недели,\n",
        "- начальная временная метка в формате `'hh:mm'`,\n",
        "- последняя временная метка в формате `'hh:mm'`.\n",
        "\n",
        "Функция должна вернуть информацию о топ-10 жанров тех треков, которые прослушивали в указанный день, в промежутке между двумя отметками времени.\n",
        "\n",
        "Для фильтрации датафрейма воспользуйтесь последовательной логической индексацией или сложными логическими выражениями pandas, если вы уже с ними знакомы. Вам также понадобится группировка и сортировка значений:"
      ],
      "metadata": {
        "id": "pLVX-kCy6Hac"
      }
    },
    {
      "cell_type": "code",
      "source": [
        "def genre_weekday(df, day, time1, time2):\n",
        "    # последовательная фильтрация\n",
        "    # оставляем в genre_df только те строки df, у которых день равен day\n",
        "    genre_df = df[df['day'] == day]\n",
        "    # оставляем в genre_df только те строки genre_df, у которых время меньше time2\n",
        "    genre_df = genre_df[genre_df['time'] < time2]\n",
        "    # оставляем в genre_df только те строки genre_df, у которых время больше time1\n",
        "    genre_df = genre_df[genre_df['time'] > time1]\n",
        "    # сгруппируем отфильтрованный датафрейм по столбцу с названиями жанров, возьмём столбец genre и посчитаем кол-во строк для каждого жанра методом count()\n",
        "    genre_df_grouped = genre_df.groupby('genre')['genre'].count()\n",
        "    # отсортируем результат по убыванию (чтобы в начале Series оказались самые популярные жанры)\n",
        "    genre_df_sorted = genre_df_grouped.sort_values(ascending=False)\n",
        "    # вернём Series с 10 самыми популярными жанрами в указанный отрезок времени заданного дня\n",
        "    return genre_df_sorted[:10]"
      ],
      "metadata": {
        "id": "JgdzwsFV6M1n"
      },
      "execution_count": null,
      "outputs": []
    },
    {
      "cell_type": "markdown",
      "source": [
        "**Задание 25**\n",
        "\n",
        "Сравните результаты функции `genre_weekday()` для Москвы и Санкт-Петербурга в понедельник утром (с 7:00 до 11:00) и в пятницу вечером (с 17:00 до 23:00). Объекты, хранящие время, являются строками и сравниваются как строки — оставим это как есть.\n",
        "\n",
        "*Пример вызова*: `genre_weekday(moscow_general, 'Monday', '07:00', '11:00')`"
      ],
      "metadata": {
        "id": "_JOU0mYg6PgQ"
      }
    },
    {
      "cell_type": "code",
      "source": [
        "# вызов функции для утра понедельника в Москве (вместо df — таблица moscow_general)\n",
        "genre_weekday(moscow_general, 'Monday', '07:00', '11:00')\n",
        "\n",
        "# вызов функции для утра понедельника в Петербурге (вместо df — таблица spb_general)\n",
        "genre_weekday(spb_general, 'Monday', '07:00', '11:00')\n",
        "\n",
        "# вызов функции для вечера пятницы в Москве\n",
        "genre_weekday(moscow_general, 'Friday', '17:00', '23:00')\n",
        "\n",
        "# вызов функции для вечера пятницы в Петербурге\n",
        "genre_weekday(spb_general, 'Friday', '17:00', '23:00')"
      ],
      "metadata": {
        "colab": {
          "base_uri": "https://localhost:8080/",
          "height": 429
        },
        "id": "1atNmbyn6S54",
        "outputId": "0265786b-6ae2-4bb8-aff2-fc1cdca49519"
      },
      "execution_count": null,
      "outputs": [
        {
          "output_type": "execute_result",
          "data": {
            "text/plain": [
              "genre\n",
              "pop            256\n",
              "electronic     216\n",
              "rock           216\n",
              "dance          210\n",
              "hiphop          97\n",
              "alternative     63\n",
              "jazz            61\n",
              "classical       60\n",
              "rusrap          59\n",
              "world           54\n",
              "Name: genre, dtype: int64"
            ],
            "text/html": [
              "<div>\n",
              "<style scoped>\n",
              "    .dataframe tbody tr th:only-of-type {\n",
              "        vertical-align: middle;\n",
              "    }\n",
              "\n",
              "    .dataframe tbody tr th {\n",
              "        vertical-align: top;\n",
              "    }\n",
              "\n",
              "    .dataframe thead th {\n",
              "        text-align: right;\n",
              "    }\n",
              "</style>\n",
              "<table border=\"1\" class=\"dataframe\">\n",
              "  <thead>\n",
              "    <tr style=\"text-align: right;\">\n",
              "      <th></th>\n",
              "      <th>genre</th>\n",
              "    </tr>\n",
              "    <tr>\n",
              "      <th>genre</th>\n",
              "      <th></th>\n",
              "    </tr>\n",
              "  </thead>\n",
              "  <tbody>\n",
              "    <tr>\n",
              "      <th>pop</th>\n",
              "      <td>256</td>\n",
              "    </tr>\n",
              "    <tr>\n",
              "      <th>electronic</th>\n",
              "      <td>216</td>\n",
              "    </tr>\n",
              "    <tr>\n",
              "      <th>rock</th>\n",
              "      <td>216</td>\n",
              "    </tr>\n",
              "    <tr>\n",
              "      <th>dance</th>\n",
              "      <td>210</td>\n",
              "    </tr>\n",
              "    <tr>\n",
              "      <th>hiphop</th>\n",
              "      <td>97</td>\n",
              "    </tr>\n",
              "    <tr>\n",
              "      <th>alternative</th>\n",
              "      <td>63</td>\n",
              "    </tr>\n",
              "    <tr>\n",
              "      <th>jazz</th>\n",
              "      <td>61</td>\n",
              "    </tr>\n",
              "    <tr>\n",
              "      <th>classical</th>\n",
              "      <td>60</td>\n",
              "    </tr>\n",
              "    <tr>\n",
              "      <th>rusrap</th>\n",
              "      <td>59</td>\n",
              "    </tr>\n",
              "    <tr>\n",
              "      <th>world</th>\n",
              "      <td>54</td>\n",
              "    </tr>\n",
              "  </tbody>\n",
              "</table>\n",
              "</div><br><label><b>dtype:</b> int64</label>"
            ]
          },
          "metadata": {},
          "execution_count": 24
        }
      ]
    },
    {
      "cell_type": "markdown",
      "source": [
        "**Задание 26**\n",
        "\n",
        "Сгруппируйте таблицу `moscow_general` по жанру и посчитайте прослушивания треков каждого жанра методом `count()`. Чтобы избежать дублирующих вычислений, выберите столбец `genre` . Затем отсортируйте результат в порядке убывания и сохраните его в таблице `moscow_genres`.\n",
        "\n",
        "Группировка таблицы moscow_general по столбцу 'genre', выбор столбца `genre`, подсчёт числа значений 'genre' методом count(), сохранение в moscow_genres:"
      ],
      "metadata": {
        "id": "d_TOkblJ6V7o"
      }
    },
    {
      "cell_type": "code",
      "source": [
        "moscow_genres = moscow_general.groupby('genre')['genre'].count()"
      ],
      "metadata": {
        "id": "QSSpEVuZ6eKq"
      },
      "execution_count": null,
      "outputs": []
    },
    {
      "cell_type": "markdown",
      "source": [
        "Сортировка получившегося Series в порядке убывания и сохранение обратно в moscow_genres:"
      ],
      "metadata": {
        "id": "Xl_YF5L_6gWi"
      }
    },
    {
      "cell_type": "code",
      "source": [
        "moscow_genres = moscow_genres.sort_values(ascending=False)"
      ],
      "metadata": {
        "id": "mGN0Wsjv6iUr"
      },
      "execution_count": null,
      "outputs": []
    },
    {
      "cell_type": "markdown",
      "source": [
        "**Задание 27**\n",
        "\n",
        "Выведите на экран первые десять строк `moscow_genres`."
      ],
      "metadata": {
        "id": "PWx0SEsz6kh7"
      }
    },
    {
      "cell_type": "code",
      "source": [
        "# просмотр первых 10 строк moscow_genres\n",
        "print(moscow_genres.head(10))"
      ],
      "metadata": {
        "colab": {
          "base_uri": "https://localhost:8080/"
        },
        "id": "uMpImddL6nku",
        "outputId": "38275091-b17a-49cc-eb24-54a4ad9aef0d"
      },
      "execution_count": null,
      "outputs": [
        {
          "output_type": "stream",
          "name": "stdout",
          "text": [
            "genre\n",
            "pop            5892\n",
            "dance          4435\n",
            "rock           3965\n",
            "electronic     3786\n",
            "hiphop         2096\n",
            "classical      1616\n",
            "world          1432\n",
            "alternative    1379\n",
            "ruspop         1372\n",
            "rusrap         1161\n",
            "Name: genre, dtype: int64\n"
          ]
        }
      ]
    },
    {
      "cell_type": "markdown",
      "source": [
        "**Задание 28**\n",
        "\n",
        "Теперь повторите то же и для Петербурга.\n",
        "\n",
        "Сгруппируйте таблицу `spb_general` по жанру. Посчитайте прослушивания треков каждого жанра. Результат отсортируйте в порядке убывания и сохраните в таблице `spb_genres`."
      ],
      "metadata": {
        "id": "2MCL8Qcu6pr3"
      }
    },
    {
      "cell_type": "code",
      "source": [
        "spb_genres = spb_general.groupby('genre')['genre'].count()\n",
        "spb_genres = spb_genres.sort_values(ascending=False)"
      ],
      "metadata": {
        "id": "YGRB3NC66sWQ"
      },
      "execution_count": null,
      "outputs": []
    },
    {
      "cell_type": "markdown",
      "source": [
        "**Задание 29**\n",
        "\n",
        "Выведите на экран первые десять строк `spb_genres`."
      ],
      "metadata": {
        "id": "2CkwVB5J6vJb"
      }
    },
    {
      "cell_type": "code",
      "source": [
        "# просмотр первых 10 строк spb_genres\n",
        "print(spb_genres.head(10))"
      ],
      "metadata": {
        "colab": {
          "base_uri": "https://localhost:8080/"
        },
        "id": "Qf_Z1lkW6xYL",
        "outputId": "77daa0b6-bccb-472d-d39f-ea81b55ff49a"
      },
      "execution_count": null,
      "outputs": [
        {
          "output_type": "stream",
          "name": "stdout",
          "text": [
            "genre\n",
            "pop            2431\n",
            "dance          1932\n",
            "rock           1879\n",
            "electronic     1736\n",
            "hiphop          960\n",
            "alternative     649\n",
            "classical       646\n",
            "rusrap          564\n",
            "ruspop          538\n",
            "world           515\n",
            "Name: genre, dtype: int64\n"
          ]
        }
      ]
    }
  ]
}