{
  "cells": [
    {
      "cell_type": "markdown",
      "id": "4f11de00",
      "metadata": {
        "deletable": false,
        "editable": false,
        "id": "4f11de00"
      },
      "source": [
        "# Исследование надежности заемщиков"
      ]
    },
    {
      "cell_type": "markdown",
      "id": "516620ee",
      "metadata": {
        "deletable": false,
        "editable": false,
        "id": "516620ee"
      },
      "source": [
        "## Шаг 1. Откройте таблицу и изучите общую информацию о данных"
      ]
    },
    {
      "cell_type": "markdown",
      "id": "76a8a9ce",
      "metadata": {
        "deletable": false,
        "editable": false,
        "id": "76a8a9ce",
        "tags": [
          "start_task"
        ]
      },
      "source": [
        "**Задание 1. Импортируйте библиотеку pandas. Считайте данные из csv-файла в датафрейм и сохраните в переменную `data`.**"
      ]
    },
    {
      "cell_type": "code",
      "execution_count": 1,
      "id": "fab207d0",
      "metadata": {
        "id": "fab207d0"
      },
      "outputs": [],
      "source": [
        "# Импорт библиотеки pandas\n",
        "import pandas as pd"
      ]
    },
    {
      "cell_type": "code",
      "execution_count": 2,
      "id": "6c82b607",
      "metadata": {
        "id": "6c82b607"
      },
      "outputs": [],
      "source": [
        "# загрузим данные\n",
        "try:\n",
        "    # попытка прочитать файл из Drive Google\n",
        "    path = '/content/drive/MyDrive/Colab Notebooks/Обучение/Яндекс Практикум/Аналитик данных (расширенный)/Dataset/'\n",
        "    data = pd.read_csv(path + 'data.csv')\n",
        "except FileNotFoundError:\n",
        "    # если файл не найден, загрузка из URL\n",
        "    data = pd.read_csv('https://code.s3.yandex.net/datasets/data.csv')"
      ]
    },
    {
      "cell_type": "markdown",
      "id": "08bbb5b3",
      "metadata": {
        "deletable": false,
        "editable": false,
        "id": "08bbb5b3",
        "tags": [
          "start_task"
        ]
      },
      "source": [
        "**Задание 2. Выведите первые 20 строчек датафрейма `data` на экран.**"
      ]
    },
    {
      "cell_type": "code",
      "execution_count": 3,
      "id": "4ff33b36",
      "metadata": {
        "id": "4ff33b36",
        "colab": {
          "base_uri": "https://localhost:8080/",
          "height": 1000
        },
        "outputId": "5aa42d66-c97f-4ca9-e2ed-a27403ce6a73"
      },
      "outputs": [
        {
          "output_type": "execute_result",
          "data": {
            "text/plain": [
              "    children  days_employed  dob_years            education  education_id  \\\n",
              "0          1   -8437.673028         42               высшее             0   \n",
              "1          1   -4024.803754         36              среднее             1   \n",
              "2          0   -5623.422610         33              Среднее             1   \n",
              "3          3   -4124.747207         32              среднее             1   \n",
              "4          0  340266.072047         53              среднее             1   \n",
              "5          0    -926.185831         27               высшее             0   \n",
              "6          0   -2879.202052         43               высшее             0   \n",
              "7          0    -152.779569         50              СРЕДНЕЕ             1   \n",
              "8          2   -6929.865299         35               ВЫСШЕЕ             0   \n",
              "9          0   -2188.756445         41              среднее             1   \n",
              "10         2   -4171.483647         36               высшее             0   \n",
              "11         0    -792.701887         40              среднее             1   \n",
              "12         0            NaN         65              среднее             1   \n",
              "13         0   -1846.641941         54  неоконченное высшее             2   \n",
              "14         0   -1844.956182         56               высшее             0   \n",
              "15         1    -972.364419         26              среднее             1   \n",
              "16         0   -1719.934226         35              среднее             1   \n",
              "17         0   -2369.999720         33               высшее             0   \n",
              "18         0  400281.136913         53              среднее             1   \n",
              "19         0  -10038.818549         48              СРЕДНЕЕ             1   \n",
              "\n",
              "       family_status  family_status_id gender income_type  debt  \\\n",
              "0    женат / замужем                 0      F   сотрудник     0   \n",
              "1    женат / замужем                 0      F   сотрудник     0   \n",
              "2    женат / замужем                 0      M   сотрудник     0   \n",
              "3    женат / замужем                 0      M   сотрудник     0   \n",
              "4   гражданский брак                 1      F   пенсионер     0   \n",
              "5   гражданский брак                 1      M   компаньон     0   \n",
              "6    женат / замужем                 0      F   компаньон     0   \n",
              "7    женат / замужем                 0      M   сотрудник     0   \n",
              "8   гражданский брак                 1      F   сотрудник     0   \n",
              "9    женат / замужем                 0      M   сотрудник     0   \n",
              "10   женат / замужем                 0      M   компаньон     0   \n",
              "11   женат / замужем                 0      F   сотрудник     0   \n",
              "12  гражданский брак                 1      M   пенсионер     0   \n",
              "13   женат / замужем                 0      F   сотрудник     0   \n",
              "14  гражданский брак                 1      F   компаньон     1   \n",
              "15   женат / замужем                 0      F   сотрудник     0   \n",
              "16   женат / замужем                 0      F   сотрудник     0   \n",
              "17  гражданский брак                 1      M   сотрудник     0   \n",
              "18    вдовец / вдова                 2      F   пенсионер     0   \n",
              "19         в разводе                 3      F   сотрудник     0   \n",
              "\n",
              "     total_income                                 purpose  \n",
              "0   253875.639453                           покупка жилья  \n",
              "1   112080.014102                 приобретение автомобиля  \n",
              "2   145885.952297                           покупка жилья  \n",
              "3   267628.550329              дополнительное образование  \n",
              "4   158616.077870                         сыграть свадьбу  \n",
              "5   255763.565419                           покупка жилья  \n",
              "6   240525.971920                       операции с жильем  \n",
              "7   135823.934197                             образование  \n",
              "8    95856.832424                   на проведение свадьбы  \n",
              "9   144425.938277                 покупка жилья для семьи  \n",
              "10  113943.491460                    покупка недвижимости  \n",
              "11   77069.234271       покупка коммерческой недвижимости  \n",
              "12            NaN                         сыграть свадьбу  \n",
              "13  130458.228857                 приобретение автомобиля  \n",
              "14  165127.911772              покупка жилой недвижимости  \n",
              "15  116820.904450  строительство собственной недвижимости  \n",
              "16  289202.704229                            недвижимость  \n",
              "17   90410.586745              строительство недвижимости  \n",
              "18   56823.777243      на покупку подержанного автомобиля  \n",
              "19  242831.107982            на покупку своего автомобиля  "
            ],
            "text/html": [
              "\n",
              "  <div id=\"df-46f04214-062d-42ad-9101-e36524b62665\" class=\"colab-df-container\">\n",
              "    <div>\n",
              "<style scoped>\n",
              "    .dataframe tbody tr th:only-of-type {\n",
              "        vertical-align: middle;\n",
              "    }\n",
              "\n",
              "    .dataframe tbody tr th {\n",
              "        vertical-align: top;\n",
              "    }\n",
              "\n",
              "    .dataframe thead th {\n",
              "        text-align: right;\n",
              "    }\n",
              "</style>\n",
              "<table border=\"1\" class=\"dataframe\">\n",
              "  <thead>\n",
              "    <tr style=\"text-align: right;\">\n",
              "      <th></th>\n",
              "      <th>children</th>\n",
              "      <th>days_employed</th>\n",
              "      <th>dob_years</th>\n",
              "      <th>education</th>\n",
              "      <th>education_id</th>\n",
              "      <th>family_status</th>\n",
              "      <th>family_status_id</th>\n",
              "      <th>gender</th>\n",
              "      <th>income_type</th>\n",
              "      <th>debt</th>\n",
              "      <th>total_income</th>\n",
              "      <th>purpose</th>\n",
              "    </tr>\n",
              "  </thead>\n",
              "  <tbody>\n",
              "    <tr>\n",
              "      <th>0</th>\n",
              "      <td>1</td>\n",
              "      <td>-8437.673028</td>\n",
              "      <td>42</td>\n",
              "      <td>высшее</td>\n",
              "      <td>0</td>\n",
              "      <td>женат / замужем</td>\n",
              "      <td>0</td>\n",
              "      <td>F</td>\n",
              "      <td>сотрудник</td>\n",
              "      <td>0</td>\n",
              "      <td>253875.639453</td>\n",
              "      <td>покупка жилья</td>\n",
              "    </tr>\n",
              "    <tr>\n",
              "      <th>1</th>\n",
              "      <td>1</td>\n",
              "      <td>-4024.803754</td>\n",
              "      <td>36</td>\n",
              "      <td>среднее</td>\n",
              "      <td>1</td>\n",
              "      <td>женат / замужем</td>\n",
              "      <td>0</td>\n",
              "      <td>F</td>\n",
              "      <td>сотрудник</td>\n",
              "      <td>0</td>\n",
              "      <td>112080.014102</td>\n",
              "      <td>приобретение автомобиля</td>\n",
              "    </tr>\n",
              "    <tr>\n",
              "      <th>2</th>\n",
              "      <td>0</td>\n",
              "      <td>-5623.422610</td>\n",
              "      <td>33</td>\n",
              "      <td>Среднее</td>\n",
              "      <td>1</td>\n",
              "      <td>женат / замужем</td>\n",
              "      <td>0</td>\n",
              "      <td>M</td>\n",
              "      <td>сотрудник</td>\n",
              "      <td>0</td>\n",
              "      <td>145885.952297</td>\n",
              "      <td>покупка жилья</td>\n",
              "    </tr>\n",
              "    <tr>\n",
              "      <th>3</th>\n",
              "      <td>3</td>\n",
              "      <td>-4124.747207</td>\n",
              "      <td>32</td>\n",
              "      <td>среднее</td>\n",
              "      <td>1</td>\n",
              "      <td>женат / замужем</td>\n",
              "      <td>0</td>\n",
              "      <td>M</td>\n",
              "      <td>сотрудник</td>\n",
              "      <td>0</td>\n",
              "      <td>267628.550329</td>\n",
              "      <td>дополнительное образование</td>\n",
              "    </tr>\n",
              "    <tr>\n",
              "      <th>4</th>\n",
              "      <td>0</td>\n",
              "      <td>340266.072047</td>\n",
              "      <td>53</td>\n",
              "      <td>среднее</td>\n",
              "      <td>1</td>\n",
              "      <td>гражданский брак</td>\n",
              "      <td>1</td>\n",
              "      <td>F</td>\n",
              "      <td>пенсионер</td>\n",
              "      <td>0</td>\n",
              "      <td>158616.077870</td>\n",
              "      <td>сыграть свадьбу</td>\n",
              "    </tr>\n",
              "    <tr>\n",
              "      <th>5</th>\n",
              "      <td>0</td>\n",
              "      <td>-926.185831</td>\n",
              "      <td>27</td>\n",
              "      <td>высшее</td>\n",
              "      <td>0</td>\n",
              "      <td>гражданский брак</td>\n",
              "      <td>1</td>\n",
              "      <td>M</td>\n",
              "      <td>компаньон</td>\n",
              "      <td>0</td>\n",
              "      <td>255763.565419</td>\n",
              "      <td>покупка жилья</td>\n",
              "    </tr>\n",
              "    <tr>\n",
              "      <th>6</th>\n",
              "      <td>0</td>\n",
              "      <td>-2879.202052</td>\n",
              "      <td>43</td>\n",
              "      <td>высшее</td>\n",
              "      <td>0</td>\n",
              "      <td>женат / замужем</td>\n",
              "      <td>0</td>\n",
              "      <td>F</td>\n",
              "      <td>компаньон</td>\n",
              "      <td>0</td>\n",
              "      <td>240525.971920</td>\n",
              "      <td>операции с жильем</td>\n",
              "    </tr>\n",
              "    <tr>\n",
              "      <th>7</th>\n",
              "      <td>0</td>\n",
              "      <td>-152.779569</td>\n",
              "      <td>50</td>\n",
              "      <td>СРЕДНЕЕ</td>\n",
              "      <td>1</td>\n",
              "      <td>женат / замужем</td>\n",
              "      <td>0</td>\n",
              "      <td>M</td>\n",
              "      <td>сотрудник</td>\n",
              "      <td>0</td>\n",
              "      <td>135823.934197</td>\n",
              "      <td>образование</td>\n",
              "    </tr>\n",
              "    <tr>\n",
              "      <th>8</th>\n",
              "      <td>2</td>\n",
              "      <td>-6929.865299</td>\n",
              "      <td>35</td>\n",
              "      <td>ВЫСШЕЕ</td>\n",
              "      <td>0</td>\n",
              "      <td>гражданский брак</td>\n",
              "      <td>1</td>\n",
              "      <td>F</td>\n",
              "      <td>сотрудник</td>\n",
              "      <td>0</td>\n",
              "      <td>95856.832424</td>\n",
              "      <td>на проведение свадьбы</td>\n",
              "    </tr>\n",
              "    <tr>\n",
              "      <th>9</th>\n",
              "      <td>0</td>\n",
              "      <td>-2188.756445</td>\n",
              "      <td>41</td>\n",
              "      <td>среднее</td>\n",
              "      <td>1</td>\n",
              "      <td>женат / замужем</td>\n",
              "      <td>0</td>\n",
              "      <td>M</td>\n",
              "      <td>сотрудник</td>\n",
              "      <td>0</td>\n",
              "      <td>144425.938277</td>\n",
              "      <td>покупка жилья для семьи</td>\n",
              "    </tr>\n",
              "    <tr>\n",
              "      <th>10</th>\n",
              "      <td>2</td>\n",
              "      <td>-4171.483647</td>\n",
              "      <td>36</td>\n",
              "      <td>высшее</td>\n",
              "      <td>0</td>\n",
              "      <td>женат / замужем</td>\n",
              "      <td>0</td>\n",
              "      <td>M</td>\n",
              "      <td>компаньон</td>\n",
              "      <td>0</td>\n",
              "      <td>113943.491460</td>\n",
              "      <td>покупка недвижимости</td>\n",
              "    </tr>\n",
              "    <tr>\n",
              "      <th>11</th>\n",
              "      <td>0</td>\n",
              "      <td>-792.701887</td>\n",
              "      <td>40</td>\n",
              "      <td>среднее</td>\n",
              "      <td>1</td>\n",
              "      <td>женат / замужем</td>\n",
              "      <td>0</td>\n",
              "      <td>F</td>\n",
              "      <td>сотрудник</td>\n",
              "      <td>0</td>\n",
              "      <td>77069.234271</td>\n",
              "      <td>покупка коммерческой недвижимости</td>\n",
              "    </tr>\n",
              "    <tr>\n",
              "      <th>12</th>\n",
              "      <td>0</td>\n",
              "      <td>NaN</td>\n",
              "      <td>65</td>\n",
              "      <td>среднее</td>\n",
              "      <td>1</td>\n",
              "      <td>гражданский брак</td>\n",
              "      <td>1</td>\n",
              "      <td>M</td>\n",
              "      <td>пенсионер</td>\n",
              "      <td>0</td>\n",
              "      <td>NaN</td>\n",
              "      <td>сыграть свадьбу</td>\n",
              "    </tr>\n",
              "    <tr>\n",
              "      <th>13</th>\n",
              "      <td>0</td>\n",
              "      <td>-1846.641941</td>\n",
              "      <td>54</td>\n",
              "      <td>неоконченное высшее</td>\n",
              "      <td>2</td>\n",
              "      <td>женат / замужем</td>\n",
              "      <td>0</td>\n",
              "      <td>F</td>\n",
              "      <td>сотрудник</td>\n",
              "      <td>0</td>\n",
              "      <td>130458.228857</td>\n",
              "      <td>приобретение автомобиля</td>\n",
              "    </tr>\n",
              "    <tr>\n",
              "      <th>14</th>\n",
              "      <td>0</td>\n",
              "      <td>-1844.956182</td>\n",
              "      <td>56</td>\n",
              "      <td>высшее</td>\n",
              "      <td>0</td>\n",
              "      <td>гражданский брак</td>\n",
              "      <td>1</td>\n",
              "      <td>F</td>\n",
              "      <td>компаньон</td>\n",
              "      <td>1</td>\n",
              "      <td>165127.911772</td>\n",
              "      <td>покупка жилой недвижимости</td>\n",
              "    </tr>\n",
              "    <tr>\n",
              "      <th>15</th>\n",
              "      <td>1</td>\n",
              "      <td>-972.364419</td>\n",
              "      <td>26</td>\n",
              "      <td>среднее</td>\n",
              "      <td>1</td>\n",
              "      <td>женат / замужем</td>\n",
              "      <td>0</td>\n",
              "      <td>F</td>\n",
              "      <td>сотрудник</td>\n",
              "      <td>0</td>\n",
              "      <td>116820.904450</td>\n",
              "      <td>строительство собственной недвижимости</td>\n",
              "    </tr>\n",
              "    <tr>\n",
              "      <th>16</th>\n",
              "      <td>0</td>\n",
              "      <td>-1719.934226</td>\n",
              "      <td>35</td>\n",
              "      <td>среднее</td>\n",
              "      <td>1</td>\n",
              "      <td>женат / замужем</td>\n",
              "      <td>0</td>\n",
              "      <td>F</td>\n",
              "      <td>сотрудник</td>\n",
              "      <td>0</td>\n",
              "      <td>289202.704229</td>\n",
              "      <td>недвижимость</td>\n",
              "    </tr>\n",
              "    <tr>\n",
              "      <th>17</th>\n",
              "      <td>0</td>\n",
              "      <td>-2369.999720</td>\n",
              "      <td>33</td>\n",
              "      <td>высшее</td>\n",
              "      <td>0</td>\n",
              "      <td>гражданский брак</td>\n",
              "      <td>1</td>\n",
              "      <td>M</td>\n",
              "      <td>сотрудник</td>\n",
              "      <td>0</td>\n",
              "      <td>90410.586745</td>\n",
              "      <td>строительство недвижимости</td>\n",
              "    </tr>\n",
              "    <tr>\n",
              "      <th>18</th>\n",
              "      <td>0</td>\n",
              "      <td>400281.136913</td>\n",
              "      <td>53</td>\n",
              "      <td>среднее</td>\n",
              "      <td>1</td>\n",
              "      <td>вдовец / вдова</td>\n",
              "      <td>2</td>\n",
              "      <td>F</td>\n",
              "      <td>пенсионер</td>\n",
              "      <td>0</td>\n",
              "      <td>56823.777243</td>\n",
              "      <td>на покупку подержанного автомобиля</td>\n",
              "    </tr>\n",
              "    <tr>\n",
              "      <th>19</th>\n",
              "      <td>0</td>\n",
              "      <td>-10038.818549</td>\n",
              "      <td>48</td>\n",
              "      <td>СРЕДНЕЕ</td>\n",
              "      <td>1</td>\n",
              "      <td>в разводе</td>\n",
              "      <td>3</td>\n",
              "      <td>F</td>\n",
              "      <td>сотрудник</td>\n",
              "      <td>0</td>\n",
              "      <td>242831.107982</td>\n",
              "      <td>на покупку своего автомобиля</td>\n",
              "    </tr>\n",
              "  </tbody>\n",
              "</table>\n",
              "</div>\n",
              "    <div class=\"colab-df-buttons\">\n",
              "\n",
              "  <div class=\"colab-df-container\">\n",
              "    <button class=\"colab-df-convert\" onclick=\"convertToInteractive('df-46f04214-062d-42ad-9101-e36524b62665')\"\n",
              "            title=\"Convert this dataframe to an interactive table.\"\n",
              "            style=\"display:none;\">\n",
              "\n",
              "  <svg xmlns=\"http://www.w3.org/2000/svg\" height=\"24px\" viewBox=\"0 -960 960 960\">\n",
              "    <path d=\"M120-120v-720h720v720H120Zm60-500h600v-160H180v160Zm220 220h160v-160H400v160Zm0 220h160v-160H400v160ZM180-400h160v-160H180v160Zm440 0h160v-160H620v160ZM180-180h160v-160H180v160Zm440 0h160v-160H620v160Z\"/>\n",
              "  </svg>\n",
              "    </button>\n",
              "\n",
              "  <style>\n",
              "    .colab-df-container {\n",
              "      display:flex;\n",
              "      gap: 12px;\n",
              "    }\n",
              "\n",
              "    .colab-df-convert {\n",
              "      background-color: #E8F0FE;\n",
              "      border: none;\n",
              "      border-radius: 50%;\n",
              "      cursor: pointer;\n",
              "      display: none;\n",
              "      fill: #1967D2;\n",
              "      height: 32px;\n",
              "      padding: 0 0 0 0;\n",
              "      width: 32px;\n",
              "    }\n",
              "\n",
              "    .colab-df-convert:hover {\n",
              "      background-color: #E2EBFA;\n",
              "      box-shadow: 0px 1px 2px rgba(60, 64, 67, 0.3), 0px 1px 3px 1px rgba(60, 64, 67, 0.15);\n",
              "      fill: #174EA6;\n",
              "    }\n",
              "\n",
              "    .colab-df-buttons div {\n",
              "      margin-bottom: 4px;\n",
              "    }\n",
              "\n",
              "    [theme=dark] .colab-df-convert {\n",
              "      background-color: #3B4455;\n",
              "      fill: #D2E3FC;\n",
              "    }\n",
              "\n",
              "    [theme=dark] .colab-df-convert:hover {\n",
              "      background-color: #434B5C;\n",
              "      box-shadow: 0px 1px 3px 1px rgba(0, 0, 0, 0.15);\n",
              "      filter: drop-shadow(0px 1px 2px rgba(0, 0, 0, 0.3));\n",
              "      fill: #FFFFFF;\n",
              "    }\n",
              "  </style>\n",
              "\n",
              "    <script>\n",
              "      const buttonEl =\n",
              "        document.querySelector('#df-46f04214-062d-42ad-9101-e36524b62665 button.colab-df-convert');\n",
              "      buttonEl.style.display =\n",
              "        google.colab.kernel.accessAllowed ? 'block' : 'none';\n",
              "\n",
              "      async function convertToInteractive(key) {\n",
              "        const element = document.querySelector('#df-46f04214-062d-42ad-9101-e36524b62665');\n",
              "        const dataTable =\n",
              "          await google.colab.kernel.invokeFunction('convertToInteractive',\n",
              "                                                    [key], {});\n",
              "        if (!dataTable) return;\n",
              "\n",
              "        const docLinkHtml = 'Like what you see? Visit the ' +\n",
              "          '<a target=\"_blank\" href=https://colab.research.google.com/notebooks/data_table.ipynb>data table notebook</a>'\n",
              "          + ' to learn more about interactive tables.';\n",
              "        element.innerHTML = '';\n",
              "        dataTable['output_type'] = 'display_data';\n",
              "        await google.colab.output.renderOutput(dataTable, element);\n",
              "        const docLink = document.createElement('div');\n",
              "        docLink.innerHTML = docLinkHtml;\n",
              "        element.appendChild(docLink);\n",
              "      }\n",
              "    </script>\n",
              "  </div>\n",
              "\n",
              "\n",
              "<div id=\"df-622c911a-78c0-444e-9a17-8e38123b6ef7\">\n",
              "  <button class=\"colab-df-quickchart\" onclick=\"quickchart('df-622c911a-78c0-444e-9a17-8e38123b6ef7')\"\n",
              "            title=\"Suggest charts\"\n",
              "            style=\"display:none;\">\n",
              "\n",
              "<svg xmlns=\"http://www.w3.org/2000/svg\" height=\"24px\"viewBox=\"0 0 24 24\"\n",
              "     width=\"24px\">\n",
              "    <g>\n",
              "        <path d=\"M19 3H5c-1.1 0-2 .9-2 2v14c0 1.1.9 2 2 2h14c1.1 0 2-.9 2-2V5c0-1.1-.9-2-2-2zM9 17H7v-7h2v7zm4 0h-2V7h2v10zm4 0h-2v-4h2v4z\"/>\n",
              "    </g>\n",
              "</svg>\n",
              "  </button>\n",
              "\n",
              "<style>\n",
              "  .colab-df-quickchart {\n",
              "      --bg-color: #E8F0FE;\n",
              "      --fill-color: #1967D2;\n",
              "      --hover-bg-color: #E2EBFA;\n",
              "      --hover-fill-color: #174EA6;\n",
              "      --disabled-fill-color: #AAA;\n",
              "      --disabled-bg-color: #DDD;\n",
              "  }\n",
              "\n",
              "  [theme=dark] .colab-df-quickchart {\n",
              "      --bg-color: #3B4455;\n",
              "      --fill-color: #D2E3FC;\n",
              "      --hover-bg-color: #434B5C;\n",
              "      --hover-fill-color: #FFFFFF;\n",
              "      --disabled-bg-color: #3B4455;\n",
              "      --disabled-fill-color: #666;\n",
              "  }\n",
              "\n",
              "  .colab-df-quickchart {\n",
              "    background-color: var(--bg-color);\n",
              "    border: none;\n",
              "    border-radius: 50%;\n",
              "    cursor: pointer;\n",
              "    display: none;\n",
              "    fill: var(--fill-color);\n",
              "    height: 32px;\n",
              "    padding: 0;\n",
              "    width: 32px;\n",
              "  }\n",
              "\n",
              "  .colab-df-quickchart:hover {\n",
              "    background-color: var(--hover-bg-color);\n",
              "    box-shadow: 0 1px 2px rgba(60, 64, 67, 0.3), 0 1px 3px 1px rgba(60, 64, 67, 0.15);\n",
              "    fill: var(--button-hover-fill-color);\n",
              "  }\n",
              "\n",
              "  .colab-df-quickchart-complete:disabled,\n",
              "  .colab-df-quickchart-complete:disabled:hover {\n",
              "    background-color: var(--disabled-bg-color);\n",
              "    fill: var(--disabled-fill-color);\n",
              "    box-shadow: none;\n",
              "  }\n",
              "\n",
              "  .colab-df-spinner {\n",
              "    border: 2px solid var(--fill-color);\n",
              "    border-color: transparent;\n",
              "    border-bottom-color: var(--fill-color);\n",
              "    animation:\n",
              "      spin 1s steps(1) infinite;\n",
              "  }\n",
              "\n",
              "  @keyframes spin {\n",
              "    0% {\n",
              "      border-color: transparent;\n",
              "      border-bottom-color: var(--fill-color);\n",
              "      border-left-color: var(--fill-color);\n",
              "    }\n",
              "    20% {\n",
              "      border-color: transparent;\n",
              "      border-left-color: var(--fill-color);\n",
              "      border-top-color: var(--fill-color);\n",
              "    }\n",
              "    30% {\n",
              "      border-color: transparent;\n",
              "      border-left-color: var(--fill-color);\n",
              "      border-top-color: var(--fill-color);\n",
              "      border-right-color: var(--fill-color);\n",
              "    }\n",
              "    40% {\n",
              "      border-color: transparent;\n",
              "      border-right-color: var(--fill-color);\n",
              "      border-top-color: var(--fill-color);\n",
              "    }\n",
              "    60% {\n",
              "      border-color: transparent;\n",
              "      border-right-color: var(--fill-color);\n",
              "    }\n",
              "    80% {\n",
              "      border-color: transparent;\n",
              "      border-right-color: var(--fill-color);\n",
              "      border-bottom-color: var(--fill-color);\n",
              "    }\n",
              "    90% {\n",
              "      border-color: transparent;\n",
              "      border-bottom-color: var(--fill-color);\n",
              "    }\n",
              "  }\n",
              "</style>\n",
              "\n",
              "  <script>\n",
              "    async function quickchart(key) {\n",
              "      const quickchartButtonEl =\n",
              "        document.querySelector('#' + key + ' button');\n",
              "      quickchartButtonEl.disabled = true;  // To prevent multiple clicks.\n",
              "      quickchartButtonEl.classList.add('colab-df-spinner');\n",
              "      try {\n",
              "        const charts = await google.colab.kernel.invokeFunction(\n",
              "            'suggestCharts', [key], {});\n",
              "      } catch (error) {\n",
              "        console.error('Error during call to suggestCharts:', error);\n",
              "      }\n",
              "      quickchartButtonEl.classList.remove('colab-df-spinner');\n",
              "      quickchartButtonEl.classList.add('colab-df-quickchart-complete');\n",
              "    }\n",
              "    (() => {\n",
              "      let quickchartButtonEl =\n",
              "        document.querySelector('#df-622c911a-78c0-444e-9a17-8e38123b6ef7 button');\n",
              "      quickchartButtonEl.style.display =\n",
              "        google.colab.kernel.accessAllowed ? 'block' : 'none';\n",
              "    })();\n",
              "  </script>\n",
              "</div>\n",
              "    </div>\n",
              "  </div>\n"
            ],
            "application/vnd.google.colaboratory.intrinsic+json": {
              "type": "dataframe",
              "variable_name": "data",
              "summary": "{\n  \"name\": \"data\",\n  \"rows\": 21525,\n  \"fields\": [\n    {\n      \"column\": \"children\",\n      \"properties\": {\n        \"dtype\": \"number\",\n        \"std\": 1,\n        \"min\": -1,\n        \"max\": 20,\n        \"num_unique_values\": 8,\n        \"samples\": [\n          0,\n          4,\n          1\n        ],\n        \"semantic_type\": \"\",\n        \"description\": \"\"\n      }\n    },\n    {\n      \"column\": \"days_employed\",\n      \"properties\": {\n        \"dtype\": \"number\",\n        \"std\": 140827.3119743168,\n        \"min\": -18388.949900568383,\n        \"max\": 401755.40047533,\n        \"num_unique_values\": 19351,\n        \"samples\": [\n          -4144.711271868319,\n          -1963.4835351775944,\n          -106.69195506879056\n        ],\n        \"semantic_type\": \"\",\n        \"description\": \"\"\n      }\n    },\n    {\n      \"column\": \"dob_years\",\n      \"properties\": {\n        \"dtype\": \"number\",\n        \"std\": 12,\n        \"min\": 0,\n        \"max\": 75,\n        \"num_unique_values\": 58,\n        \"samples\": [\n          42,\n          27,\n          64\n        ],\n        \"semantic_type\": \"\",\n        \"description\": \"\"\n      }\n    },\n    {\n      \"column\": \"education\",\n      \"properties\": {\n        \"dtype\": \"category\",\n        \"num_unique_values\": 15,\n        \"samples\": [\n          \"\\u041d\\u0435\\u043e\\u043a\\u043e\\u043d\\u0447\\u0435\\u043d\\u043d\\u043e\\u0435 \\u0432\\u044b\\u0441\\u0448\\u0435\\u0435\",\n          \"\\u041d\\u0430\\u0447\\u0430\\u043b\\u044c\\u043d\\u043e\\u0435\",\n          \"\\u0432\\u044b\\u0441\\u0448\\u0435\\u0435\"\n        ],\n        \"semantic_type\": \"\",\n        \"description\": \"\"\n      }\n    },\n    {\n      \"column\": \"education_id\",\n      \"properties\": {\n        \"dtype\": \"number\",\n        \"std\": 0,\n        \"min\": 0,\n        \"max\": 4,\n        \"num_unique_values\": 5,\n        \"samples\": [\n          1,\n          4,\n          2\n        ],\n        \"semantic_type\": \"\",\n        \"description\": \"\"\n      }\n    },\n    {\n      \"column\": \"family_status\",\n      \"properties\": {\n        \"dtype\": \"category\",\n        \"num_unique_values\": 5,\n        \"samples\": [\n          \"\\u0433\\u0440\\u0430\\u0436\\u0434\\u0430\\u043d\\u0441\\u043a\\u0438\\u0439 \\u0431\\u0440\\u0430\\u043a\",\n          \"\\u041d\\u0435 \\u0436\\u0435\\u043d\\u0430\\u0442 / \\u043d\\u0435 \\u0437\\u0430\\u043c\\u0443\\u0436\\u0435\\u043c\",\n          \"\\u0432\\u0434\\u043e\\u0432\\u0435\\u0446 / \\u0432\\u0434\\u043e\\u0432\\u0430\"\n        ],\n        \"semantic_type\": \"\",\n        \"description\": \"\"\n      }\n    },\n    {\n      \"column\": \"family_status_id\",\n      \"properties\": {\n        \"dtype\": \"number\",\n        \"std\": 1,\n        \"min\": 0,\n        \"max\": 4,\n        \"num_unique_values\": 5,\n        \"samples\": [\n          1,\n          4,\n          2\n        ],\n        \"semantic_type\": \"\",\n        \"description\": \"\"\n      }\n    },\n    {\n      \"column\": \"gender\",\n      \"properties\": {\n        \"dtype\": \"category\",\n        \"num_unique_values\": 3,\n        \"samples\": [\n          \"F\",\n          \"M\",\n          \"XNA\"\n        ],\n        \"semantic_type\": \"\",\n        \"description\": \"\"\n      }\n    },\n    {\n      \"column\": \"income_type\",\n      \"properties\": {\n        \"dtype\": \"category\",\n        \"num_unique_values\": 8,\n        \"samples\": [\n          \"\\u043f\\u0435\\u043d\\u0441\\u0438\\u043e\\u043d\\u0435\\u0440\",\n          \"\\u043f\\u0440\\u0435\\u0434\\u043f\\u0440\\u0438\\u043d\\u0438\\u043c\\u0430\\u0442\\u0435\\u043b\\u044c\",\n          \"\\u0441\\u043e\\u0442\\u0440\\u0443\\u0434\\u043d\\u0438\\u043a\"\n        ],\n        \"semantic_type\": \"\",\n        \"description\": \"\"\n      }\n    },\n    {\n      \"column\": \"debt\",\n      \"properties\": {\n        \"dtype\": \"number\",\n        \"std\": 0,\n        \"min\": 0,\n        \"max\": 1,\n        \"num_unique_values\": 2,\n        \"samples\": [\n          1,\n          0\n        ],\n        \"semantic_type\": \"\",\n        \"description\": \"\"\n      }\n    },\n    {\n      \"column\": \"total_income\",\n      \"properties\": {\n        \"dtype\": \"number\",\n        \"std\": 102971.56644797762,\n        \"min\": 20667.26379327158,\n        \"max\": 2265604.028722744,\n        \"num_unique_values\": 19351,\n        \"samples\": [\n          264985.90849759005,\n          145521.97728763806\n        ],\n        \"semantic_type\": \"\",\n        \"description\": \"\"\n      }\n    },\n    {\n      \"column\": \"purpose\",\n      \"properties\": {\n        \"dtype\": \"category\",\n        \"num_unique_values\": 38,\n        \"samples\": [\n          \"\\u0432\\u044b\\u0441\\u0448\\u0435\\u0435 \\u043e\\u0431\\u0440\\u0430\\u0437\\u043e\\u0432\\u0430\\u043d\\u0438\\u0435\",\n          \"\\u0440\\u0435\\u043c\\u043e\\u043d\\u0442 \\u0436\\u0438\\u043b\\u044c\\u044e\"\n        ],\n        \"semantic_type\": \"\",\n        \"description\": \"\"\n      }\n    }\n  ]\n}"
            }
          },
          "metadata": {},
          "execution_count": 3
        }
      ],
      "source": [
        "# Вывод первых 20 строк датафрейма\n",
        "data.head(20)"
      ]
    },
    {
      "cell_type": "markdown",
      "id": "c8f382ae",
      "metadata": {
        "deletable": false,
        "editable": false,
        "id": "c8f382ae",
        "tags": [
          "start_task"
        ]
      },
      "source": [
        "**Задание 3. Выведите основную информацию о датафрейме с помощью метода `info()`.**"
      ]
    },
    {
      "cell_type": "code",
      "execution_count": 4,
      "id": "e1ed9908",
      "metadata": {
        "id": "e1ed9908",
        "colab": {
          "base_uri": "https://localhost:8080/"
        },
        "outputId": "4809446b-d7ee-452e-c1f0-71c2d3d974eb"
      },
      "outputs": [
        {
          "output_type": "stream",
          "name": "stdout",
          "text": [
            "<class 'pandas.core.frame.DataFrame'>\n",
            "RangeIndex: 21525 entries, 0 to 21524\n",
            "Data columns (total 12 columns):\n",
            " #   Column            Non-Null Count  Dtype  \n",
            "---  ------            --------------  -----  \n",
            " 0   children          21525 non-null  int64  \n",
            " 1   days_employed     19351 non-null  float64\n",
            " 2   dob_years         21525 non-null  int64  \n",
            " 3   education         21525 non-null  object \n",
            " 4   education_id      21525 non-null  int64  \n",
            " 5   family_status     21525 non-null  object \n",
            " 6   family_status_id  21525 non-null  int64  \n",
            " 7   gender            21525 non-null  object \n",
            " 8   income_type       21525 non-null  object \n",
            " 9   debt              21525 non-null  int64  \n",
            " 10  total_income      19351 non-null  float64\n",
            " 11  purpose           21525 non-null  object \n",
            "dtypes: float64(2), int64(5), object(5)\n",
            "memory usage: 2.0+ MB\n"
          ]
        }
      ],
      "source": [
        "# Вывод основной информации о датафрейма\n",
        "data.info()"
      ]
    },
    {
      "cell_type": "markdown",
      "id": "f969a1cd",
      "metadata": {
        "deletable": false,
        "editable": false,
        "id": "f969a1cd"
      },
      "source": [
        "## Шаг 2. Предобработка данных"
      ]
    },
    {
      "cell_type": "markdown",
      "id": "7283e864",
      "metadata": {
        "deletable": false,
        "editable": false,
        "id": "7283e864"
      },
      "source": [
        "### Удаление пропусков"
      ]
    },
    {
      "cell_type": "markdown",
      "id": "c9a0745e",
      "metadata": {
        "deletable": false,
        "editable": false,
        "id": "c9a0745e",
        "tags": [
          "start_task"
        ]
      },
      "source": [
        "**Задание 4. Выведите количество пропущенных значений для каждого столбца. Используйте комбинацию двух методов.**"
      ]
    },
    {
      "cell_type": "code",
      "execution_count": 5,
      "id": "b7a096e1",
      "metadata": {
        "id": "b7a096e1",
        "colab": {
          "base_uri": "https://localhost:8080/",
          "height": 460
        },
        "outputId": "a66991a2-7368-4322-bbbd-f9c70ca65273"
      },
      "outputs": [
        {
          "output_type": "execute_result",
          "data": {
            "text/plain": [
              "children               0\n",
              "days_employed       2174\n",
              "dob_years              0\n",
              "education              0\n",
              "education_id           0\n",
              "family_status          0\n",
              "family_status_id       0\n",
              "gender                 0\n",
              "income_type            0\n",
              "debt                   0\n",
              "total_income        2174\n",
              "purpose                0\n",
              "dtype: int64"
            ],
            "text/html": [
              "<div>\n",
              "<style scoped>\n",
              "    .dataframe tbody tr th:only-of-type {\n",
              "        vertical-align: middle;\n",
              "    }\n",
              "\n",
              "    .dataframe tbody tr th {\n",
              "        vertical-align: top;\n",
              "    }\n",
              "\n",
              "    .dataframe thead th {\n",
              "        text-align: right;\n",
              "    }\n",
              "</style>\n",
              "<table border=\"1\" class=\"dataframe\">\n",
              "  <thead>\n",
              "    <tr style=\"text-align: right;\">\n",
              "      <th></th>\n",
              "      <th>0</th>\n",
              "    </tr>\n",
              "  </thead>\n",
              "  <tbody>\n",
              "    <tr>\n",
              "      <th>children</th>\n",
              "      <td>0</td>\n",
              "    </tr>\n",
              "    <tr>\n",
              "      <th>days_employed</th>\n",
              "      <td>2174</td>\n",
              "    </tr>\n",
              "    <tr>\n",
              "      <th>dob_years</th>\n",
              "      <td>0</td>\n",
              "    </tr>\n",
              "    <tr>\n",
              "      <th>education</th>\n",
              "      <td>0</td>\n",
              "    </tr>\n",
              "    <tr>\n",
              "      <th>education_id</th>\n",
              "      <td>0</td>\n",
              "    </tr>\n",
              "    <tr>\n",
              "      <th>family_status</th>\n",
              "      <td>0</td>\n",
              "    </tr>\n",
              "    <tr>\n",
              "      <th>family_status_id</th>\n",
              "      <td>0</td>\n",
              "    </tr>\n",
              "    <tr>\n",
              "      <th>gender</th>\n",
              "      <td>0</td>\n",
              "    </tr>\n",
              "    <tr>\n",
              "      <th>income_type</th>\n",
              "      <td>0</td>\n",
              "    </tr>\n",
              "    <tr>\n",
              "      <th>debt</th>\n",
              "      <td>0</td>\n",
              "    </tr>\n",
              "    <tr>\n",
              "      <th>total_income</th>\n",
              "      <td>2174</td>\n",
              "    </tr>\n",
              "    <tr>\n",
              "      <th>purpose</th>\n",
              "      <td>0</td>\n",
              "    </tr>\n",
              "  </tbody>\n",
              "</table>\n",
              "</div><br><label><b>dtype:</b> int64</label>"
            ]
          },
          "metadata": {},
          "execution_count": 5
        }
      ],
      "source": [
        "# Подсчет количества пропущенных значений для каждого столбца\n",
        "missing_values = data.isnull().sum()\n",
        "missing_values"
      ]
    },
    {
      "cell_type": "markdown",
      "id": "c2578616",
      "metadata": {
        "deletable": false,
        "editable": false,
        "id": "c2578616",
        "tags": [
          "start_task"
        ]
      },
      "source": [
        "**Задание 5. В двух столбцах есть пропущенные значения. Один из них — `days_employed`. Пропуски в этом столбце вы обработаете на следующем этапе. Другой столбец с пропущенными значениями — `total_income` — хранит данные о доходах. На сумму дохода сильнее всего влияет тип занятости, поэтому заполнить пропуски в этом столбце нужно медианным значением по каждому типу из столбца `income_type`. Например, у человека с типом занятости `сотрудник` пропуск в столбце `total_income` должен быть заполнен медианным доходом среди всех записей с тем же типом.**"
      ]
    },
    {
      "cell_type": "code",
      "execution_count": 6,
      "id": "e8afc4bc",
      "metadata": {
        "id": "e8afc4bc"
      },
      "outputs": [],
      "source": [
        "# Замена пропусков в столбце 'total_income' медианными значениями по 'income_type'\n",
        "for income in data['income_type'].unique():\n",
        "\tdata.loc[(data['income_type'] == income) & (data['total_income'].isna()), 'total_income'] = \\\n",
        "    data.loc[(data['income_type'] == income), 'total_income'].median()"
      ]
    },
    {
      "cell_type": "markdown",
      "id": "ae986d46",
      "metadata": {
        "deletable": false,
        "editable": false,
        "id": "ae986d46"
      },
      "source": [
        "### Обработка аномальных значений"
      ]
    },
    {
      "cell_type": "markdown",
      "id": "b049cbae",
      "metadata": {
        "deletable": false,
        "editable": false,
        "id": "b049cbae",
        "tags": [
          "start_task"
        ]
      },
      "source": [
        "**Задание 6. В данных могут встречаться артефакты (аномалии) — значения, которые не отражают действительность и появились по какой-то ошибке. Таким артефактом будет отрицательное количество дней трудового стажа в столбце `days_employed`. Для реальных данных это нормально. Обработайте значения в этом столбце: замените все отрицательные значения положительными с помощью метода `abs()`.**"
      ]
    },
    {
      "cell_type": "code",
      "execution_count": 7,
      "id": "187779b0",
      "metadata": {
        "id": "187779b0"
      },
      "outputs": [],
      "source": [
        "# Замена отрицательных значений положительными, в столбце 'days_employed'\n",
        "data['days_employed'] = data['days_employed'].abs()"
      ]
    },
    {
      "cell_type": "markdown",
      "id": "a13054c2",
      "metadata": {
        "deletable": false,
        "editable": false,
        "id": "a13054c2",
        "tags": [
          "start_task"
        ]
      },
      "source": [
        "**Задание 7. Для каждого типа занятости выведите медианное значение трудового стажа `days_employed` в днях.**"
      ]
    },
    {
      "cell_type": "code",
      "execution_count": 8,
      "id": "f3f5810c",
      "metadata": {
        "id": "f3f5810c",
        "colab": {
          "base_uri": "https://localhost:8080/",
          "height": 366
        },
        "outputId": "acf17902-42d5-45a8-952f-ebc7e1fda069"
      },
      "outputs": [
        {
          "output_type": "execute_result",
          "data": {
            "text/plain": [
              "income_type\n",
              "безработный        366413.652744\n",
              "в декрете            3296.759962\n",
              "госслужащий          2689.368353\n",
              "компаньон            1547.382223\n",
              "пенсионер          365213.306266\n",
              "предприниматель       520.848083\n",
              "сотрудник            1574.202821\n",
              "студент               578.751554\n",
              "Name: days_employed, dtype: float64"
            ],
            "text/html": [
              "<div>\n",
              "<style scoped>\n",
              "    .dataframe tbody tr th:only-of-type {\n",
              "        vertical-align: middle;\n",
              "    }\n",
              "\n",
              "    .dataframe tbody tr th {\n",
              "        vertical-align: top;\n",
              "    }\n",
              "\n",
              "    .dataframe thead th {\n",
              "        text-align: right;\n",
              "    }\n",
              "</style>\n",
              "<table border=\"1\" class=\"dataframe\">\n",
              "  <thead>\n",
              "    <tr style=\"text-align: right;\">\n",
              "      <th></th>\n",
              "      <th>days_employed</th>\n",
              "    </tr>\n",
              "    <tr>\n",
              "      <th>income_type</th>\n",
              "      <th></th>\n",
              "    </tr>\n",
              "  </thead>\n",
              "  <tbody>\n",
              "    <tr>\n",
              "      <th>безработный</th>\n",
              "      <td>366413.652744</td>\n",
              "    </tr>\n",
              "    <tr>\n",
              "      <th>в декрете</th>\n",
              "      <td>3296.759962</td>\n",
              "    </tr>\n",
              "    <tr>\n",
              "      <th>госслужащий</th>\n",
              "      <td>2689.368353</td>\n",
              "    </tr>\n",
              "    <tr>\n",
              "      <th>компаньон</th>\n",
              "      <td>1547.382223</td>\n",
              "    </tr>\n",
              "    <tr>\n",
              "      <th>пенсионер</th>\n",
              "      <td>365213.306266</td>\n",
              "    </tr>\n",
              "    <tr>\n",
              "      <th>предприниматель</th>\n",
              "      <td>520.848083</td>\n",
              "    </tr>\n",
              "    <tr>\n",
              "      <th>сотрудник</th>\n",
              "      <td>1574.202821</td>\n",
              "    </tr>\n",
              "    <tr>\n",
              "      <th>студент</th>\n",
              "      <td>578.751554</td>\n",
              "    </tr>\n",
              "  </tbody>\n",
              "</table>\n",
              "</div><br><label><b>dtype:</b> float64</label>"
            ]
          },
          "metadata": {},
          "execution_count": 8
        }
      ],
      "source": [
        "# Вывод медианного значение трудового стажа для каждого типа занятости\n",
        "median_days_employed = data.groupby('income_type')['days_employed'].median()\n",
        "median_days_employed"
      ]
    },
    {
      "cell_type": "markdown",
      "id": "dbc3168c",
      "metadata": {
        "deletable": false,
        "editable": false,
        "id": "dbc3168c"
      },
      "source": [
        "У двух типов (безработные и пенсионеры) получатся аномально большие значения. Исправить такие значения сложно, поэтому оставьте их как есть."
      ]
    },
    {
      "cell_type": "markdown",
      "id": "ff4378c2",
      "metadata": {
        "deletable": false,
        "editable": false,
        "id": "ff4378c2",
        "tags": [
          "start_task"
        ]
      },
      "source": [
        "**Задание 8. Выведите перечень уникальных значений столбца `children`.**"
      ]
    },
    {
      "cell_type": "code",
      "execution_count": 9,
      "id": "9bd0c232",
      "metadata": {
        "id": "9bd0c232",
        "colab": {
          "base_uri": "https://localhost:8080/"
        },
        "outputId": "8409d32b-b843-43b5-b16a-224541f1e87e"
      },
      "outputs": [
        {
          "output_type": "execute_result",
          "data": {
            "text/plain": [
              "array([ 1,  0,  3,  2, -1,  4, 20,  5])"
            ]
          },
          "metadata": {},
          "execution_count": 9
        }
      ],
      "source": [
        "# Вывод уникальных значений столбца 'children'\n",
        "data['children'].unique()"
      ]
    },
    {
      "cell_type": "markdown",
      "id": "8e911990",
      "metadata": {
        "deletable": false,
        "editable": false,
        "id": "8e911990",
        "tags": [
          "start_task"
        ]
      },
      "source": [
        "**Задание 9. В столбце `children` есть два аномальных значения. Удалите строки, в которых встречаются такие аномальные значения из датафрейма `data`.**"
      ]
    },
    {
      "cell_type": "code",
      "execution_count": 10,
      "id": "6d5ba289",
      "metadata": {
        "id": "6d5ba289"
      },
      "outputs": [],
      "source": [
        "# Исключение строк с аномальными значениями\n",
        "data = data.loc[(data['children'] != -1) & (data['children'] !=20)]"
      ]
    },
    {
      "cell_type": "markdown",
      "id": "18d77455",
      "metadata": {
        "deletable": false,
        "editable": false,
        "id": "18d77455",
        "tags": [
          "start_task"
        ]
      },
      "source": [
        "**Задание 10. Ещё раз выведите перечень уникальных значений столбца `children`, чтобы убедиться, что артефакты удалены.**"
      ]
    },
    {
      "cell_type": "code",
      "execution_count": 11,
      "id": "2c5fa92c",
      "metadata": {
        "id": "2c5fa92c",
        "colab": {
          "base_uri": "https://localhost:8080/"
        },
        "outputId": "f3aa40fb-0a0b-45b9-92c8-44d3a7d0ac54"
      },
      "outputs": [
        {
          "output_type": "execute_result",
          "data": {
            "text/plain": [
              "array([1, 0, 3, 2, 4, 5])"
            ]
          },
          "metadata": {},
          "execution_count": 11
        }
      ],
      "source": [
        "# Вывод уникальных значений столбца 'children'\n",
        "data['children'].unique()"
      ]
    },
    {
      "cell_type": "markdown",
      "id": "0ec07dee",
      "metadata": {
        "deletable": false,
        "editable": false,
        "id": "0ec07dee"
      },
      "source": [
        "### Удаление пропусков (продолжение)"
      ]
    },
    {
      "cell_type": "markdown",
      "id": "0fc3ae3f",
      "metadata": {
        "deletable": false,
        "editable": false,
        "id": "0fc3ae3f",
        "tags": [
          "start_task"
        ]
      },
      "source": [
        "**Задание 11. Заполните пропуски в столбце `days_employed` медианными значениями по каждому типу занятости `income_type`.**"
      ]
    },
    {
      "cell_type": "code",
      "execution_count": 12,
      "id": "e2aea7ac",
      "metadata": {
        "id": "e2aea7ac"
      },
      "outputs": [],
      "source": [
        "# Замена пропусков в столбце 'days_employed' медианными значениями по 'income_type'\n",
        "for income in data['income_type'].unique():\n",
        "\tdata.loc[(data['income_type'] == income) & (data['days_employed'].isna()), 'days_employed'] = \\\n",
        "    data.loc[(data['income_type'] == income), 'days_employed'].median()"
      ]
    },
    {
      "cell_type": "markdown",
      "id": "97b0b795",
      "metadata": {
        "deletable": false,
        "editable": false,
        "id": "97b0b795",
        "tags": [
          "start_task"
        ]
      },
      "source": [
        "**Задание 12. Убедитесь, что все пропуски заполнены. Проверьте себя и ещё раз выведите количество пропущенных значений для каждого столбца с помощью двух методов.**"
      ]
    },
    {
      "cell_type": "code",
      "execution_count": 13,
      "id": "79632a21",
      "metadata": {
        "id": "79632a21",
        "colab": {
          "base_uri": "https://localhost:8080/",
          "height": 460
        },
        "outputId": "42a90378-163d-4aa5-ddfd-af9c8c1f7f76"
      },
      "outputs": [
        {
          "output_type": "execute_result",
          "data": {
            "text/plain": [
              "children            0\n",
              "days_employed       0\n",
              "dob_years           0\n",
              "education           0\n",
              "education_id        0\n",
              "family_status       0\n",
              "family_status_id    0\n",
              "gender              0\n",
              "income_type         0\n",
              "debt                0\n",
              "total_income        0\n",
              "purpose             0\n",
              "dtype: int64"
            ],
            "text/html": [
              "<div>\n",
              "<style scoped>\n",
              "    .dataframe tbody tr th:only-of-type {\n",
              "        vertical-align: middle;\n",
              "    }\n",
              "\n",
              "    .dataframe tbody tr th {\n",
              "        vertical-align: top;\n",
              "    }\n",
              "\n",
              "    .dataframe thead th {\n",
              "        text-align: right;\n",
              "    }\n",
              "</style>\n",
              "<table border=\"1\" class=\"dataframe\">\n",
              "  <thead>\n",
              "    <tr style=\"text-align: right;\">\n",
              "      <th></th>\n",
              "      <th>0</th>\n",
              "    </tr>\n",
              "  </thead>\n",
              "  <tbody>\n",
              "    <tr>\n",
              "      <th>children</th>\n",
              "      <td>0</td>\n",
              "    </tr>\n",
              "    <tr>\n",
              "      <th>days_employed</th>\n",
              "      <td>0</td>\n",
              "    </tr>\n",
              "    <tr>\n",
              "      <th>dob_years</th>\n",
              "      <td>0</td>\n",
              "    </tr>\n",
              "    <tr>\n",
              "      <th>education</th>\n",
              "      <td>0</td>\n",
              "    </tr>\n",
              "    <tr>\n",
              "      <th>education_id</th>\n",
              "      <td>0</td>\n",
              "    </tr>\n",
              "    <tr>\n",
              "      <th>family_status</th>\n",
              "      <td>0</td>\n",
              "    </tr>\n",
              "    <tr>\n",
              "      <th>family_status_id</th>\n",
              "      <td>0</td>\n",
              "    </tr>\n",
              "    <tr>\n",
              "      <th>gender</th>\n",
              "      <td>0</td>\n",
              "    </tr>\n",
              "    <tr>\n",
              "      <th>income_type</th>\n",
              "      <td>0</td>\n",
              "    </tr>\n",
              "    <tr>\n",
              "      <th>debt</th>\n",
              "      <td>0</td>\n",
              "    </tr>\n",
              "    <tr>\n",
              "      <th>total_income</th>\n",
              "      <td>0</td>\n",
              "    </tr>\n",
              "    <tr>\n",
              "      <th>purpose</th>\n",
              "      <td>0</td>\n",
              "    </tr>\n",
              "  </tbody>\n",
              "</table>\n",
              "</div><br><label><b>dtype:</b> int64</label>"
            ]
          },
          "metadata": {},
          "execution_count": 13
        }
      ],
      "source": [
        "# Подсчет количества пропущенных значений для каждого столбца\n",
        "missing_values = data.isnull().sum()\n",
        "missing_values"
      ]
    },
    {
      "cell_type": "markdown",
      "id": "bd4aeb20",
      "metadata": {
        "deletable": false,
        "editable": false,
        "id": "bd4aeb20"
      },
      "source": [
        "### Изменение типов данных"
      ]
    },
    {
      "cell_type": "markdown",
      "id": "963bfa58",
      "metadata": {
        "deletable": false,
        "editable": false,
        "id": "963bfa58",
        "tags": [
          "start_task"
        ]
      },
      "source": [
        "**Задание 13. Замените вещественный тип данных в столбце `total_income` на целочисленный с помощью метода `astype()`.**"
      ]
    },
    {
      "cell_type": "code",
      "execution_count": 14,
      "id": "73da6ea0",
      "metadata": {
        "id": "73da6ea0"
      },
      "outputs": [],
      "source": [
        "# Замена типа данных в столбце 'total_income' на integer (целочисленный)\n",
        "data['total_income'] = data['total_income'].astype('int')"
      ]
    },
    {
      "cell_type": "markdown",
      "id": "d290239e",
      "metadata": {
        "deletable": false,
        "editable": false,
        "id": "d290239e"
      },
      "source": [
        "### Обработка дубликатов"
      ]
    },
    {
      "cell_type": "markdown",
      "id": "1b5844fd",
      "metadata": {
        "deletable": false,
        "editable": false,
        "id": "1b5844fd",
        "tags": [
          "start_task"
        ]
      },
      "source": [
        "**Задание 14. Обработайте неявные дубликаты в столбце `education`. В этом столбце есть одни и те же значения, но записанные по-разному: с использованием заглавных и строчных букв. Приведите их к нижнему регистру.**"
      ]
    },
    {
      "cell_type": "code",
      "execution_count": 15,
      "id": "3f2504b3",
      "metadata": {
        "id": "3f2504b3"
      },
      "outputs": [],
      "source": [
        "# Перевод строк столбца 'education' в нижний регистр\n",
        "data['education'] = data['education'].str.lower()"
      ]
    },
    {
      "cell_type": "markdown",
      "id": "4c22acbc",
      "metadata": {
        "deletable": false,
        "editable": false,
        "id": "4c22acbc",
        "tags": [
          "start_task"
        ]
      },
      "source": [
        "**Задание 15. Выведите на экран количество строк-дубликатов в данных. Если такие строки присутствуют, удалите их.**"
      ]
    },
    {
      "cell_type": "code",
      "execution_count": 16,
      "id": "d34a4325",
      "metadata": {
        "id": "d34a4325",
        "colab": {
          "base_uri": "https://localhost:8080/"
        },
        "outputId": "8d79a93e-d629-4b7d-8398-d7ee0012ebdc"
      },
      "outputs": [
        {
          "output_type": "execute_result",
          "data": {
            "text/plain": [
              "71"
            ]
          },
          "metadata": {},
          "execution_count": 16
        }
      ],
      "source": [
        "# Подсчет дубликатов\n",
        "data.duplicated().sum()"
      ]
    },
    {
      "cell_type": "code",
      "execution_count": 17,
      "id": "6e1a6499",
      "metadata": {
        "id": "6e1a6499"
      },
      "outputs": [],
      "source": [
        "# Удаление дубликатов\n",
        "data = data.drop_duplicates()"
      ]
    },
    {
      "cell_type": "markdown",
      "id": "e5686ccc",
      "metadata": {
        "deletable": false,
        "editable": false,
        "id": "e5686ccc"
      },
      "source": [
        "### Категоризация данных"
      ]
    },
    {
      "cell_type": "markdown",
      "id": "636e9acd",
      "metadata": {
        "deletable": false,
        "editable": false,
        "id": "636e9acd",
        "tags": [
          "start_task"
        ]
      },
      "source": [
        "**Задание 16. На основании диапазонов, указанных ниже, создайте в датафрейме `data` столбец `total_income_category` с категориями:**\n",
        "\n",
        "- 0–30000 — `'E'`;\n",
        "- 30001–50000 — `'D'`;\n",
        "- 50001–200000 — `'C'`;\n",
        "- 200001–1000000 — `'B'`;\n",
        "- 1000001 и выше — `'A'`.\n",
        "\n",
        "\n",
        "**Например, кредитополучателю с доходом 25000 нужно назначить категорию `'E'`, а клиенту, получающему 235000, — `'B'`. Используйте собственную функцию с именем `categorize_income()` и метод `apply()`.**"
      ]
    },
    {
      "cell_type": "code",
      "execution_count": 18,
      "id": "880a77e5",
      "metadata": {
        "id": "880a77e5"
      },
      "outputs": [],
      "source": [
        "# Создание функции для присвоения категорий кредитополучателям\n",
        "def categorize_income(total_income):\n",
        "    if total_income <= 30000:\n",
        "        return 'E'\n",
        "    if 30001 <= total_income <= 50000:\n",
        "        return 'D'\n",
        "    if 50001 <= total_income <= 200000:\n",
        "        return 'C'\n",
        "    if 200001 <= total_income <= 1000000:\n",
        "        return 'B'\n",
        "    return 'A'"
      ]
    },
    {
      "cell_type": "code",
      "execution_count": 19,
      "id": "6f25f161",
      "metadata": {
        "id": "6f25f161"
      },
      "outputs": [],
      "source": [
        "# Применение функции и создание столбца с категориями кредитополучателей\n",
        "data['total_income_category'] = data['total_income'].apply(categorize_income)"
      ]
    },
    {
      "cell_type": "markdown",
      "id": "3363b685",
      "metadata": {
        "deletable": false,
        "editable": false,
        "id": "3363b685",
        "tags": [
          "start_task"
        ]
      },
      "source": [
        "**Задание 17. Выведите на экран перечень уникальных целей взятия кредита из столбца `purpose`.**"
      ]
    },
    {
      "cell_type": "code",
      "execution_count": 20,
      "id": "e59f2c15",
      "metadata": {
        "id": "e59f2c15",
        "colab": {
          "base_uri": "https://localhost:8080/"
        },
        "outputId": "cbe30767-095e-4cf9-fb36-d4ba406f93f6"
      },
      "outputs": [
        {
          "output_type": "execute_result",
          "data": {
            "text/plain": [
              "array(['покупка жилья', 'приобретение автомобиля',\n",
              "       'дополнительное образование', 'сыграть свадьбу',\n",
              "       'операции с жильем', 'образование', 'на проведение свадьбы',\n",
              "       'покупка жилья для семьи', 'покупка недвижимости',\n",
              "       'покупка коммерческой недвижимости', 'покупка жилой недвижимости',\n",
              "       'строительство собственной недвижимости', 'недвижимость',\n",
              "       'строительство недвижимости', 'на покупку подержанного автомобиля',\n",
              "       'на покупку своего автомобиля',\n",
              "       'операции с коммерческой недвижимостью',\n",
              "       'строительство жилой недвижимости', 'жилье',\n",
              "       'операции со своей недвижимостью', 'автомобили',\n",
              "       'заняться образованием', 'сделка с подержанным автомобилем',\n",
              "       'получение образования', 'автомобиль', 'свадьба',\n",
              "       'получение дополнительного образования', 'покупка своего жилья',\n",
              "       'операции с недвижимостью', 'получение высшего образования',\n",
              "       'свой автомобиль', 'сделка с автомобилем',\n",
              "       'профильное образование', 'высшее образование',\n",
              "       'покупка жилья для сдачи', 'на покупку автомобиля', 'ремонт жилью',\n",
              "       'заняться высшим образованием'], dtype=object)"
            ]
          },
          "metadata": {},
          "execution_count": 20
        }
      ],
      "source": [
        "# Вывод перечня уникальных целей взятия кредита\n",
        "data['purpose'].unique()"
      ]
    },
    {
      "cell_type": "markdown",
      "id": "bb33e847",
      "metadata": {
        "deletable": false,
        "editable": false,
        "id": "bb33e847",
        "tags": [
          "start_task"
        ]
      },
      "source": [
        "**Задание 18. Создайте функцию, которая на основании данных из столбца `purpose` сформирует новый столбец `purpose_category`, в который войдут следующие категории:**\n",
        "\n",
        "- `'операции с автомобилем'`,\n",
        "- `'операции с недвижимостью'`,\n",
        "- `'проведение свадьбы'`,\n",
        "- `'получение образования'`.\n",
        "\n",
        "**Например, если в столбце `purpose` находится подстрока `'на покупку автомобиля'`, то в столбце `purpose_category` должна появиться строка `'операции с автомобилем'`.**\n",
        "\n",
        "**Используйте собственную функцию с именем `categorize_purpose()` и метод `apply()`. Изучите данные в столбце `purpose` и определите, какие подстроки помогут вам правильно определить категорию.**"
      ]
    },
    {
      "cell_type": "code",
      "execution_count": 21,
      "id": "63909b83",
      "metadata": {
        "id": "63909b83"
      },
      "outputs": [],
      "source": [
        "# Создание функции для присвоения категорий целей взятия кредита\n",
        "def categorize_purpose(purpose):\n",
        "    if 'авто' in purpose:\n",
        "        return 'операции с автомобилем'\n",
        "    if 'жил' in purpose or 'недвиж' in purpose:\n",
        "        return 'операции с недвижимостью'\n",
        "    if 'свадьб' in purpose:\n",
        "        return 'проведение свадьбы'\n",
        "    if 'образован' in purpose:\n",
        "        return 'получение образования'"
      ]
    },
    {
      "cell_type": "code",
      "execution_count": 22,
      "id": "7cb4a81d",
      "metadata": {
        "id": "7cb4a81d"
      },
      "outputs": [],
      "source": [
        "# Применение функции и создание столбца с категориями целей взятия кредита\n",
        "data['purpose_category'] = data['purpose'].apply(categorize_purpose)"
      ]
    },
    {
      "cell_type": "markdown",
      "source": [
        "## Шаг 3. Исследуйте данные и ответьте на вопросы"
      ],
      "metadata": {
        "id": "z3YRegRWTzdM"
      },
      "id": "z3YRegRWTzdM"
    },
    {
      "cell_type": "markdown",
      "source": [
        "### 3.1 Есть ли зависимость между количеством детей и возвратом кредита в срок?"
      ],
      "metadata": {
        "id": "0J53RfanT-PH"
      },
      "id": "0J53RfanT-PH"
    },
    {
      "cell_type": "code",
      "source": [
        "# Создание сводной таблицы для подсчета количества должников и клиентов по количеству детей\n",
        "data_pivot = data.pivot_table(index='children', values='debt', aggfunc=['count', 'sum'])"
      ],
      "metadata": {
        "id": "ck4uxr9AUV4o"
      },
      "id": "ck4uxr9AUV4o",
      "execution_count": 23,
      "outputs": []
    },
    {
      "cell_type": "code",
      "source": [
        "# Рассчет процента должников и добавление его в таблицу\n",
        "data_pivot['%_debt'] = (data_pivot[('sum', 'debt')] / data_pivot[('count', 'debt')]) * 100"
      ],
      "metadata": {
        "id": "jxWkREi3UY6c"
      },
      "id": "jxWkREi3UY6c",
      "execution_count": 24,
      "outputs": []
    },
    {
      "cell_type": "code",
      "source": [
        "# Вывод сводной таблицы на экран\n",
        "data_pivot"
      ],
      "metadata": {
        "colab": {
          "base_uri": "https://localhost:8080/",
          "height": 300
        },
        "id": "AqXRwoAXUcWQ",
        "outputId": "a08ae1fb-39b6-4c3d-a68b-84bbb3cfb9d4"
      },
      "id": "AqXRwoAXUcWQ",
      "execution_count": 25,
      "outputs": [
        {
          "output_type": "execute_result",
          "data": {
            "text/plain": [
              "          count   sum    %_debt\n",
              "           debt  debt          \n",
              "children                       \n",
              "0         14091  1063  7.543822\n",
              "1          4808   444  9.234609\n",
              "2          2052   194  9.454191\n",
              "3           330    27  8.181818\n",
              "4            41     4  9.756098\n",
              "5             9     0  0.000000"
            ],
            "text/html": [
              "\n",
              "  <div id=\"df-13fac380-6211-4e0b-8b20-598bd043a92a\" class=\"colab-df-container\">\n",
              "    <div>\n",
              "<style scoped>\n",
              "    .dataframe tbody tr th:only-of-type {\n",
              "        vertical-align: middle;\n",
              "    }\n",
              "\n",
              "    .dataframe tbody tr th {\n",
              "        vertical-align: top;\n",
              "    }\n",
              "\n",
              "    .dataframe thead tr th {\n",
              "        text-align: left;\n",
              "    }\n",
              "\n",
              "    .dataframe thead tr:last-of-type th {\n",
              "        text-align: right;\n",
              "    }\n",
              "</style>\n",
              "<table border=\"1\" class=\"dataframe\">\n",
              "  <thead>\n",
              "    <tr>\n",
              "      <th></th>\n",
              "      <th>count</th>\n",
              "      <th>sum</th>\n",
              "      <th>%_debt</th>\n",
              "    </tr>\n",
              "    <tr>\n",
              "      <th></th>\n",
              "      <th>debt</th>\n",
              "      <th>debt</th>\n",
              "      <th></th>\n",
              "    </tr>\n",
              "    <tr>\n",
              "      <th>children</th>\n",
              "      <th></th>\n",
              "      <th></th>\n",
              "      <th></th>\n",
              "    </tr>\n",
              "  </thead>\n",
              "  <tbody>\n",
              "    <tr>\n",
              "      <th>0</th>\n",
              "      <td>14091</td>\n",
              "      <td>1063</td>\n",
              "      <td>7.543822</td>\n",
              "    </tr>\n",
              "    <tr>\n",
              "      <th>1</th>\n",
              "      <td>4808</td>\n",
              "      <td>444</td>\n",
              "      <td>9.234609</td>\n",
              "    </tr>\n",
              "    <tr>\n",
              "      <th>2</th>\n",
              "      <td>2052</td>\n",
              "      <td>194</td>\n",
              "      <td>9.454191</td>\n",
              "    </tr>\n",
              "    <tr>\n",
              "      <th>3</th>\n",
              "      <td>330</td>\n",
              "      <td>27</td>\n",
              "      <td>8.181818</td>\n",
              "    </tr>\n",
              "    <tr>\n",
              "      <th>4</th>\n",
              "      <td>41</td>\n",
              "      <td>4</td>\n",
              "      <td>9.756098</td>\n",
              "    </tr>\n",
              "    <tr>\n",
              "      <th>5</th>\n",
              "      <td>9</td>\n",
              "      <td>0</td>\n",
              "      <td>0.000000</td>\n",
              "    </tr>\n",
              "  </tbody>\n",
              "</table>\n",
              "</div>\n",
              "    <div class=\"colab-df-buttons\">\n",
              "\n",
              "  <div class=\"colab-df-container\">\n",
              "    <button class=\"colab-df-convert\" onclick=\"convertToInteractive('df-13fac380-6211-4e0b-8b20-598bd043a92a')\"\n",
              "            title=\"Convert this dataframe to an interactive table.\"\n",
              "            style=\"display:none;\">\n",
              "\n",
              "  <svg xmlns=\"http://www.w3.org/2000/svg\" height=\"24px\" viewBox=\"0 -960 960 960\">\n",
              "    <path d=\"M120-120v-720h720v720H120Zm60-500h600v-160H180v160Zm220 220h160v-160H400v160Zm0 220h160v-160H400v160ZM180-400h160v-160H180v160Zm440 0h160v-160H620v160ZM180-180h160v-160H180v160Zm440 0h160v-160H620v160Z\"/>\n",
              "  </svg>\n",
              "    </button>\n",
              "\n",
              "  <style>\n",
              "    .colab-df-container {\n",
              "      display:flex;\n",
              "      gap: 12px;\n",
              "    }\n",
              "\n",
              "    .colab-df-convert {\n",
              "      background-color: #E8F0FE;\n",
              "      border: none;\n",
              "      border-radius: 50%;\n",
              "      cursor: pointer;\n",
              "      display: none;\n",
              "      fill: #1967D2;\n",
              "      height: 32px;\n",
              "      padding: 0 0 0 0;\n",
              "      width: 32px;\n",
              "    }\n",
              "\n",
              "    .colab-df-convert:hover {\n",
              "      background-color: #E2EBFA;\n",
              "      box-shadow: 0px 1px 2px rgba(60, 64, 67, 0.3), 0px 1px 3px 1px rgba(60, 64, 67, 0.15);\n",
              "      fill: #174EA6;\n",
              "    }\n",
              "\n",
              "    .colab-df-buttons div {\n",
              "      margin-bottom: 4px;\n",
              "    }\n",
              "\n",
              "    [theme=dark] .colab-df-convert {\n",
              "      background-color: #3B4455;\n",
              "      fill: #D2E3FC;\n",
              "    }\n",
              "\n",
              "    [theme=dark] .colab-df-convert:hover {\n",
              "      background-color: #434B5C;\n",
              "      box-shadow: 0px 1px 3px 1px rgba(0, 0, 0, 0.15);\n",
              "      filter: drop-shadow(0px 1px 2px rgba(0, 0, 0, 0.3));\n",
              "      fill: #FFFFFF;\n",
              "    }\n",
              "  </style>\n",
              "\n",
              "    <script>\n",
              "      const buttonEl =\n",
              "        document.querySelector('#df-13fac380-6211-4e0b-8b20-598bd043a92a button.colab-df-convert');\n",
              "      buttonEl.style.display =\n",
              "        google.colab.kernel.accessAllowed ? 'block' : 'none';\n",
              "\n",
              "      async function convertToInteractive(key) {\n",
              "        const element = document.querySelector('#df-13fac380-6211-4e0b-8b20-598bd043a92a');\n",
              "        const dataTable =\n",
              "          await google.colab.kernel.invokeFunction('convertToInteractive',\n",
              "                                                    [key], {});\n",
              "        if (!dataTable) return;\n",
              "\n",
              "        const docLinkHtml = 'Like what you see? Visit the ' +\n",
              "          '<a target=\"_blank\" href=https://colab.research.google.com/notebooks/data_table.ipynb>data table notebook</a>'\n",
              "          + ' to learn more about interactive tables.';\n",
              "        element.innerHTML = '';\n",
              "        dataTable['output_type'] = 'display_data';\n",
              "        await google.colab.output.renderOutput(dataTable, element);\n",
              "        const docLink = document.createElement('div');\n",
              "        docLink.innerHTML = docLinkHtml;\n",
              "        element.appendChild(docLink);\n",
              "      }\n",
              "    </script>\n",
              "  </div>\n",
              "\n",
              "\n",
              "<div id=\"df-a8017025-033e-46dd-a716-2bd1009733a2\">\n",
              "  <button class=\"colab-df-quickchart\" onclick=\"quickchart('df-a8017025-033e-46dd-a716-2bd1009733a2')\"\n",
              "            title=\"Suggest charts\"\n",
              "            style=\"display:none;\">\n",
              "\n",
              "<svg xmlns=\"http://www.w3.org/2000/svg\" height=\"24px\"viewBox=\"0 0 24 24\"\n",
              "     width=\"24px\">\n",
              "    <g>\n",
              "        <path d=\"M19 3H5c-1.1 0-2 .9-2 2v14c0 1.1.9 2 2 2h14c1.1 0 2-.9 2-2V5c0-1.1-.9-2-2-2zM9 17H7v-7h2v7zm4 0h-2V7h2v10zm4 0h-2v-4h2v4z\"/>\n",
              "    </g>\n",
              "</svg>\n",
              "  </button>\n",
              "\n",
              "<style>\n",
              "  .colab-df-quickchart {\n",
              "      --bg-color: #E8F0FE;\n",
              "      --fill-color: #1967D2;\n",
              "      --hover-bg-color: #E2EBFA;\n",
              "      --hover-fill-color: #174EA6;\n",
              "      --disabled-fill-color: #AAA;\n",
              "      --disabled-bg-color: #DDD;\n",
              "  }\n",
              "\n",
              "  [theme=dark] .colab-df-quickchart {\n",
              "      --bg-color: #3B4455;\n",
              "      --fill-color: #D2E3FC;\n",
              "      --hover-bg-color: #434B5C;\n",
              "      --hover-fill-color: #FFFFFF;\n",
              "      --disabled-bg-color: #3B4455;\n",
              "      --disabled-fill-color: #666;\n",
              "  }\n",
              "\n",
              "  .colab-df-quickchart {\n",
              "    background-color: var(--bg-color);\n",
              "    border: none;\n",
              "    border-radius: 50%;\n",
              "    cursor: pointer;\n",
              "    display: none;\n",
              "    fill: var(--fill-color);\n",
              "    height: 32px;\n",
              "    padding: 0;\n",
              "    width: 32px;\n",
              "  }\n",
              "\n",
              "  .colab-df-quickchart:hover {\n",
              "    background-color: var(--hover-bg-color);\n",
              "    box-shadow: 0 1px 2px rgba(60, 64, 67, 0.3), 0 1px 3px 1px rgba(60, 64, 67, 0.15);\n",
              "    fill: var(--button-hover-fill-color);\n",
              "  }\n",
              "\n",
              "  .colab-df-quickchart-complete:disabled,\n",
              "  .colab-df-quickchart-complete:disabled:hover {\n",
              "    background-color: var(--disabled-bg-color);\n",
              "    fill: var(--disabled-fill-color);\n",
              "    box-shadow: none;\n",
              "  }\n",
              "\n",
              "  .colab-df-spinner {\n",
              "    border: 2px solid var(--fill-color);\n",
              "    border-color: transparent;\n",
              "    border-bottom-color: var(--fill-color);\n",
              "    animation:\n",
              "      spin 1s steps(1) infinite;\n",
              "  }\n",
              "\n",
              "  @keyframes spin {\n",
              "    0% {\n",
              "      border-color: transparent;\n",
              "      border-bottom-color: var(--fill-color);\n",
              "      border-left-color: var(--fill-color);\n",
              "    }\n",
              "    20% {\n",
              "      border-color: transparent;\n",
              "      border-left-color: var(--fill-color);\n",
              "      border-top-color: var(--fill-color);\n",
              "    }\n",
              "    30% {\n",
              "      border-color: transparent;\n",
              "      border-left-color: var(--fill-color);\n",
              "      border-top-color: var(--fill-color);\n",
              "      border-right-color: var(--fill-color);\n",
              "    }\n",
              "    40% {\n",
              "      border-color: transparent;\n",
              "      border-right-color: var(--fill-color);\n",
              "      border-top-color: var(--fill-color);\n",
              "    }\n",
              "    60% {\n",
              "      border-color: transparent;\n",
              "      border-right-color: var(--fill-color);\n",
              "    }\n",
              "    80% {\n",
              "      border-color: transparent;\n",
              "      border-right-color: var(--fill-color);\n",
              "      border-bottom-color: var(--fill-color);\n",
              "    }\n",
              "    90% {\n",
              "      border-color: transparent;\n",
              "      border-bottom-color: var(--fill-color);\n",
              "    }\n",
              "  }\n",
              "</style>\n",
              "\n",
              "  <script>\n",
              "    async function quickchart(key) {\n",
              "      const quickchartButtonEl =\n",
              "        document.querySelector('#' + key + ' button');\n",
              "      quickchartButtonEl.disabled = true;  // To prevent multiple clicks.\n",
              "      quickchartButtonEl.classList.add('colab-df-spinner');\n",
              "      try {\n",
              "        const charts = await google.colab.kernel.invokeFunction(\n",
              "            'suggestCharts', [key], {});\n",
              "      } catch (error) {\n",
              "        console.error('Error during call to suggestCharts:', error);\n",
              "      }\n",
              "      quickchartButtonEl.classList.remove('colab-df-spinner');\n",
              "      quickchartButtonEl.classList.add('colab-df-quickchart-complete');\n",
              "    }\n",
              "    (() => {\n",
              "      let quickchartButtonEl =\n",
              "        document.querySelector('#df-a8017025-033e-46dd-a716-2bd1009733a2 button');\n",
              "      quickchartButtonEl.style.display =\n",
              "        google.colab.kernel.accessAllowed ? 'block' : 'none';\n",
              "    })();\n",
              "  </script>\n",
              "</div>\n",
              "    </div>\n",
              "  </div>\n"
            ],
            "application/vnd.google.colaboratory.intrinsic+json": {
              "type": "dataframe",
              "variable_name": "data_pivot",
              "summary": "{\n  \"name\": \"data_pivot\",\n  \"rows\": 6,\n  \"fields\": [\n    {\n      \"column\": [\n        \"children\",\n        \"\"\n      ],\n      \"properties\": {\n        \"dtype\": \"number\",\n        \"std\": 1,\n        \"min\": 0,\n        \"max\": 5,\n        \"num_unique_values\": 6,\n        \"samples\": [\n          0,\n          1,\n          5\n        ],\n        \"semantic_type\": \"\",\n        \"description\": \"\"\n      }\n    },\n    {\n      \"column\": [\n        \"count\",\n        \"debt\"\n      ],\n      \"properties\": {\n        \"dtype\": \"number\",\n        \"std\": 5480,\n        \"min\": 9,\n        \"max\": 14091,\n        \"num_unique_values\": 6,\n        \"samples\": [\n          14091,\n          4808,\n          9\n        ],\n        \"semantic_type\": \"\",\n        \"description\": \"\"\n      }\n    },\n    {\n      \"column\": [\n        \"sum\",\n        \"debt\"\n      ],\n      \"properties\": {\n        \"dtype\": \"number\",\n        \"std\": 416,\n        \"min\": 0,\n        \"max\": 1063,\n        \"num_unique_values\": 6,\n        \"samples\": [\n          1063,\n          444,\n          0\n        ],\n        \"semantic_type\": \"\",\n        \"description\": \"\"\n      }\n    },\n    {\n      \"column\": [\n        \"%_debt\",\n        \"\"\n      ],\n      \"properties\": {\n        \"dtype\": \"number\",\n        \"std\": 3.7018869703020147,\n        \"min\": 0.0,\n        \"max\": 9.75609756097561,\n        \"num_unique_values\": 6,\n        \"samples\": [\n          7.543822297920659,\n          9.234608985024959,\n          0.0\n        ],\n        \"semantic_type\": \"\",\n        \"description\": \"\"\n      }\n    }\n  ]\n}"
            }
          },
          "metadata": {},
          "execution_count": 25
        }
      ]
    },
    {
      "cell_type": "markdown",
      "source": [
        "**Вывод:** Наблюдается тенденция к незначительному росту доли должников с увеличением количества детей."
      ],
      "metadata": {
        "id": "hHYr1QzcUtey"
      },
      "id": "hHYr1QzcUtey"
    },
    {
      "cell_type": "markdown",
      "source": [
        "### 3.2 Есть ли зависимость между семейным положением и возвратом кредита в срок?"
      ],
      "metadata": {
        "id": "yRaA8vdOU44B"
      },
      "id": "yRaA8vdOU44B"
    },
    {
      "cell_type": "code",
      "source": [
        "# Создание сводной таблицы для подсчета количества должников и клиентов в зависимости от семейного положения\n",
        "data_pivot = data.pivot_table(index='family_status', values='debt', aggfunc=['count', 'sum'])"
      ],
      "metadata": {
        "id": "xWjUTuJgVB-J"
      },
      "id": "xWjUTuJgVB-J",
      "execution_count": 26,
      "outputs": []
    },
    {
      "cell_type": "code",
      "source": [
        "# Рассчет процента должников и добавление его в таблицу\n",
        "data_pivot['%_debt'] = (data_pivot[('sum', 'debt')] / data_pivot[('count', 'debt')]) * 100"
      ],
      "metadata": {
        "id": "gnTf3EstVE6j"
      },
      "id": "gnTf3EstVE6j",
      "execution_count": 27,
      "outputs": []
    },
    {
      "cell_type": "code",
      "source": [
        "# Вывод сводной таблицы на экран\n",
        "data_pivot"
      ],
      "metadata": {
        "colab": {
          "base_uri": "https://localhost:8080/",
          "height": 269
        },
        "id": "EwR7IftqVHvS",
        "outputId": "c37b3ca6-d286-4d37-b8a7-5ddf7df43efa"
      },
      "id": "EwR7IftqVHvS",
      "execution_count": 28,
      "outputs": [
        {
          "output_type": "execute_result",
          "data": {
            "text/plain": [
              "                       count  sum    %_debt\n",
              "                        debt debt          \n",
              "family_status                              \n",
              "Не женат / не замужем   2796  273  9.763948\n",
              "в разводе               1189   84  7.064760\n",
              "вдовец / вдова           951   63  6.624606\n",
              "гражданский брак        4134  385  9.313014\n",
              "женат / замужем        12261  927  7.560558"
            ],
            "text/html": [
              "\n",
              "  <div id=\"df-0e772c0d-0e3e-4c11-965f-3bf1229a7c7c\" class=\"colab-df-container\">\n",
              "    <div>\n",
              "<style scoped>\n",
              "    .dataframe tbody tr th:only-of-type {\n",
              "        vertical-align: middle;\n",
              "    }\n",
              "\n",
              "    .dataframe tbody tr th {\n",
              "        vertical-align: top;\n",
              "    }\n",
              "\n",
              "    .dataframe thead tr th {\n",
              "        text-align: left;\n",
              "    }\n",
              "\n",
              "    .dataframe thead tr:last-of-type th {\n",
              "        text-align: right;\n",
              "    }\n",
              "</style>\n",
              "<table border=\"1\" class=\"dataframe\">\n",
              "  <thead>\n",
              "    <tr>\n",
              "      <th></th>\n",
              "      <th>count</th>\n",
              "      <th>sum</th>\n",
              "      <th>%_debt</th>\n",
              "    </tr>\n",
              "    <tr>\n",
              "      <th></th>\n",
              "      <th>debt</th>\n",
              "      <th>debt</th>\n",
              "      <th></th>\n",
              "    </tr>\n",
              "    <tr>\n",
              "      <th>family_status</th>\n",
              "      <th></th>\n",
              "      <th></th>\n",
              "      <th></th>\n",
              "    </tr>\n",
              "  </thead>\n",
              "  <tbody>\n",
              "    <tr>\n",
              "      <th>Не женат / не замужем</th>\n",
              "      <td>2796</td>\n",
              "      <td>273</td>\n",
              "      <td>9.763948</td>\n",
              "    </tr>\n",
              "    <tr>\n",
              "      <th>в разводе</th>\n",
              "      <td>1189</td>\n",
              "      <td>84</td>\n",
              "      <td>7.064760</td>\n",
              "    </tr>\n",
              "    <tr>\n",
              "      <th>вдовец / вдова</th>\n",
              "      <td>951</td>\n",
              "      <td>63</td>\n",
              "      <td>6.624606</td>\n",
              "    </tr>\n",
              "    <tr>\n",
              "      <th>гражданский брак</th>\n",
              "      <td>4134</td>\n",
              "      <td>385</td>\n",
              "      <td>9.313014</td>\n",
              "    </tr>\n",
              "    <tr>\n",
              "      <th>женат / замужем</th>\n",
              "      <td>12261</td>\n",
              "      <td>927</td>\n",
              "      <td>7.560558</td>\n",
              "    </tr>\n",
              "  </tbody>\n",
              "</table>\n",
              "</div>\n",
              "    <div class=\"colab-df-buttons\">\n",
              "\n",
              "  <div class=\"colab-df-container\">\n",
              "    <button class=\"colab-df-convert\" onclick=\"convertToInteractive('df-0e772c0d-0e3e-4c11-965f-3bf1229a7c7c')\"\n",
              "            title=\"Convert this dataframe to an interactive table.\"\n",
              "            style=\"display:none;\">\n",
              "\n",
              "  <svg xmlns=\"http://www.w3.org/2000/svg\" height=\"24px\" viewBox=\"0 -960 960 960\">\n",
              "    <path d=\"M120-120v-720h720v720H120Zm60-500h600v-160H180v160Zm220 220h160v-160H400v160Zm0 220h160v-160H400v160ZM180-400h160v-160H180v160Zm440 0h160v-160H620v160ZM180-180h160v-160H180v160Zm440 0h160v-160H620v160Z\"/>\n",
              "  </svg>\n",
              "    </button>\n",
              "\n",
              "  <style>\n",
              "    .colab-df-container {\n",
              "      display:flex;\n",
              "      gap: 12px;\n",
              "    }\n",
              "\n",
              "    .colab-df-convert {\n",
              "      background-color: #E8F0FE;\n",
              "      border: none;\n",
              "      border-radius: 50%;\n",
              "      cursor: pointer;\n",
              "      display: none;\n",
              "      fill: #1967D2;\n",
              "      height: 32px;\n",
              "      padding: 0 0 0 0;\n",
              "      width: 32px;\n",
              "    }\n",
              "\n",
              "    .colab-df-convert:hover {\n",
              "      background-color: #E2EBFA;\n",
              "      box-shadow: 0px 1px 2px rgba(60, 64, 67, 0.3), 0px 1px 3px 1px rgba(60, 64, 67, 0.15);\n",
              "      fill: #174EA6;\n",
              "    }\n",
              "\n",
              "    .colab-df-buttons div {\n",
              "      margin-bottom: 4px;\n",
              "    }\n",
              "\n",
              "    [theme=dark] .colab-df-convert {\n",
              "      background-color: #3B4455;\n",
              "      fill: #D2E3FC;\n",
              "    }\n",
              "\n",
              "    [theme=dark] .colab-df-convert:hover {\n",
              "      background-color: #434B5C;\n",
              "      box-shadow: 0px 1px 3px 1px rgba(0, 0, 0, 0.15);\n",
              "      filter: drop-shadow(0px 1px 2px rgba(0, 0, 0, 0.3));\n",
              "      fill: #FFFFFF;\n",
              "    }\n",
              "  </style>\n",
              "\n",
              "    <script>\n",
              "      const buttonEl =\n",
              "        document.querySelector('#df-0e772c0d-0e3e-4c11-965f-3bf1229a7c7c button.colab-df-convert');\n",
              "      buttonEl.style.display =\n",
              "        google.colab.kernel.accessAllowed ? 'block' : 'none';\n",
              "\n",
              "      async function convertToInteractive(key) {\n",
              "        const element = document.querySelector('#df-0e772c0d-0e3e-4c11-965f-3bf1229a7c7c');\n",
              "        const dataTable =\n",
              "          await google.colab.kernel.invokeFunction('convertToInteractive',\n",
              "                                                    [key], {});\n",
              "        if (!dataTable) return;\n",
              "\n",
              "        const docLinkHtml = 'Like what you see? Visit the ' +\n",
              "          '<a target=\"_blank\" href=https://colab.research.google.com/notebooks/data_table.ipynb>data table notebook</a>'\n",
              "          + ' to learn more about interactive tables.';\n",
              "        element.innerHTML = '';\n",
              "        dataTable['output_type'] = 'display_data';\n",
              "        await google.colab.output.renderOutput(dataTable, element);\n",
              "        const docLink = document.createElement('div');\n",
              "        docLink.innerHTML = docLinkHtml;\n",
              "        element.appendChild(docLink);\n",
              "      }\n",
              "    </script>\n",
              "  </div>\n",
              "\n",
              "\n",
              "<div id=\"df-eb9c1540-1107-4cb8-b6cb-4080c7dfef92\">\n",
              "  <button class=\"colab-df-quickchart\" onclick=\"quickchart('df-eb9c1540-1107-4cb8-b6cb-4080c7dfef92')\"\n",
              "            title=\"Suggest charts\"\n",
              "            style=\"display:none;\">\n",
              "\n",
              "<svg xmlns=\"http://www.w3.org/2000/svg\" height=\"24px\"viewBox=\"0 0 24 24\"\n",
              "     width=\"24px\">\n",
              "    <g>\n",
              "        <path d=\"M19 3H5c-1.1 0-2 .9-2 2v14c0 1.1.9 2 2 2h14c1.1 0 2-.9 2-2V5c0-1.1-.9-2-2-2zM9 17H7v-7h2v7zm4 0h-2V7h2v10zm4 0h-2v-4h2v4z\"/>\n",
              "    </g>\n",
              "</svg>\n",
              "  </button>\n",
              "\n",
              "<style>\n",
              "  .colab-df-quickchart {\n",
              "      --bg-color: #E8F0FE;\n",
              "      --fill-color: #1967D2;\n",
              "      --hover-bg-color: #E2EBFA;\n",
              "      --hover-fill-color: #174EA6;\n",
              "      --disabled-fill-color: #AAA;\n",
              "      --disabled-bg-color: #DDD;\n",
              "  }\n",
              "\n",
              "  [theme=dark] .colab-df-quickchart {\n",
              "      --bg-color: #3B4455;\n",
              "      --fill-color: #D2E3FC;\n",
              "      --hover-bg-color: #434B5C;\n",
              "      --hover-fill-color: #FFFFFF;\n",
              "      --disabled-bg-color: #3B4455;\n",
              "      --disabled-fill-color: #666;\n",
              "  }\n",
              "\n",
              "  .colab-df-quickchart {\n",
              "    background-color: var(--bg-color);\n",
              "    border: none;\n",
              "    border-radius: 50%;\n",
              "    cursor: pointer;\n",
              "    display: none;\n",
              "    fill: var(--fill-color);\n",
              "    height: 32px;\n",
              "    padding: 0;\n",
              "    width: 32px;\n",
              "  }\n",
              "\n",
              "  .colab-df-quickchart:hover {\n",
              "    background-color: var(--hover-bg-color);\n",
              "    box-shadow: 0 1px 2px rgba(60, 64, 67, 0.3), 0 1px 3px 1px rgba(60, 64, 67, 0.15);\n",
              "    fill: var(--button-hover-fill-color);\n",
              "  }\n",
              "\n",
              "  .colab-df-quickchart-complete:disabled,\n",
              "  .colab-df-quickchart-complete:disabled:hover {\n",
              "    background-color: var(--disabled-bg-color);\n",
              "    fill: var(--disabled-fill-color);\n",
              "    box-shadow: none;\n",
              "  }\n",
              "\n",
              "  .colab-df-spinner {\n",
              "    border: 2px solid var(--fill-color);\n",
              "    border-color: transparent;\n",
              "    border-bottom-color: var(--fill-color);\n",
              "    animation:\n",
              "      spin 1s steps(1) infinite;\n",
              "  }\n",
              "\n",
              "  @keyframes spin {\n",
              "    0% {\n",
              "      border-color: transparent;\n",
              "      border-bottom-color: var(--fill-color);\n",
              "      border-left-color: var(--fill-color);\n",
              "    }\n",
              "    20% {\n",
              "      border-color: transparent;\n",
              "      border-left-color: var(--fill-color);\n",
              "      border-top-color: var(--fill-color);\n",
              "    }\n",
              "    30% {\n",
              "      border-color: transparent;\n",
              "      border-left-color: var(--fill-color);\n",
              "      border-top-color: var(--fill-color);\n",
              "      border-right-color: var(--fill-color);\n",
              "    }\n",
              "    40% {\n",
              "      border-color: transparent;\n",
              "      border-right-color: var(--fill-color);\n",
              "      border-top-color: var(--fill-color);\n",
              "    }\n",
              "    60% {\n",
              "      border-color: transparent;\n",
              "      border-right-color: var(--fill-color);\n",
              "    }\n",
              "    80% {\n",
              "      border-color: transparent;\n",
              "      border-right-color: var(--fill-color);\n",
              "      border-bottom-color: var(--fill-color);\n",
              "    }\n",
              "    90% {\n",
              "      border-color: transparent;\n",
              "      border-bottom-color: var(--fill-color);\n",
              "    }\n",
              "  }\n",
              "</style>\n",
              "\n",
              "  <script>\n",
              "    async function quickchart(key) {\n",
              "      const quickchartButtonEl =\n",
              "        document.querySelector('#' + key + ' button');\n",
              "      quickchartButtonEl.disabled = true;  // To prevent multiple clicks.\n",
              "      quickchartButtonEl.classList.add('colab-df-spinner');\n",
              "      try {\n",
              "        const charts = await google.colab.kernel.invokeFunction(\n",
              "            'suggestCharts', [key], {});\n",
              "      } catch (error) {\n",
              "        console.error('Error during call to suggestCharts:', error);\n",
              "      }\n",
              "      quickchartButtonEl.classList.remove('colab-df-spinner');\n",
              "      quickchartButtonEl.classList.add('colab-df-quickchart-complete');\n",
              "    }\n",
              "    (() => {\n",
              "      let quickchartButtonEl =\n",
              "        document.querySelector('#df-eb9c1540-1107-4cb8-b6cb-4080c7dfef92 button');\n",
              "      quickchartButtonEl.style.display =\n",
              "        google.colab.kernel.accessAllowed ? 'block' : 'none';\n",
              "    })();\n",
              "  </script>\n",
              "</div>\n",
              "    </div>\n",
              "  </div>\n"
            ],
            "application/vnd.google.colaboratory.intrinsic+json": {
              "type": "dataframe",
              "variable_name": "data_pivot",
              "summary": "{\n  \"name\": \"data_pivot\",\n  \"rows\": 5,\n  \"fields\": [\n    {\n      \"column\": [\n        \"family_status\",\n        \"\"\n      ],\n      \"properties\": {\n        \"dtype\": \"string\",\n        \"num_unique_values\": 5,\n        \"samples\": [\n          \"\\u0432 \\u0440\\u0430\\u0437\\u0432\\u043e\\u0434\\u0435\",\n          \"\\u0436\\u0435\\u043d\\u0430\\u0442 / \\u0437\\u0430\\u043c\\u0443\\u0436\\u0435\\u043c\",\n          \"\\u0432\\u0434\\u043e\\u0432\\u0435\\u0446 / \\u0432\\u0434\\u043e\\u0432\\u0430\"\n        ],\n        \"semantic_type\": \"\",\n        \"description\": \"\"\n      }\n    },\n    {\n      \"column\": [\n        \"count\",\n        \"debt\"\n      ],\n      \"properties\": {\n        \"dtype\": \"number\",\n        \"std\": 4651,\n        \"min\": 951,\n        \"max\": 12261,\n        \"num_unique_values\": 5,\n        \"samples\": [\n          1189,\n          12261,\n          951\n        ],\n        \"semantic_type\": \"\",\n        \"description\": \"\"\n      }\n    },\n    {\n      \"column\": [\n        \"sum\",\n        \"debt\"\n      ],\n      \"properties\": {\n        \"dtype\": \"number\",\n        \"std\": 351,\n        \"min\": 63,\n        \"max\": 927,\n        \"num_unique_values\": 5,\n        \"samples\": [\n          84,\n          927,\n          63\n        ],\n        \"semantic_type\": \"\",\n        \"description\": \"\"\n      }\n    },\n    {\n      \"column\": [\n        \"%_debt\",\n        \"\"\n      ],\n      \"properties\": {\n        \"dtype\": \"number\",\n        \"std\": 1.3940625367939457,\n        \"min\": 6.624605678233439,\n        \"max\": 9.763948497854077,\n        \"num_unique_values\": 5,\n        \"samples\": [\n          7.064760302775442,\n          7.560557866405676,\n          6.624605678233439\n        ],\n        \"semantic_type\": \"\",\n        \"description\": \"\"\n      }\n    }\n  ]\n}"
            }
          },
          "metadata": {},
          "execution_count": 28
        }
      ]
    },
    {
      "cell_type": "markdown",
      "source": [
        "**Вывод:** Клиенты со статусом 'гражданский брак' и 'Не женат / не замужем' имеют более высокий процент должников. Таким образом люди, когда-либо состоявшие в браке, в среднем, лучше возвращают кредиты."
      ],
      "metadata": {
        "id": "JTN12Q8aVU_4"
      },
      "id": "JTN12Q8aVU_4"
    },
    {
      "cell_type": "markdown",
      "source": [
        "### 3.3 Есть ли зависимость между уровнем дохода и возвратом кредита в срок?"
      ],
      "metadata": {
        "id": "gR4K43S1WHEt"
      },
      "id": "gR4K43S1WHEt"
    },
    {
      "cell_type": "code",
      "source": [
        "# Создание сводной таблицы для подсчета количества должников и клиентов в зависимости от уровня дохода\n",
        "data_pivot = data.pivot_table(index='total_income_category', values='debt', aggfunc=['count', 'sum'])"
      ],
      "metadata": {
        "id": "47KX1ssSWL6W"
      },
      "id": "47KX1ssSWL6W",
      "execution_count": 29,
      "outputs": []
    },
    {
      "cell_type": "code",
      "source": [
        "# Рассчет процента должников и добавление его в таблицу\n",
        "data_pivot['%_debt'] = (data_pivot[('sum', 'debt')] / data_pivot[('count', 'debt')]) * 100"
      ],
      "metadata": {
        "id": "4t5E3wtwWOsF"
      },
      "id": "4t5E3wtwWOsF",
      "execution_count": 30,
      "outputs": []
    },
    {
      "cell_type": "code",
      "source": [
        "# Вывод сводной таблицы на экран\n",
        "data_pivot"
      ],
      "metadata": {
        "colab": {
          "base_uri": "https://localhost:8080/",
          "height": 269
        },
        "id": "n3sav71eWRL1",
        "outputId": "43e9c63a-aa0c-4891-9759-463d682d2870"
      },
      "id": "n3sav71eWRL1",
      "execution_count": 31,
      "outputs": [
        {
          "output_type": "execute_result",
          "data": {
            "text/plain": [
              "                       count   sum    %_debt\n",
              "                        debt  debt          \n",
              "total_income_category                       \n",
              "A                         25     2  8.000000\n",
              "B                       5014   354  7.060231\n",
              "C                      15921  1353  8.498210\n",
              "D                        349    21  6.017192\n",
              "E                         22     2  9.090909"
            ],
            "text/html": [
              "\n",
              "  <div id=\"df-77dc6c66-50f5-491a-b684-919e2015d76c\" class=\"colab-df-container\">\n",
              "    <div>\n",
              "<style scoped>\n",
              "    .dataframe tbody tr th:only-of-type {\n",
              "        vertical-align: middle;\n",
              "    }\n",
              "\n",
              "    .dataframe tbody tr th {\n",
              "        vertical-align: top;\n",
              "    }\n",
              "\n",
              "    .dataframe thead tr th {\n",
              "        text-align: left;\n",
              "    }\n",
              "\n",
              "    .dataframe thead tr:last-of-type th {\n",
              "        text-align: right;\n",
              "    }\n",
              "</style>\n",
              "<table border=\"1\" class=\"dataframe\">\n",
              "  <thead>\n",
              "    <tr>\n",
              "      <th></th>\n",
              "      <th>count</th>\n",
              "      <th>sum</th>\n",
              "      <th>%_debt</th>\n",
              "    </tr>\n",
              "    <tr>\n",
              "      <th></th>\n",
              "      <th>debt</th>\n",
              "      <th>debt</th>\n",
              "      <th></th>\n",
              "    </tr>\n",
              "    <tr>\n",
              "      <th>total_income_category</th>\n",
              "      <th></th>\n",
              "      <th></th>\n",
              "      <th></th>\n",
              "    </tr>\n",
              "  </thead>\n",
              "  <tbody>\n",
              "    <tr>\n",
              "      <th>A</th>\n",
              "      <td>25</td>\n",
              "      <td>2</td>\n",
              "      <td>8.000000</td>\n",
              "    </tr>\n",
              "    <tr>\n",
              "      <th>B</th>\n",
              "      <td>5014</td>\n",
              "      <td>354</td>\n",
              "      <td>7.060231</td>\n",
              "    </tr>\n",
              "    <tr>\n",
              "      <th>C</th>\n",
              "      <td>15921</td>\n",
              "      <td>1353</td>\n",
              "      <td>8.498210</td>\n",
              "    </tr>\n",
              "    <tr>\n",
              "      <th>D</th>\n",
              "      <td>349</td>\n",
              "      <td>21</td>\n",
              "      <td>6.017192</td>\n",
              "    </tr>\n",
              "    <tr>\n",
              "      <th>E</th>\n",
              "      <td>22</td>\n",
              "      <td>2</td>\n",
              "      <td>9.090909</td>\n",
              "    </tr>\n",
              "  </tbody>\n",
              "</table>\n",
              "</div>\n",
              "    <div class=\"colab-df-buttons\">\n",
              "\n",
              "  <div class=\"colab-df-container\">\n",
              "    <button class=\"colab-df-convert\" onclick=\"convertToInteractive('df-77dc6c66-50f5-491a-b684-919e2015d76c')\"\n",
              "            title=\"Convert this dataframe to an interactive table.\"\n",
              "            style=\"display:none;\">\n",
              "\n",
              "  <svg xmlns=\"http://www.w3.org/2000/svg\" height=\"24px\" viewBox=\"0 -960 960 960\">\n",
              "    <path d=\"M120-120v-720h720v720H120Zm60-500h600v-160H180v160Zm220 220h160v-160H400v160Zm0 220h160v-160H400v160ZM180-400h160v-160H180v160Zm440 0h160v-160H620v160ZM180-180h160v-160H180v160Zm440 0h160v-160H620v160Z\"/>\n",
              "  </svg>\n",
              "    </button>\n",
              "\n",
              "  <style>\n",
              "    .colab-df-container {\n",
              "      display:flex;\n",
              "      gap: 12px;\n",
              "    }\n",
              "\n",
              "    .colab-df-convert {\n",
              "      background-color: #E8F0FE;\n",
              "      border: none;\n",
              "      border-radius: 50%;\n",
              "      cursor: pointer;\n",
              "      display: none;\n",
              "      fill: #1967D2;\n",
              "      height: 32px;\n",
              "      padding: 0 0 0 0;\n",
              "      width: 32px;\n",
              "    }\n",
              "\n",
              "    .colab-df-convert:hover {\n",
              "      background-color: #E2EBFA;\n",
              "      box-shadow: 0px 1px 2px rgba(60, 64, 67, 0.3), 0px 1px 3px 1px rgba(60, 64, 67, 0.15);\n",
              "      fill: #174EA6;\n",
              "    }\n",
              "\n",
              "    .colab-df-buttons div {\n",
              "      margin-bottom: 4px;\n",
              "    }\n",
              "\n",
              "    [theme=dark] .colab-df-convert {\n",
              "      background-color: #3B4455;\n",
              "      fill: #D2E3FC;\n",
              "    }\n",
              "\n",
              "    [theme=dark] .colab-df-convert:hover {\n",
              "      background-color: #434B5C;\n",
              "      box-shadow: 0px 1px 3px 1px rgba(0, 0, 0, 0.15);\n",
              "      filter: drop-shadow(0px 1px 2px rgba(0, 0, 0, 0.3));\n",
              "      fill: #FFFFFF;\n",
              "    }\n",
              "  </style>\n",
              "\n",
              "    <script>\n",
              "      const buttonEl =\n",
              "        document.querySelector('#df-77dc6c66-50f5-491a-b684-919e2015d76c button.colab-df-convert');\n",
              "      buttonEl.style.display =\n",
              "        google.colab.kernel.accessAllowed ? 'block' : 'none';\n",
              "\n",
              "      async function convertToInteractive(key) {\n",
              "        const element = document.querySelector('#df-77dc6c66-50f5-491a-b684-919e2015d76c');\n",
              "        const dataTable =\n",
              "          await google.colab.kernel.invokeFunction('convertToInteractive',\n",
              "                                                    [key], {});\n",
              "        if (!dataTable) return;\n",
              "\n",
              "        const docLinkHtml = 'Like what you see? Visit the ' +\n",
              "          '<a target=\"_blank\" href=https://colab.research.google.com/notebooks/data_table.ipynb>data table notebook</a>'\n",
              "          + ' to learn more about interactive tables.';\n",
              "        element.innerHTML = '';\n",
              "        dataTable['output_type'] = 'display_data';\n",
              "        await google.colab.output.renderOutput(dataTable, element);\n",
              "        const docLink = document.createElement('div');\n",
              "        docLink.innerHTML = docLinkHtml;\n",
              "        element.appendChild(docLink);\n",
              "      }\n",
              "    </script>\n",
              "  </div>\n",
              "\n",
              "\n",
              "<div id=\"df-803d3d25-153d-4995-91bf-699bc8433ba9\">\n",
              "  <button class=\"colab-df-quickchart\" onclick=\"quickchart('df-803d3d25-153d-4995-91bf-699bc8433ba9')\"\n",
              "            title=\"Suggest charts\"\n",
              "            style=\"display:none;\">\n",
              "\n",
              "<svg xmlns=\"http://www.w3.org/2000/svg\" height=\"24px\"viewBox=\"0 0 24 24\"\n",
              "     width=\"24px\">\n",
              "    <g>\n",
              "        <path d=\"M19 3H5c-1.1 0-2 .9-2 2v14c0 1.1.9 2 2 2h14c1.1 0 2-.9 2-2V5c0-1.1-.9-2-2-2zM9 17H7v-7h2v7zm4 0h-2V7h2v10zm4 0h-2v-4h2v4z\"/>\n",
              "    </g>\n",
              "</svg>\n",
              "  </button>\n",
              "\n",
              "<style>\n",
              "  .colab-df-quickchart {\n",
              "      --bg-color: #E8F0FE;\n",
              "      --fill-color: #1967D2;\n",
              "      --hover-bg-color: #E2EBFA;\n",
              "      --hover-fill-color: #174EA6;\n",
              "      --disabled-fill-color: #AAA;\n",
              "      --disabled-bg-color: #DDD;\n",
              "  }\n",
              "\n",
              "  [theme=dark] .colab-df-quickchart {\n",
              "      --bg-color: #3B4455;\n",
              "      --fill-color: #D2E3FC;\n",
              "      --hover-bg-color: #434B5C;\n",
              "      --hover-fill-color: #FFFFFF;\n",
              "      --disabled-bg-color: #3B4455;\n",
              "      --disabled-fill-color: #666;\n",
              "  }\n",
              "\n",
              "  .colab-df-quickchart {\n",
              "    background-color: var(--bg-color);\n",
              "    border: none;\n",
              "    border-radius: 50%;\n",
              "    cursor: pointer;\n",
              "    display: none;\n",
              "    fill: var(--fill-color);\n",
              "    height: 32px;\n",
              "    padding: 0;\n",
              "    width: 32px;\n",
              "  }\n",
              "\n",
              "  .colab-df-quickchart:hover {\n",
              "    background-color: var(--hover-bg-color);\n",
              "    box-shadow: 0 1px 2px rgba(60, 64, 67, 0.3), 0 1px 3px 1px rgba(60, 64, 67, 0.15);\n",
              "    fill: var(--button-hover-fill-color);\n",
              "  }\n",
              "\n",
              "  .colab-df-quickchart-complete:disabled,\n",
              "  .colab-df-quickchart-complete:disabled:hover {\n",
              "    background-color: var(--disabled-bg-color);\n",
              "    fill: var(--disabled-fill-color);\n",
              "    box-shadow: none;\n",
              "  }\n",
              "\n",
              "  .colab-df-spinner {\n",
              "    border: 2px solid var(--fill-color);\n",
              "    border-color: transparent;\n",
              "    border-bottom-color: var(--fill-color);\n",
              "    animation:\n",
              "      spin 1s steps(1) infinite;\n",
              "  }\n",
              "\n",
              "  @keyframes spin {\n",
              "    0% {\n",
              "      border-color: transparent;\n",
              "      border-bottom-color: var(--fill-color);\n",
              "      border-left-color: var(--fill-color);\n",
              "    }\n",
              "    20% {\n",
              "      border-color: transparent;\n",
              "      border-left-color: var(--fill-color);\n",
              "      border-top-color: var(--fill-color);\n",
              "    }\n",
              "    30% {\n",
              "      border-color: transparent;\n",
              "      border-left-color: var(--fill-color);\n",
              "      border-top-color: var(--fill-color);\n",
              "      border-right-color: var(--fill-color);\n",
              "    }\n",
              "    40% {\n",
              "      border-color: transparent;\n",
              "      border-right-color: var(--fill-color);\n",
              "      border-top-color: var(--fill-color);\n",
              "    }\n",
              "    60% {\n",
              "      border-color: transparent;\n",
              "      border-right-color: var(--fill-color);\n",
              "    }\n",
              "    80% {\n",
              "      border-color: transparent;\n",
              "      border-right-color: var(--fill-color);\n",
              "      border-bottom-color: var(--fill-color);\n",
              "    }\n",
              "    90% {\n",
              "      border-color: transparent;\n",
              "      border-bottom-color: var(--fill-color);\n",
              "    }\n",
              "  }\n",
              "</style>\n",
              "\n",
              "  <script>\n",
              "    async function quickchart(key) {\n",
              "      const quickchartButtonEl =\n",
              "        document.querySelector('#' + key + ' button');\n",
              "      quickchartButtonEl.disabled = true;  // To prevent multiple clicks.\n",
              "      quickchartButtonEl.classList.add('colab-df-spinner');\n",
              "      try {\n",
              "        const charts = await google.colab.kernel.invokeFunction(\n",
              "            'suggestCharts', [key], {});\n",
              "      } catch (error) {\n",
              "        console.error('Error during call to suggestCharts:', error);\n",
              "      }\n",
              "      quickchartButtonEl.classList.remove('colab-df-spinner');\n",
              "      quickchartButtonEl.classList.add('colab-df-quickchart-complete');\n",
              "    }\n",
              "    (() => {\n",
              "      let quickchartButtonEl =\n",
              "        document.querySelector('#df-803d3d25-153d-4995-91bf-699bc8433ba9 button');\n",
              "      quickchartButtonEl.style.display =\n",
              "        google.colab.kernel.accessAllowed ? 'block' : 'none';\n",
              "    })();\n",
              "  </script>\n",
              "</div>\n",
              "    </div>\n",
              "  </div>\n"
            ],
            "application/vnd.google.colaboratory.intrinsic+json": {
              "type": "dataframe",
              "variable_name": "data_pivot",
              "summary": "{\n  \"name\": \"data_pivot\",\n  \"rows\": 5,\n  \"fields\": [\n    {\n      \"column\": [\n        \"total_income_category\",\n        \"\"\n      ],\n      \"properties\": {\n        \"dtype\": \"string\",\n        \"num_unique_values\": 5,\n        \"samples\": [\n          \"B\",\n          \"E\",\n          \"C\"\n        ],\n        \"semantic_type\": \"\",\n        \"description\": \"\"\n      }\n    },\n    {\n      \"column\": [\n        \"count\",\n        \"debt\"\n      ],\n      \"properties\": {\n        \"dtype\": \"number\",\n        \"std\": 6850,\n        \"min\": 22,\n        \"max\": 15921,\n        \"num_unique_values\": 5,\n        \"samples\": [\n          5014,\n          22,\n          15921\n        ],\n        \"semantic_type\": \"\",\n        \"description\": \"\"\n      }\n    },\n    {\n      \"column\": [\n        \"sum\",\n        \"debt\"\n      ],\n      \"properties\": {\n        \"dtype\": \"number\",\n        \"std\": 582,\n        \"min\": 2,\n        \"max\": 1353,\n        \"num_unique_values\": 4,\n        \"samples\": [\n          354,\n          21,\n          2\n        ],\n        \"semantic_type\": \"\",\n        \"description\": \"\"\n      }\n    },\n    {\n      \"column\": [\n        \"%_debt\",\n        \"\"\n      ],\n      \"properties\": {\n        \"dtype\": \"number\",\n        \"std\": 1.2142247173555298,\n        \"min\": 6.017191977077363,\n        \"max\": 9.090909090909092,\n        \"num_unique_values\": 5,\n        \"samples\": [\n          7.060231352213801,\n          9.090909090909092,\n          8.498209911437723\n        ],\n        \"semantic_type\": \"\",\n        \"description\": \"\"\n      }\n    }\n  ]\n}"
            }
          },
          "metadata": {},
          "execution_count": 31
        }
      ]
    },
    {
      "cell_type": "markdown",
      "source": [
        "**Вывод:** Клиенты, с низким (Е) и срединим (С) уровнем доходов имеют наибольшее количество просрочек."
      ],
      "metadata": {
        "id": "YJP0exBBWaAp"
      },
      "id": "YJP0exBBWaAp"
    },
    {
      "cell_type": "markdown",
      "source": [
        "### 3.4 Как разные цели кредита влияют на его возврат в срок?"
      ],
      "metadata": {
        "id": "M9SisXCAWiER"
      },
      "id": "M9SisXCAWiER"
    },
    {
      "cell_type": "code",
      "source": [
        "# Создание сводной таблицы для подсчета количества должников и клиентов в зависимости от цели кредита\n",
        "data_pivot = data.pivot_table(index='purpose_category', values='debt', aggfunc=['count', 'sum'])"
      ],
      "metadata": {
        "id": "oIe81zZLWmKB"
      },
      "id": "oIe81zZLWmKB",
      "execution_count": 32,
      "outputs": []
    },
    {
      "cell_type": "code",
      "source": [
        "# Рассчет процента должников и добавление его в таблицу\n",
        "data_pivot['%_debt'] = (data_pivot[('sum', 'debt')] / data_pivot[('count', 'debt')]) * 100"
      ],
      "metadata": {
        "id": "82xl_6DMWrm-"
      },
      "id": "82xl_6DMWrm-",
      "execution_count": 33,
      "outputs": []
    },
    {
      "cell_type": "code",
      "source": [
        "# Вывод сводной таблицы на экран\n",
        "data_pivot"
      ],
      "metadata": {
        "colab": {
          "base_uri": "https://localhost:8080/",
          "height": 238
        },
        "id": "uWJgWSc-WvXR",
        "outputId": "ab283a3f-96e3-44cc-baa7-21ff75f910d1"
      },
      "id": "uWJgWSc-WvXR",
      "execution_count": 34,
      "outputs": [
        {
          "output_type": "execute_result",
          "data": {
            "text/plain": [
              "                          count  sum    %_debt\n",
              "                           debt debt          \n",
              "purpose_category                              \n",
              "операции с автомобилем     4279  400  9.347978\n",
              "операции с недвижимостью  10751  780  7.255139\n",
              "получение образования      3988  369  9.252758\n",
              "проведение свадьбы         2313  183  7.911803"
            ],
            "text/html": [
              "\n",
              "  <div id=\"df-bbcb6e88-693e-4cf2-ae4a-8cc482778470\" class=\"colab-df-container\">\n",
              "    <div>\n",
              "<style scoped>\n",
              "    .dataframe tbody tr th:only-of-type {\n",
              "        vertical-align: middle;\n",
              "    }\n",
              "\n",
              "    .dataframe tbody tr th {\n",
              "        vertical-align: top;\n",
              "    }\n",
              "\n",
              "    .dataframe thead tr th {\n",
              "        text-align: left;\n",
              "    }\n",
              "\n",
              "    .dataframe thead tr:last-of-type th {\n",
              "        text-align: right;\n",
              "    }\n",
              "</style>\n",
              "<table border=\"1\" class=\"dataframe\">\n",
              "  <thead>\n",
              "    <tr>\n",
              "      <th></th>\n",
              "      <th>count</th>\n",
              "      <th>sum</th>\n",
              "      <th>%_debt</th>\n",
              "    </tr>\n",
              "    <tr>\n",
              "      <th></th>\n",
              "      <th>debt</th>\n",
              "      <th>debt</th>\n",
              "      <th></th>\n",
              "    </tr>\n",
              "    <tr>\n",
              "      <th>purpose_category</th>\n",
              "      <th></th>\n",
              "      <th></th>\n",
              "      <th></th>\n",
              "    </tr>\n",
              "  </thead>\n",
              "  <tbody>\n",
              "    <tr>\n",
              "      <th>операции с автомобилем</th>\n",
              "      <td>4279</td>\n",
              "      <td>400</td>\n",
              "      <td>9.347978</td>\n",
              "    </tr>\n",
              "    <tr>\n",
              "      <th>операции с недвижимостью</th>\n",
              "      <td>10751</td>\n",
              "      <td>780</td>\n",
              "      <td>7.255139</td>\n",
              "    </tr>\n",
              "    <tr>\n",
              "      <th>получение образования</th>\n",
              "      <td>3988</td>\n",
              "      <td>369</td>\n",
              "      <td>9.252758</td>\n",
              "    </tr>\n",
              "    <tr>\n",
              "      <th>проведение свадьбы</th>\n",
              "      <td>2313</td>\n",
              "      <td>183</td>\n",
              "      <td>7.911803</td>\n",
              "    </tr>\n",
              "  </tbody>\n",
              "</table>\n",
              "</div>\n",
              "    <div class=\"colab-df-buttons\">\n",
              "\n",
              "  <div class=\"colab-df-container\">\n",
              "    <button class=\"colab-df-convert\" onclick=\"convertToInteractive('df-bbcb6e88-693e-4cf2-ae4a-8cc482778470')\"\n",
              "            title=\"Convert this dataframe to an interactive table.\"\n",
              "            style=\"display:none;\">\n",
              "\n",
              "  <svg xmlns=\"http://www.w3.org/2000/svg\" height=\"24px\" viewBox=\"0 -960 960 960\">\n",
              "    <path d=\"M120-120v-720h720v720H120Zm60-500h600v-160H180v160Zm220 220h160v-160H400v160Zm0 220h160v-160H400v160ZM180-400h160v-160H180v160Zm440 0h160v-160H620v160ZM180-180h160v-160H180v160Zm440 0h160v-160H620v160Z\"/>\n",
              "  </svg>\n",
              "    </button>\n",
              "\n",
              "  <style>\n",
              "    .colab-df-container {\n",
              "      display:flex;\n",
              "      gap: 12px;\n",
              "    }\n",
              "\n",
              "    .colab-df-convert {\n",
              "      background-color: #E8F0FE;\n",
              "      border: none;\n",
              "      border-radius: 50%;\n",
              "      cursor: pointer;\n",
              "      display: none;\n",
              "      fill: #1967D2;\n",
              "      height: 32px;\n",
              "      padding: 0 0 0 0;\n",
              "      width: 32px;\n",
              "    }\n",
              "\n",
              "    .colab-df-convert:hover {\n",
              "      background-color: #E2EBFA;\n",
              "      box-shadow: 0px 1px 2px rgba(60, 64, 67, 0.3), 0px 1px 3px 1px rgba(60, 64, 67, 0.15);\n",
              "      fill: #174EA6;\n",
              "    }\n",
              "\n",
              "    .colab-df-buttons div {\n",
              "      margin-bottom: 4px;\n",
              "    }\n",
              "\n",
              "    [theme=dark] .colab-df-convert {\n",
              "      background-color: #3B4455;\n",
              "      fill: #D2E3FC;\n",
              "    }\n",
              "\n",
              "    [theme=dark] .colab-df-convert:hover {\n",
              "      background-color: #434B5C;\n",
              "      box-shadow: 0px 1px 3px 1px rgba(0, 0, 0, 0.15);\n",
              "      filter: drop-shadow(0px 1px 2px rgba(0, 0, 0, 0.3));\n",
              "      fill: #FFFFFF;\n",
              "    }\n",
              "  </style>\n",
              "\n",
              "    <script>\n",
              "      const buttonEl =\n",
              "        document.querySelector('#df-bbcb6e88-693e-4cf2-ae4a-8cc482778470 button.colab-df-convert');\n",
              "      buttonEl.style.display =\n",
              "        google.colab.kernel.accessAllowed ? 'block' : 'none';\n",
              "\n",
              "      async function convertToInteractive(key) {\n",
              "        const element = document.querySelector('#df-bbcb6e88-693e-4cf2-ae4a-8cc482778470');\n",
              "        const dataTable =\n",
              "          await google.colab.kernel.invokeFunction('convertToInteractive',\n",
              "                                                    [key], {});\n",
              "        if (!dataTable) return;\n",
              "\n",
              "        const docLinkHtml = 'Like what you see? Visit the ' +\n",
              "          '<a target=\"_blank\" href=https://colab.research.google.com/notebooks/data_table.ipynb>data table notebook</a>'\n",
              "          + ' to learn more about interactive tables.';\n",
              "        element.innerHTML = '';\n",
              "        dataTable['output_type'] = 'display_data';\n",
              "        await google.colab.output.renderOutput(dataTable, element);\n",
              "        const docLink = document.createElement('div');\n",
              "        docLink.innerHTML = docLinkHtml;\n",
              "        element.appendChild(docLink);\n",
              "      }\n",
              "    </script>\n",
              "  </div>\n",
              "\n",
              "\n",
              "<div id=\"df-e33d4909-7102-425a-bc74-46b1095f9af8\">\n",
              "  <button class=\"colab-df-quickchart\" onclick=\"quickchart('df-e33d4909-7102-425a-bc74-46b1095f9af8')\"\n",
              "            title=\"Suggest charts\"\n",
              "            style=\"display:none;\">\n",
              "\n",
              "<svg xmlns=\"http://www.w3.org/2000/svg\" height=\"24px\"viewBox=\"0 0 24 24\"\n",
              "     width=\"24px\">\n",
              "    <g>\n",
              "        <path d=\"M19 3H5c-1.1 0-2 .9-2 2v14c0 1.1.9 2 2 2h14c1.1 0 2-.9 2-2V5c0-1.1-.9-2-2-2zM9 17H7v-7h2v7zm4 0h-2V7h2v10zm4 0h-2v-4h2v4z\"/>\n",
              "    </g>\n",
              "</svg>\n",
              "  </button>\n",
              "\n",
              "<style>\n",
              "  .colab-df-quickchart {\n",
              "      --bg-color: #E8F0FE;\n",
              "      --fill-color: #1967D2;\n",
              "      --hover-bg-color: #E2EBFA;\n",
              "      --hover-fill-color: #174EA6;\n",
              "      --disabled-fill-color: #AAA;\n",
              "      --disabled-bg-color: #DDD;\n",
              "  }\n",
              "\n",
              "  [theme=dark] .colab-df-quickchart {\n",
              "      --bg-color: #3B4455;\n",
              "      --fill-color: #D2E3FC;\n",
              "      --hover-bg-color: #434B5C;\n",
              "      --hover-fill-color: #FFFFFF;\n",
              "      --disabled-bg-color: #3B4455;\n",
              "      --disabled-fill-color: #666;\n",
              "  }\n",
              "\n",
              "  .colab-df-quickchart {\n",
              "    background-color: var(--bg-color);\n",
              "    border: none;\n",
              "    border-radius: 50%;\n",
              "    cursor: pointer;\n",
              "    display: none;\n",
              "    fill: var(--fill-color);\n",
              "    height: 32px;\n",
              "    padding: 0;\n",
              "    width: 32px;\n",
              "  }\n",
              "\n",
              "  .colab-df-quickchart:hover {\n",
              "    background-color: var(--hover-bg-color);\n",
              "    box-shadow: 0 1px 2px rgba(60, 64, 67, 0.3), 0 1px 3px 1px rgba(60, 64, 67, 0.15);\n",
              "    fill: var(--button-hover-fill-color);\n",
              "  }\n",
              "\n",
              "  .colab-df-quickchart-complete:disabled,\n",
              "  .colab-df-quickchart-complete:disabled:hover {\n",
              "    background-color: var(--disabled-bg-color);\n",
              "    fill: var(--disabled-fill-color);\n",
              "    box-shadow: none;\n",
              "  }\n",
              "\n",
              "  .colab-df-spinner {\n",
              "    border: 2px solid var(--fill-color);\n",
              "    border-color: transparent;\n",
              "    border-bottom-color: var(--fill-color);\n",
              "    animation:\n",
              "      spin 1s steps(1) infinite;\n",
              "  }\n",
              "\n",
              "  @keyframes spin {\n",
              "    0% {\n",
              "      border-color: transparent;\n",
              "      border-bottom-color: var(--fill-color);\n",
              "      border-left-color: var(--fill-color);\n",
              "    }\n",
              "    20% {\n",
              "      border-color: transparent;\n",
              "      border-left-color: var(--fill-color);\n",
              "      border-top-color: var(--fill-color);\n",
              "    }\n",
              "    30% {\n",
              "      border-color: transparent;\n",
              "      border-left-color: var(--fill-color);\n",
              "      border-top-color: var(--fill-color);\n",
              "      border-right-color: var(--fill-color);\n",
              "    }\n",
              "    40% {\n",
              "      border-color: transparent;\n",
              "      border-right-color: var(--fill-color);\n",
              "      border-top-color: var(--fill-color);\n",
              "    }\n",
              "    60% {\n",
              "      border-color: transparent;\n",
              "      border-right-color: var(--fill-color);\n",
              "    }\n",
              "    80% {\n",
              "      border-color: transparent;\n",
              "      border-right-color: var(--fill-color);\n",
              "      border-bottom-color: var(--fill-color);\n",
              "    }\n",
              "    90% {\n",
              "      border-color: transparent;\n",
              "      border-bottom-color: var(--fill-color);\n",
              "    }\n",
              "  }\n",
              "</style>\n",
              "\n",
              "  <script>\n",
              "    async function quickchart(key) {\n",
              "      const quickchartButtonEl =\n",
              "        document.querySelector('#' + key + ' button');\n",
              "      quickchartButtonEl.disabled = true;  // To prevent multiple clicks.\n",
              "      quickchartButtonEl.classList.add('colab-df-spinner');\n",
              "      try {\n",
              "        const charts = await google.colab.kernel.invokeFunction(\n",
              "            'suggestCharts', [key], {});\n",
              "      } catch (error) {\n",
              "        console.error('Error during call to suggestCharts:', error);\n",
              "      }\n",
              "      quickchartButtonEl.classList.remove('colab-df-spinner');\n",
              "      quickchartButtonEl.classList.add('colab-df-quickchart-complete');\n",
              "    }\n",
              "    (() => {\n",
              "      let quickchartButtonEl =\n",
              "        document.querySelector('#df-e33d4909-7102-425a-bc74-46b1095f9af8 button');\n",
              "      quickchartButtonEl.style.display =\n",
              "        google.colab.kernel.accessAllowed ? 'block' : 'none';\n",
              "    })();\n",
              "  </script>\n",
              "</div>\n",
              "    </div>\n",
              "  </div>\n"
            ],
            "application/vnd.google.colaboratory.intrinsic+json": {
              "type": "dataframe",
              "variable_name": "data_pivot",
              "summary": "{\n  \"name\": \"data_pivot\",\n  \"rows\": 4,\n  \"fields\": [\n    {\n      \"column\": [\n        \"purpose_category\",\n        \"\"\n      ],\n      \"properties\": {\n        \"dtype\": \"string\",\n        \"num_unique_values\": 4,\n        \"samples\": [\n          \"\\u043e\\u043f\\u0435\\u0440\\u0430\\u0446\\u0438\\u0438 \\u0441 \\u043d\\u0435\\u0434\\u0432\\u0438\\u0436\\u0438\\u043c\\u043e\\u0441\\u0442\\u044c\\u044e\",\n          \"\\u043f\\u0440\\u043e\\u0432\\u0435\\u0434\\u0435\\u043d\\u0438\\u0435 \\u0441\\u0432\\u0430\\u0434\\u044c\\u0431\\u044b\",\n          \"\\u043e\\u043f\\u0435\\u0440\\u0430\\u0446\\u0438\\u0438 \\u0441 \\u0430\\u0432\\u0442\\u043e\\u043c\\u043e\\u0431\\u0438\\u043b\\u0435\\u043c\"\n        ],\n        \"semantic_type\": \"\",\n        \"description\": \"\"\n      }\n    },\n    {\n      \"column\": [\n        \"count\",\n        \"debt\"\n      ],\n      \"properties\": {\n        \"dtype\": \"number\",\n        \"std\": 3714,\n        \"min\": 2313,\n        \"max\": 10751,\n        \"num_unique_values\": 4,\n        \"samples\": [\n          10751,\n          2313,\n          4279\n        ],\n        \"semantic_type\": \"\",\n        \"description\": \"\"\n      }\n    },\n    {\n      \"column\": [\n        \"sum\",\n        \"debt\"\n      ],\n      \"properties\": {\n        \"dtype\": \"number\",\n        \"std\": 250,\n        \"min\": 183,\n        \"max\": 780,\n        \"num_unique_values\": 4,\n        \"samples\": [\n          780,\n          183,\n          400\n        ],\n        \"semantic_type\": \"\",\n        \"description\": \"\"\n      }\n    },\n    {\n      \"column\": [\n        \"%_debt\",\n        \"\"\n      ],\n      \"properties\": {\n        \"dtype\": \"number\",\n        \"std\": 1.0275981557096816,\n        \"min\": 7.255139056831923,\n        \"max\": 9.34797849964945,\n        \"num_unique_values\": 4,\n        \"samples\": [\n          7.255139056831923,\n          7.911802853437094,\n          9.34797849964945\n        ],\n        \"semantic_type\": \"\",\n        \"description\": \"\"\n      }\n    }\n  ]\n}"
            }
          },
          "metadata": {},
          "execution_count": 34
        }
      ]
    },
    {
      "cell_type": "markdown",
      "source": [
        "**Вывод:** Больше всего подвержены риску просрочки, кредиты связанные с образованием и операциями с автомобилями."
      ],
      "metadata": {
        "id": "YWPjE5fPW3lg"
      },
      "id": "YWPjE5fPW3lg"
    },
    {
      "cell_type": "markdown",
      "source": [
        "### 3.5 Приведите возможные причины появления пропусков в исходных данных."
      ],
      "metadata": {
        "id": "Y0NSVzJwW-eA"
      },
      "id": "Y0NSVzJwW-eA"
    },
    {
      "cell_type": "markdown",
      "source": [
        "*Ответ:* Данные могут быть пропущены по факту отсутствия информации - клиент может не указать свой трудовой стаж или доход в анкете. Проблемы при обновлении, выгрузке или хранении, могут также привести к их потере или повреждению."
      ],
      "metadata": {
        "id": "x_KutCOFXD5z"
      },
      "id": "x_KutCOFXD5z"
    },
    {
      "cell_type": "markdown",
      "source": [
        "### 3.6 Объясните, почему заполнить пропуски медианным значением — лучшее решение для количественных переменных."
      ],
      "metadata": {
        "id": "5_vlp1rGXKk_"
      },
      "id": "5_vlp1rGXKk_"
    },
    {
      "cell_type": "markdown",
      "source": [
        "*Ответ:* Заполнение пропусков медианным значением лучшее, потому что медиана это среднее значение, которое не зависит от выдающихся чисел в данных."
      ],
      "metadata": {
        "id": "EmJq9Dh1XQ_J"
      },
      "id": "EmJq9Dh1XQ_J"
    },
    {
      "cell_type": "markdown",
      "source": [
        "## Шаг 4. Общий вывод."
      ],
      "metadata": {
        "id": "boJOsLwmXWjU"
      },
      "id": "boJOsLwmXWjU"
    },
    {
      "cell_type": "markdown",
      "source": [
        "На этапе предобработки данных были выявлены следующие проблемы:\n",
        "- Отрицательные значения в столбце 'общий трудовой стаж в днях' (days_employed). Все отрицательные значения в этом стобце были заменены положительными.\n",
        "- Пропуски в столбцах 'ежемесячный доход' (total_income) и 'общий трудовой стаж в днях' (days_employed). Все пропуски были заполены медианными значениями.\n",
        "- Аномальные занчения в стобце 'количество детей в семье' (children). Строки с аномальными значениями были удалены.\n",
        "\n",
        "Также вещественный тип данных в столбце 'ежемесячный доход' (total_income) был заменен на целочисленный. Обработаны дубликаты в столбце 'уровень образования клиента' (education).\n",
        "\n",
        "Проведена категоризация данных по диапозонам из столбца 'ежемесячный доход' (total_income) и перечня уникальных целей взятия кредита из столбца 'цель получения кредита' (purpose).\n",
        "\n",
        "При исследовании данных получены результаты:\n",
        "- Наблюдается рост доли должников с увеличением количества детей в семье.\n",
        "- Клиенты не состоящие в официально узаконенных отношениях ранее и момент проведения иследования, имеют более высокий процент должников.\n",
        "- Клиенты, с низким (до 30.000 руб) и срединим (от 50.000 руб до 200.000 руб) уровнем доходов имеют наибольшее количество просрочек.\n",
        "- Кредиты взятые на образование и операциями с автомобилями более всего подвержены риску просрочки."
      ],
      "metadata": {
        "id": "1GbN6FYqXgUr"
      },
      "id": "1GbN6FYqXgUr"
    }
  ],
  "metadata": {
    "ExecuteTimeLog": [
      {
        "duration": 2,
        "start_time": "2024-04-17T08:37:08.957Z"
      },
      {
        "duration": 402,
        "start_time": "2024-04-17T08:37:19.688Z"
      },
      {
        "duration": 82,
        "start_time": "2024-04-17T08:37:20.665Z"
      },
      {
        "duration": 22,
        "start_time": "2024-04-17T08:37:50.429Z"
      },
      {
        "duration": 17,
        "start_time": "2024-04-17T08:38:31.971Z"
      },
      {
        "duration": 9,
        "start_time": "2024-04-17T08:46:36.738Z"
      },
      {
        "duration": 9,
        "start_time": "2024-04-17T08:49:32.425Z"
      },
      {
        "duration": 408,
        "start_time": "2024-04-17T08:49:56.477Z"
      },
      {
        "duration": 80,
        "start_time": "2024-04-17T08:49:56.989Z"
      },
      {
        "duration": 22,
        "start_time": "2024-04-17T08:49:58.110Z"
      },
      {
        "duration": 16,
        "start_time": "2024-04-17T08:50:03.097Z"
      },
      {
        "duration": 9,
        "start_time": "2024-04-17T08:50:07.989Z"
      },
      {
        "duration": 787,
        "start_time": "2024-04-17T08:51:38.952Z"
      },
      {
        "duration": 703,
        "start_time": "2024-04-17T08:52:37.366Z"
      },
      {
        "duration": 10,
        "start_time": "2024-04-17T08:54:28.526Z"
      },
      {
        "duration": 405,
        "start_time": "2024-04-17T09:06:14.349Z"
      },
      {
        "duration": 78,
        "start_time": "2024-04-17T09:06:15.199Z"
      },
      {
        "duration": 23,
        "start_time": "2024-04-17T09:06:16.748Z"
      },
      {
        "duration": 17,
        "start_time": "2024-04-17T09:06:18.141Z"
      },
      {
        "duration": 10,
        "start_time": "2024-04-17T09:06:21.762Z"
      },
      {
        "duration": 67,
        "start_time": "2024-04-17T09:14:08.018Z"
      },
      {
        "duration": 8,
        "start_time": "2024-04-17T09:24:26.562Z"
      },
      {
        "duration": 8,
        "start_time": "2024-04-17T09:28:00.876Z"
      },
      {
        "duration": 8,
        "start_time": "2024-04-17T09:31:20.135Z"
      },
      {
        "duration": 7,
        "start_time": "2024-04-17T09:34:56.222Z"
      },
      {
        "duration": 7,
        "start_time": "2024-04-17T09:37:39.114Z"
      },
      {
        "duration": 391,
        "start_time": "2024-04-17T09:38:06.205Z"
      },
      {
        "duration": 80,
        "start_time": "2024-04-17T09:38:06.598Z"
      },
      {
        "duration": 21,
        "start_time": "2024-04-17T09:38:06.680Z"
      },
      {
        "duration": 22,
        "start_time": "2024-04-17T09:38:06.703Z"
      },
      {
        "duration": 14,
        "start_time": "2024-04-17T09:38:06.727Z"
      },
      {
        "duration": 67,
        "start_time": "2024-04-17T09:38:14.013Z"
      },
      {
        "duration": 14,
        "start_time": "2024-04-17T09:40:50.228Z"
      },
      {
        "duration": 19,
        "start_time": "2024-04-17T10:11:14.066Z"
      },
      {
        "duration": 394,
        "start_time": "2024-04-17T10:12:46.119Z"
      },
      {
        "duration": 80,
        "start_time": "2024-04-17T10:12:46.515Z"
      },
      {
        "duration": 22,
        "start_time": "2024-04-17T10:12:46.596Z"
      },
      {
        "duration": 40,
        "start_time": "2024-04-17T10:12:46.619Z"
      },
      {
        "duration": 40,
        "start_time": "2024-04-17T10:12:46.661Z"
      },
      {
        "duration": 72,
        "start_time": "2024-04-17T10:12:50.217Z"
      },
      {
        "duration": 13,
        "start_time": "2024-04-17T10:13:12.312Z"
      },
      {
        "duration": 9,
        "start_time": "2024-04-17T10:26:03.554Z"
      },
      {
        "duration": 36,
        "start_time": "2024-04-17T10:26:51.244Z"
      },
      {
        "duration": 417,
        "start_time": "2024-04-18T15:48:23.030Z"
      },
      {
        "duration": 200,
        "start_time": "2024-04-18T15:48:23.449Z"
      },
      {
        "duration": 20,
        "start_time": "2024-04-18T15:48:23.651Z"
      },
      {
        "duration": 14,
        "start_time": "2024-04-18T15:48:23.673Z"
      },
      {
        "duration": 11,
        "start_time": "2024-04-18T15:48:23.689Z"
      },
      {
        "duration": 33,
        "start_time": "2024-04-18T15:48:26.827Z"
      },
      {
        "duration": 3,
        "start_time": "2024-04-18T15:58:03.766Z"
      },
      {
        "duration": 8,
        "start_time": "2024-04-18T16:13:22.699Z"
      },
      {
        "duration": 4,
        "start_time": "2024-04-18T16:23:36.116Z"
      },
      {
        "duration": 19,
        "start_time": "2024-04-18T16:29:59.504Z"
      },
      {
        "duration": 5,
        "start_time": "2024-04-18T16:30:43.056Z"
      },
      {
        "duration": 36,
        "start_time": "2024-04-18T16:38:17.308Z"
      },
      {
        "duration": 34,
        "start_time": "2024-04-18T16:39:33.429Z"
      },
      {
        "duration": 414,
        "start_time": "2024-04-18T16:39:53.953Z"
      },
      {
        "duration": 81,
        "start_time": "2024-04-18T16:39:54.369Z"
      },
      {
        "duration": 21,
        "start_time": "2024-04-18T16:39:54.452Z"
      },
      {
        "duration": 23,
        "start_time": "2024-04-18T16:39:54.475Z"
      },
      {
        "duration": 34,
        "start_time": "2024-04-18T16:39:54.500Z"
      },
      {
        "duration": 53,
        "start_time": "2024-04-18T16:39:54.536Z"
      },
      {
        "duration": 4,
        "start_time": "2024-04-18T16:39:54.590Z"
      },
      {
        "duration": 30,
        "start_time": "2024-04-18T16:39:54.595Z"
      },
      {
        "duration": 16,
        "start_time": "2024-04-18T16:39:54.626Z"
      },
      {
        "duration": 19,
        "start_time": "2024-04-18T16:39:54.644Z"
      },
      {
        "duration": 46,
        "start_time": "2024-04-18T16:39:54.664Z"
      },
      {
        "duration": 38,
        "start_time": "2024-04-18T16:39:57.366Z"
      },
      {
        "duration": 12,
        "start_time": "2024-04-18T16:42:02.005Z"
      },
      {
        "duration": 12,
        "start_time": "2024-04-18T16:58:49.219Z"
      },
      {
        "duration": 9,
        "start_time": "2024-04-18T16:59:50.691Z"
      },
      {
        "duration": 3,
        "start_time": "2024-04-18T17:03:11.316Z"
      },
      {
        "duration": 5,
        "start_time": "2024-04-18T17:03:21.264Z"
      },
      {
        "duration": 5,
        "start_time": "2024-04-18T17:05:11.529Z"
      },
      {
        "duration": 434,
        "start_time": "2024-04-18T17:08:15.231Z"
      },
      {
        "duration": 80,
        "start_time": "2024-04-18T17:08:15.667Z"
      },
      {
        "duration": 30,
        "start_time": "2024-04-18T17:08:15.749Z"
      },
      {
        "duration": 21,
        "start_time": "2024-04-18T17:08:15.781Z"
      },
      {
        "duration": 16,
        "start_time": "2024-04-18T17:08:15.806Z"
      },
      {
        "duration": 58,
        "start_time": "2024-04-18T17:08:15.824Z"
      },
      {
        "duration": 3,
        "start_time": "2024-04-18T17:08:15.884Z"
      },
      {
        "duration": 22,
        "start_time": "2024-04-18T17:08:15.888Z"
      },
      {
        "duration": 8,
        "start_time": "2024-04-18T17:08:15.911Z"
      },
      {
        "duration": 19,
        "start_time": "2024-04-18T17:08:15.920Z"
      },
      {
        "duration": 63,
        "start_time": "2024-04-18T17:08:15.941Z"
      },
      {
        "duration": 50,
        "start_time": "2024-04-18T17:08:16.006Z"
      },
      {
        "duration": 10,
        "start_time": "2024-04-18T17:08:16.058Z"
      },
      {
        "duration": 8,
        "start_time": "2024-04-18T17:08:16.070Z"
      },
      {
        "duration": 15,
        "start_time": "2024-04-18T17:08:16.079Z"
      },
      {
        "duration": 44,
        "start_time": "2024-04-18T17:08:16.096Z"
      },
      {
        "duration": 64,
        "start_time": "2024-04-18T17:08:18.731Z"
      },
      {
        "duration": 18,
        "start_time": "2024-04-18T17:08:54.857Z"
      },
      {
        "duration": 424,
        "start_time": "2024-04-18T17:09:09.656Z"
      },
      {
        "duration": 80,
        "start_time": "2024-04-18T17:09:10.082Z"
      },
      {
        "duration": 21,
        "start_time": "2024-04-18T17:09:10.163Z"
      },
      {
        "duration": 15,
        "start_time": "2024-04-18T17:09:10.186Z"
      },
      {
        "duration": 23,
        "start_time": "2024-04-18T17:09:10.203Z"
      },
      {
        "duration": 46,
        "start_time": "2024-04-18T17:09:10.227Z"
      },
      {
        "duration": 2,
        "start_time": "2024-04-18T17:09:10.275Z"
      },
      {
        "duration": 22,
        "start_time": "2024-04-18T17:09:10.279Z"
      },
      {
        "duration": 4,
        "start_time": "2024-04-18T17:09:10.302Z"
      },
      {
        "duration": 16,
        "start_time": "2024-04-18T17:09:10.309Z"
      },
      {
        "duration": 5,
        "start_time": "2024-04-18T17:09:10.326Z"
      },
      {
        "duration": 50,
        "start_time": "2024-04-18T17:09:10.332Z"
      },
      {
        "duration": 19,
        "start_time": "2024-04-18T17:09:10.384Z"
      },
      {
        "duration": 12,
        "start_time": "2024-04-18T17:09:10.405Z"
      },
      {
        "duration": 22,
        "start_time": "2024-04-18T17:09:10.419Z"
      },
      {
        "duration": 28,
        "start_time": "2024-04-18T17:09:10.443Z"
      },
      {
        "duration": 16,
        "start_time": "2024-04-18T17:09:15.737Z"
      },
      {
        "duration": 4,
        "start_time": "2024-04-18T17:44:01.923Z"
      },
      {
        "duration": 10,
        "start_time": "2024-04-18T17:48:51.440Z"
      },
      {
        "duration": 6,
        "start_time": "2024-04-18T17:59:35.990Z"
      },
      {
        "duration": 4,
        "start_time": "2024-04-18T21:05:33.231Z"
      },
      {
        "duration": 259,
        "start_time": "2024-04-18T21:05:35.229Z"
      },
      {
        "duration": 3,
        "start_time": "2024-04-18T21:06:21.809Z"
      },
      {
        "duration": 195,
        "start_time": "2024-04-18T21:06:23.379Z"
      },
      {
        "duration": 4,
        "start_time": "2024-04-18T21:11:41.540Z"
      },
      {
        "duration": 14,
        "start_time": "2024-04-18T21:11:43.214Z"
      }
    ],
    "colab": {
      "provenance": [],
      "toc_visible": true
    },
    "kernelspec": {
      "display_name": "Python 3 (ipykernel)",
      "language": "python",
      "name": "python3"
    },
    "language_info": {
      "codemirror_mode": {
        "name": "ipython",
        "version": 3
      },
      "file_extension": ".py",
      "mimetype": "text/x-python",
      "name": "python",
      "nbconvert_exporter": "python",
      "pygments_lexer": "ipython3",
      "version": "3.9.5"
    },
    "toc": {
      "base_numbering": 1,
      "nav_menu": {},
      "number_sections": true,
      "sideBar": true,
      "skip_h1_title": true,
      "title_cell": "Table of Contents",
      "title_sidebar": "Contents",
      "toc_cell": false,
      "toc_position": {},
      "toc_section_display": true,
      "toc_window_display": false
    }
  },
  "nbformat": 4,
  "nbformat_minor": 5
}